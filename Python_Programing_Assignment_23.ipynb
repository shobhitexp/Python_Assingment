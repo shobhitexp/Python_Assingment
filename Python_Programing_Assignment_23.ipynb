{
  "nbformat": 4,
  "nbformat_minor": 0,
  "metadata": {
    "colab": {
      "provenance": [],
      "authorship_tag": "ABX9TyOMPKJVy1UPyITGuEbJjwel",
      "include_colab_link": true
    },
    "kernelspec": {
      "name": "python3",
      "display_name": "Python 3"
    },
    "language_info": {
      "name": "python"
    }
  },
  "cells": [
    {
      "cell_type": "markdown",
      "metadata": {
        "id": "view-in-github",
        "colab_type": "text"
      },
      "source": [
        "<a href=\"https://colab.research.google.com/github/shobhitexp/Python_Assingments/blob/Python_Programing/Python_Programing_Assignment_23.ipynb\" target=\"_parent\"><img src=\"https://colab.research.google.com/assets/colab-badge.svg\" alt=\"Open In Colab\"/></a>"
      ]
    },
    {
      "cell_type": "markdown",
      "source": [
        "#Assignment_23"
      ],
      "metadata": {
        "id": "pscrCwl5ND3e"
      }
    },
    {
      "cell_type": "markdown",
      "source": [
        "Question 1\n",
        "Create a function that takes a number as an argument and returns True or False depending\n",
        "on whether the number is symmetrical or not. A number is symmetrical when it is the same as\n",
        "its reverse.\n",
        "######Examples\n",
        "######is_symmetrical(7227) ➞ True\n",
        "######is_symmetrical(12567) ➞ False\n",
        "######is_symmetrical(44444444) ➞ True\n",
        "######is_symmetrical(9939) ➞ False\n",
        "######is_symmetrical(1112111) ➞ True"
      ],
      "metadata": {
        "id": "--atQdyzBPkV"
      }
    },
    {
      "cell_type": "code",
      "execution_count": 6,
      "metadata": {
        "colab": {
          "base_uri": "https://localhost:8080/"
        },
        "id": "lCk0cV9nBPFg",
        "outputId": "8291e864-d51f-4666-b468-bf8b8e09eba2"
      },
      "outputs": [
        {
          "name": "stdout",
          "output_type": "stream",
          "text": [
            "Enter your value :- 12567\n"
          ]
        },
        {
          "output_type": "execute_result",
          "data": {
            "text/plain": [
              "False"
            ]
          },
          "metadata": {},
          "execution_count": 6
        }
      ],
      "source": [
        "def rev_check(val):\n",
        "  rval=val[::-1]\n",
        "  if val == rval:\n",
        "    return True\n",
        "\n",
        "  return False\n",
        "\n",
        "val=str(input(\"Enter your value :- \"))\n",
        "rev_check(val)"
      ]
    },
    {
      "cell_type": "markdown",
      "source": [
        "-------------\n",
        "Question 2\n",
        "Given a string of numbers separated by a comma and space, return the product of the\n",
        "numbers.\n",
        "######Examples\n",
        "######multiply_nums(&quot;2, 3&quot;) ➞ 6\n",
        "######multiply_nums(&quot;1, 2, 3, 4&quot;) ➞ 24\n",
        "######multiply_nums(&quot;54, 75, 453, 0&quot;) ➞ 0\n",
        "######multiply_nums(&quot;10, -2&quot;) ➞ -20"
      ],
      "metadata": {
        "id": "DF2RNbhhDFPJ"
      }
    },
    {
      "cell_type": "code",
      "source": [
        "def pro(ls):\n",
        "  res = 1\n",
        "  for i in range(0 , len(ls)):\n",
        "    res*=  ls[i]\n",
        "  return res\n",
        "ls=list(map(int,input(\"Enter your number :- \").strip().split(',')))\n",
        "pro(ls)"
      ],
      "metadata": {
        "colab": {
          "base_uri": "https://localhost:8080/"
        },
        "id": "tZLIN-I3CEpB",
        "outputId": "9a024cdf-45b4-43e5-82b0-9f68253b2fbe"
      },
      "execution_count": 22,
      "outputs": [
        {
          "name": "stdout",
          "output_type": "stream",
          "text": [
            "Enter your number :- 54, 75, 453, 0\n"
          ]
        },
        {
          "output_type": "execute_result",
          "data": {
            "text/plain": [
              "0"
            ]
          },
          "metadata": {},
          "execution_count": 22
        }
      ]
    },
    {
      "cell_type": "markdown",
      "source": [
        "------------\n",
        "Question 3\n",
        "Create a function that squares every digit of a number.\n",
        "######Examples\n",
        "######square_digits(9119) ➞ 811181\n",
        "######square_digits(2483) ➞ 416649\n",
        "######square_digits(3212) ➞ 9414\n",
        "######Notes\n",
        "The function receives an integer and must return an integer."
      ],
      "metadata": {
        "id": "c88K4egDFF8L"
      }
    },
    {
      "cell_type": "code",
      "source": [
        "def square(n):\n",
        "    if n < 0:\n",
        "        raise ValueError(\"Input must be a non-negative integer\")\n",
        "    if n == 0:\n",
        "        return 0\n",
        "    res = 0\n",
        "    position = 0\n",
        "    while n > 0:\n",
        "        digit = n % 10\n",
        "        squared_digit = digit ** 2\n",
        "        res += squared_digit * (10 ** position)\n",
        "        position += len(str(squared_digit))\n",
        "        n //= 10\n",
        "    return res\n",
        "\n",
        "num=int(input(\"Enter your value :- \"))\n",
        "square(num)\n"
      ],
      "metadata": {
        "colab": {
          "base_uri": "https://localhost:8080/"
        },
        "id": "5_piTb0oEINv",
        "outputId": "7ada33dc-ee6f-4a5b-89fb-018f03cefd52"
      },
      "execution_count": 21,
      "outputs": [
        {
          "name": "stdout",
          "output_type": "stream",
          "text": [
            "Enter your value :- 9119\n"
          ]
        },
        {
          "output_type": "execute_result",
          "data": {
            "text/plain": [
              "811181"
            ]
          },
          "metadata": {},
          "execution_count": 21
        }
      ]
    },
    {
      "cell_type": "markdown",
      "source": [
        "--------------\n",
        "Question 4\n",
        "Create a function that sorts a list and removes all duplicate items from it.\n",
        "######Examples\n",
        "######setify([1, 3, 3, 5, 5]) ➞ [1, 3, 5]\n",
        "######setify([4, 4, 4, 4]) ➞ [4]\n",
        "######setify([5, 7, 8, 9, 10, 15]) ➞ [5, 7, 8, 9, 10, 15]\n",
        "######setify([3, 3, 3, 2, 1]) ➞ [1, 2, 3]"
      ],
      "metadata": {
        "id": "VHGtprFZIwXC"
      }
    },
    {
      "cell_type": "code",
      "source": [
        "def sort(num):\n",
        "  num=list(set(num))\n",
        "  num.sort()\n",
        "  return num\n",
        "ls=list(map(int,input(\"Enter your number :- \").strip().split(',')))\n",
        "sort(ls)"
      ],
      "metadata": {
        "colab": {
          "base_uri": "https://localhost:8080/"
        },
        "id": "VUlTUK_HGRn6",
        "outputId": "19cf6f05-c276-43a2-a3a6-2d6f0e661bcc"
      },
      "execution_count": 26,
      "outputs": [
        {
          "name": "stdout",
          "output_type": "stream",
          "text": [
            "Enter your number :- 1,3,3,5,5\n"
          ]
        },
        {
          "output_type": "execute_result",
          "data": {
            "text/plain": [
              "[1, 3, 5]"
            ]
          },
          "metadata": {},
          "execution_count": 26
        }
      ]
    },
    {
      "cell_type": "markdown",
      "source": [
        "------------\n",
        "Question 5\n",
        "Create a function that returns the mean of all digits.\n",
        "######Examples\n",
        "######mean(42) ➞ 3\n",
        "######mean(12345) ➞ 3\n",
        "######mean(666) ➞ 6\n",
        "######Notes\n",
        " The mean of all digits is the sum of digits / how many digits there are (e.g. mean of digits in\n",
        "512 is (5+1+2)/3(number of digits) = 8/3=2).\n",
        "###### The mean will always be an integer."
      ],
      "metadata": {
        "id": "2XyaWMhKKQGw"
      }
    },
    {
      "cell_type": "code",
      "source": [
        "def mean(val):\n",
        "  res=0\n",
        "  for i in range(0,len(val)):\n",
        "    res+=val[i]\n",
        "  return int(res/len(val))\n",
        "\n",
        "val=int(input(\"Enter your value :- \"))\n",
        "re=list(map(int, str(val)))\n",
        "mean(re)"
      ],
      "metadata": {
        "colab": {
          "base_uri": "https://localhost:8080/"
        },
        "id": "7KLF4-PHIDCN",
        "outputId": "584ee0f2-9b4c-4063-8f98-6ec00ef2628e"
      },
      "execution_count": 31,
      "outputs": [
        {
          "name": "stdout",
          "output_type": "stream",
          "text": [
            "Enter your value :- 666\n"
          ]
        },
        {
          "output_type": "execute_result",
          "data": {
            "text/plain": [
              "6"
            ]
          },
          "metadata": {},
          "execution_count": 31
        }
      ]
    },
    {
      "cell_type": "markdown",
      "source": [
        "------------\n",
        "------------"
      ],
      "metadata": {
        "id": "yWfloYo8M0cW"
      }
    }
  ]
}