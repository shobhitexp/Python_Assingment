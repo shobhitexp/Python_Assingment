{
  "nbformat": 4,
  "nbformat_minor": 0,
  "metadata": {
    "colab": {
      "provenance": [],
      "authorship_tag": "ABX9TyPht2WVwKfd1DMAjJPbsDHo",
      "include_colab_link": true
    },
    "kernelspec": {
      "name": "python3",
      "display_name": "Python 3"
    },
    "language_info": {
      "name": "python"
    }
  },
  "cells": [
    {
      "cell_type": "markdown",
      "metadata": {
        "id": "view-in-github",
        "colab_type": "text"
      },
      "source": [
        "<a href=\"https://colab.research.google.com/github/shobhitexp/Python_Assingments/blob/Advance_python_assignments/Advance_python_09_.ipynb\" target=\"_parent\"><img src=\"https://colab.research.google.com/assets/colab-badge.svg\" alt=\"Open In Colab\"/></a>"
      ]
    },
    {
      "cell_type": "markdown",
      "source": [
        "##Assignment 09 Adv_python"
      ],
      "metadata": {
        "id": "N1Pn862bRZ9b"
      }
    },
    {
      "cell_type": "markdown",
      "source": [
        "Q1. In Python 3.X, what are the names and functions of string object types?\n",
        "######Answer :- Python string is a sequence of Unicode characters that is enclosed in quotation marks. In this article, we will discuss the in-built function i.e. the functions provided by Python to operate on strings.\n",
        "* Note: Every string method does not change the original string instead returns a new string with the changed attributes.\n",
        "\n",
        "######lower(): Converts all uppercase characters in a string into lowercase\n",
        "upper(): Converts all lowercase characters in a string into uppercase\n",
        "######title(): Convert string to title case\n",
        "swapcase(): Swap the cases of all characters in a string\n",
        "######capitalize(): Convert the first character of a string to uppercase"
      ],
      "metadata": {
        "id": "bSGmxgDpRfJl"
      }
    },
    {
      "cell_type": "markdown",
      "source": [
        "--------\n",
        "Q2. How do the string forms in Python 3.X vary in terms of operations?\n",
        "######Answer :- In Python 3.x, strings have different forms or representations, and they vary in terms of operations and capabilities. The main string forms include regular strings, bytes, and byte arrays. Each form has specific characteristics and is suited for different types of data and operations:\n",
        "\n",
        "Regular Strings (str):\n",
        "Regular strings in Python are Unicode strings represented by the built-in str class. They are used for representing text and support a wide range of operations for string manipulation, formatting, searching, and more.\n",
        "\n"
      ],
      "metadata": {
        "id": "aDxCrZYwSIgE"
      }
    },
    {
      "cell_type": "code",
      "execution_count": 4,
      "metadata": {
        "id": "MBYMcQWgRYB1"
      },
      "outputs": [],
      "source": [
        "text = \"Hello, world!\""
      ]
    },
    {
      "cell_type": "markdown",
      "source": [
        "Bytes in Python are sequences of bytes represented by the built-in bytes class. Bytes are used to handle binary data, such as file I/O or network communication. Byte strings are immutable and can hold values from 0 to 255.\n",
        "\n"
      ],
      "metadata": {
        "id": "UkRYtvKfSnP4"
      }
    },
    {
      "cell_type": "code",
      "source": [
        "binary_data = b'\\x48\\x65\\x6c\\x6c\\x6f'"
      ],
      "metadata": {
        "id": "lAscCGPrSpsw"
      },
      "execution_count": 2,
      "outputs": []
    },
    {
      "cell_type": "markdown",
      "source": [
        "Bytes support operations specific to binary data, like indexing and slicing, but do not support string methods like .split() or .replace() directly.\n",
        "\n",
        "Byte Arrays (bytearray):\n",
        "Byte arrays are mutable sequences of bytes represented by the built-in bytearray class. They are similar to bytes but allow in-place modifications. Byte arrays are useful when you need to modify binary data without creating a new object each time.\n",
        "\n"
      ],
      "metadata": {
        "id": "y7vBjsVGSsGJ"
      }
    },
    {
      "cell_type": "code",
      "source": [
        "binary_data = bytearray(b'\\x48\\x65\\x6c\\x6c\\x6f')"
      ],
      "metadata": {
        "id": "wNlMwBiwSvv6"
      },
      "execution_count": null,
      "outputs": []
    },
    {
      "cell_type": "markdown",
      "source": [
        "Byte arrays support both indexing and string-like methods for manipulation, making them more versatile for mutable binary data.\n",
        "\n",
        "The choice between regular strings, bytes, and byte arrays depends on the nature of your data and the operations you need to perform:\n",
        "\n",
        "Regular strings (str): Suitable for text-based data and general string operations.\n",
        "\n",
        "\n",
        "Bytes (bytes): Used for binary data, such as file I/O, network communication, and encoding/decoding operations.\n",
        "\n",
        "\n",
        "Byte arrays (bytearray): Similar to bytes but mutable, making them suitable for in-place modifications of binary data."
      ],
      "metadata": {
        "id": "RaXxbIJ-Sx3J"
      }
    },
    {
      "cell_type": "markdown",
      "source": [
        "--------------\n",
        "Q3. In 3.X, how do you put non-ASCII Unicode characters in a string?\n",
        "######Answer :- In Python 3.x, you can include non-ASCII Unicode characters in a string using Unicode escape sequences or by directly including the Unicode characters using their code points. Here are two common methods:\n",
        "\n",
        "Unicode Escape Sequences:\n",
        "\n"
      ],
      "metadata": {
        "id": "egvyM3aCS3o0"
      }
    },
    {
      "cell_type": "code",
      "source": [
        "s1 = \"Hello, \\u03A9\"\n",
        "s2 = \"Smiley face: \\U0001F604\""
      ],
      "metadata": {
        "id": "6NNTA77pTji9"
      },
      "execution_count": 6,
      "outputs": []
    },
    {
      "cell_type": "markdown",
      "source": [
        "Using Unicode Characters Directly:"
      ],
      "metadata": {
        "id": "MttgXfE0Tldp"
      }
    },
    {
      "cell_type": "code",
      "source": [
        "s3 = \"Currency symbol: €\"\n",
        "s4 = \"Japanese character: こんにちは\""
      ],
      "metadata": {
        "id": "Fv5JmUp5ToUD"
      },
      "execution_count": 5,
      "outputs": []
    },
    {
      "cell_type": "markdown",
      "source": [
        "-----------\n",
        "Q4. In Python 3.X, what are the key differences between text-mode and binary-mode files?\n",
        "######Answer :- In Python 3.x, when working with files, you have the option to open them in either text mode or binary mode. The choice between these modes depends on the type of data you're dealing with and the operations you want to perform. Here are the key differences between text-mode and binary-mode files:\n",
        "\n",
        "Text Mode:\n",
        "\n",
        "Encoding Handling: Text mode is used for working with text-based files, such as .txt files. When a file is opened in text mode, Python automatically handles character encoding and decoding, converting the bytes read from the file into Unicode strings and vice versa.\n",
        "\n",
        "Line Endings: In text mode, Python translates different platform-specific line endings (e.g., \\r\\n on Windows, \\n on Unix-like systems) to the universal newline character (\\n) when reading. Similarly, Python converts \\n back to the appropriate platform-specific line ending when writing.\n",
        "\n",
        "Human-Readable: Text mode files are human-readable, making it easy to view and edit their contents in a text editor.\n",
        "\n",
        "String Methods: You can use string methods directly on text mode file objects for reading and writing text data.\n",
        "\n",
        "Example Usage:\n",
        "\n",
        "\n",
        "\n",
        "\n"
      ],
      "metadata": {
        "id": "wIaHgFpUT1Pr"
      }
    },
    {
      "cell_type": "code",
      "source": [
        "with open('file.txt', 'r') as f:\n",
        "    content = f.read()\n"
      ],
      "metadata": {
        "id": "s98jSzVjTy2q"
      },
      "execution_count": null,
      "outputs": []
    },
    {
      "cell_type": "markdown",
      "source": [
        "Binary Mode:\n",
        "\n",
        "No Encoding Handling: Binary mode is used for working with binary data, such as images or audio files. In binary mode, the file is read or written as-is without any encoding or decoding.\n",
        "\n",
        "No Line Endings Translation: Binary mode does not perform any automatic translation of line endings. The bytes read and written are exact representations of the data in the file.\n",
        "\n",
        "Not Human-Readable: Binary mode files are not human-readable and typically contain non-textual data.\n",
        "\n",
        "Bytes Methods: Binary mode file objects use bytes methods for reading and writing binary data.\n",
        "\n",
        "Example Usage:\n",
        "\n"
      ],
      "metadata": {
        "id": "RsBfoRN9UVH1"
      }
    },
    {
      "cell_type": "code",
      "source": [
        "with open('image.jpg', 'rb') as f:\n",
        "    data = f.read()\n"
      ],
      "metadata": {
        "id": "QoarmrB1UZdP"
      },
      "execution_count": null,
      "outputs": []
    },
    {
      "cell_type": "markdown",
      "source": [
        "In summary, the key differences between text mode and binary mode files in Python 3.x are related to encoding handling, line endings translation, human-readability, and the methods used for reading and writing data. The mode you choose depends on the nature of your data and the operations you need to perform on the files.\n",
        "\n"
      ],
      "metadata": {
        "id": "0E_44JZpUbVN"
      }
    },
    {
      "cell_type": "markdown",
      "source": [
        "----------\n",
        "Q5. How can you interpret a Unicode text file containing text encoded in a different encoding than\n",
        "your platform&#39;s default?\n",
        "######Answer :- When you have a Unicode text file containing text encoded in a different encoding than your platform's default, you can use Python's open() function with the appropriate encoding parameter to correctly interpret and read the file's content.\n",
        "\n",
        "Determine the Encoding: First, you need to determine the encoding in which the Unicode text file is encoded. Common encodings include UTF-8, UTF-16, ISO-8859-1, etc. If you're unsure about the encoding, you might need to ask the source of the file or inspect it using tools that can detect encodings.\n",
        "\n",
        "Open the File with Specified Encoding:\n",
        "Use the open() function to open the file while specifying the correct encoding using the encoding parameter. This ensures that the content is decoded correctly as Unicode strings. You can then read the file's contents as usual."
      ],
      "metadata": {
        "id": "tqQt35k7UYpF"
      }
    },
    {
      "cell_type": "code",
      "source": [
        "file_path = 'unicode_file.txt'\n",
        "desired_encoding = 'utf-8'\n",
        "\n",
        "with open(file_path, 'r', encoding=desired_encoding) as f:\n",
        "    content = f.read()\n",
        "\n",
        "print(content)"
      ],
      "metadata": {
        "id": "Q7L8CGVEUvSd"
      },
      "execution_count": null,
      "outputs": []
    },
    {
      "cell_type": "markdown",
      "source": [
        "---------\n",
        "Q6. What is the best way to make a Unicode text file in a particular encoding format?\n",
        "######Answer :- To write a file in Unicode (UTF-8) encoding in Python, you can use the built-in open() function with the 'w' mode and specifying the encoding as \"utf-8\". Here's an example: with open(\"file. txt\", \"w\", encoding=\"utf-8\") as f: f."
      ],
      "metadata": {
        "id": "kkU5hkwiU6g9"
      }
    },
    {
      "cell_type": "markdown",
      "source": [
        "-----------\n",
        "Q7. What qualifies ASCII text as a form of Unicode text?\n",
        "######Answer :- ASCII is a proper subset of Unicode, which means that Unicode includes all the characters that can be encoded in ASCII, plus many more. So, while ASCII is useful for representing characters in the English language, Unicode is capable of representing a much wider range of characters in other languages and scripts."
      ],
      "metadata": {
        "id": "UyDLB0YZVHQE"
      }
    },
    {
      "cell_type": "markdown",
      "source": [
        "-------------\n",
        "Q8. How much of an effect does the change in string types in Python 3.X have on your code?\n",
        "######Answer :- The change in string types from Python 2 to Python 3, where strings are treated as Unicode by default in Python 3, can have a significant impact on your code, especially if your codebase was originally written in Python 2. The transition to Python 3 might require updates to ensure compatibility and proper handling of string data.\n",
        "\n",
        "Character Encoding and Decoding:\n",
        "\n",
        "\n",
        "Print Statements:\n",
        "\n",
        "\n",
        "Comparisons and Sorting:\n",
        "\n",
        "\n",
        "Input and Output:\n",
        "\n",
        "\n",
        "Regular Expressions:\n",
        "\n",
        "\n",
        "String Formatting:\n",
        "\n",
        "\n",
        "Byte and Text Handling:\n",
        "\n",
        "\n",
        "Library Compatibility:\n"
      ],
      "metadata": {
        "id": "DGcOcuwsVUVm"
      }
    },
    {
      "cell_type": "markdown",
      "source": [
        "-----------\n",
        "-----------"
      ],
      "metadata": {
        "id": "KtMjg1ytVwXF"
      }
    }
  ]
}