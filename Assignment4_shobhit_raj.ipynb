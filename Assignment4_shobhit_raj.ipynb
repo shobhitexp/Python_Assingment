{
  "nbformat": 4,
  "nbformat_minor": 0,
  "metadata": {
    "colab": {
      "provenance": []
    },
    "kernelspec": {
      "name": "python3",
      "display_name": "Python 3"
    },
    "language_info": {
      "name": "python"
    }
  },
  "cells": [
    {
      "cell_type": "markdown",
      "source": [
        "1. What exactly is []?"
      ],
      "metadata": {
        "id": "TRl-PJmweoqV"
      }
    },
    {
      "cell_type": "markdown",
      "source": [
        "Ans :\n",
        "In python it is pictorial representation of a data type called **list** '[ ]' which can contain more than one kind of data and called acording to their respective index value."
      ],
      "metadata": {
        "id": "riWIvd3vfNNE"
      }
    },
    {
      "cell_type": "code",
      "source": [
        "ls=[1,3.3,\"sudhansu sir\",\"Assignment\",4+4j]\n",
        "print(ls)\n",
        "for i in ls:\n",
        "  print(i)"
      ],
      "metadata": {
        "colab": {
          "base_uri": "https://localhost:8080/"
        },
        "id": "kMrZbEzaeqa_",
        "outputId": "54fe7ffc-2c6e-42e3-e1ee-22af4b6a4102"
      },
      "execution_count": 10,
      "outputs": [
        {
          "output_type": "stream",
          "name": "stdout",
          "text": [
            "[1, 3.3, 'sudhansu sir', 'Assignment', (4+4j)]\n",
            "1\n",
            "3.3\n",
            "sudhansu sir\n",
            "Assignment\n",
            "(4+4j)\n"
          ]
        }
      ]
    },
    {
      "cell_type": "markdown",
      "source": [
        "---"
      ],
      "metadata": {
        "id": "JJx0xGt1IsRH"
      }
    },
    {
      "cell_type": "markdown",
      "source": [
        "2. In a list of values stored in a variable called spam, how would you assign the value &#39;hello&#39; as the\n",
        "third value? (Assume [2, 4, 6, 8, 10] are in spam.)"
      ],
      "metadata": {
        "id": "GkDi2cwPiHRP"
      }
    },
    {
      "cell_type": "code",
      "source": [
        "spam=[2,4,6,8,10]\n",
        "spam[2]=\"Hello\"\n",
        "print(spam)"
      ],
      "metadata": {
        "colab": {
          "base_uri": "https://localhost:8080/"
        },
        "id": "KDnOlKHPhOWb",
        "outputId": "792b0aa8-ae82-42ff-e91e-cd69aa817653"
      },
      "execution_count": 16,
      "outputs": [
        {
          "output_type": "stream",
          "name": "stdout",
          "text": [
            "[2, 4, 'Hello', 8, 10]\n"
          ]
        }
      ]
    },
    {
      "cell_type": "markdown",
      "source": [
        "---"
      ],
      "metadata": {
        "id": "Deoaw0KMIq46"
      }
    },
    {
      "cell_type": "markdown",
      "source": [
        "3. What is the value of spam[int(int('3'*2) / 11)] ?"
      ],
      "metadata": {
        "id": "e1w6mvKujGxF"
      }
    },
    {
      "cell_type": "code",
      "source": [
        "spam[int(int('3'*2) / 11)] #'3'*2=33 / 11 then it get 3 and from 3 place of list spam is called which is equal to 8."
      ],
      "metadata": {
        "colab": {
          "base_uri": "https://localhost:8080/"
        },
        "id": "xK5AZid7jUWD",
        "outputId": "174293a5-e141-4614-9492-9a234b636da5"
      },
      "execution_count": 17,
      "outputs": [
        {
          "output_type": "execute_result",
          "data": {
            "text/plain": [
              "8"
            ]
          },
          "metadata": {},
          "execution_count": 17
        }
      ]
    },
    {
      "cell_type": "markdown",
      "source": [
        "---"
      ],
      "metadata": {
        "id": "2lvmOhuNIpeV"
      }
    },
    {
      "cell_type": "markdown",
      "source": [
        "4. What is the value of spam[-1]?"
      ],
      "metadata": {
        "id": "7LWd5aNNkAvw"
      }
    },
    {
      "cell_type": "code",
      "source": [
        "spam[-1] # spam[-1] give 10 because it coutnt list from reverse order."
      ],
      "metadata": {
        "colab": {
          "base_uri": "https://localhost:8080/"
        },
        "id": "61I9LVXWkCe6",
        "outputId": "2ea49a1f-1dcb-48d0-eabf-ae37fc37ce0b"
      },
      "execution_count": 19,
      "outputs": [
        {
          "output_type": "execute_result",
          "data": {
            "text/plain": [
              "10"
            ]
          },
          "metadata": {},
          "execution_count": 19
        }
      ]
    },
    {
      "cell_type": "markdown",
      "source": [
        "---"
      ],
      "metadata": {
        "id": "Rqhm-BT_ImeJ"
      }
    },
    {
      "cell_type": "markdown",
      "source": [
        "5. What is the value of spam[:2]?"
      ],
      "metadata": {
        "id": "SkjENvY4kVze"
      }
    },
    {
      "cell_type": "code",
      "source": [
        "spam[:2] # in list their is [start : stop : step to jump]"
      ],
      "metadata": {
        "colab": {
          "base_uri": "https://localhost:8080/"
        },
        "id": "SNenZQ2pkFRD",
        "outputId": "7bdbd32b-06a7-45a9-f8f5-fc0779f80460"
      },
      "execution_count": 20,
      "outputs": [
        {
          "output_type": "execute_result",
          "data": {
            "text/plain": [
              "[2, 4]"
            ]
          },
          "metadata": {},
          "execution_count": 20
        }
      ]
    },
    {
      "cell_type": "markdown",
      "source": [
        "---"
      ],
      "metadata": {
        "id": "EBNWJIMCIksK"
      }
    },
    {
      "cell_type": "markdown",
      "source": [
        "Let&#39;s pretend bacon has the list [3.14, &#39;cat,&#39; 11, &#39;cat,&#39; True] for the next three questions.\n",
        "6. What is the value of bacon.index(&#39;cat&#39;)?"
      ],
      "metadata": {
        "id": "GLw5mAwZlEs2"
      }
    },
    {
      "cell_type": "code",
      "source": [
        "bacon=[3.14, 'cat', 11, 'cat', True]\n",
        "print(bacon.index('cat')) # It give index of first fetched cat from left to right, because we use index function."
      ],
      "metadata": {
        "colab": {
          "base_uri": "https://localhost:8080/"
        },
        "id": "iv3TRuyukaNs",
        "outputId": "305b90b3-c8c6-4127-c374-f246133bd7a6"
      },
      "execution_count": 25,
      "outputs": [
        {
          "output_type": "stream",
          "name": "stdout",
          "text": [
            "1\n"
          ]
        }
      ]
    },
    {
      "cell_type": "markdown",
      "source": [
        "---"
      ],
      "metadata": {
        "id": "e-FD9Ka9Ih7p"
      }
    },
    {
      "cell_type": "markdown",
      "source": [
        "7. How does bacon.append(99) change the look of the list value in bacon?"
      ],
      "metadata": {
        "id": "mVqTv2f_mVkV"
      }
    },
    {
      "cell_type": "code",
      "source": [
        "bacon.append(99)\n",
        "print(bacon) # When we append any data into list without spacifing any index value then it goes to last of list thrn append."
      ],
      "metadata": {
        "colab": {
          "base_uri": "https://localhost:8080/"
        },
        "id": "uPJxsNsFldfc",
        "outputId": "21a34cfc-06ae-4614-d9b0-a524936986e3"
      },
      "execution_count": 26,
      "outputs": [
        {
          "output_type": "stream",
          "name": "stdout",
          "text": [
            "[3.14, 'cat', 11, 'cat', True, 99]\n"
          ]
        }
      ]
    },
    {
      "cell_type": "markdown",
      "source": [
        "---"
      ],
      "metadata": {
        "id": "-q3FpiVIIgCr"
      }
    },
    {
      "cell_type": "markdown",
      "source": [
        "8. How does bacon.remove(&#39;cat&#39;) change the look of the list in bacon?"
      ],
      "metadata": {
        "id": "m9pVUIpnm2HH"
      }
    },
    {
      "cell_type": "code",
      "source": [
        "bacon.remove('cat')\n",
        "print(bacon) # .remove command remove data when found while iterating."
      ],
      "metadata": {
        "colab": {
          "base_uri": "https://localhost:8080/"
        },
        "id": "Lsa0vuprnTM7",
        "outputId": "577fc936-7458-49d1-fedd-1cee7693ff29"
      },
      "execution_count": 28,
      "outputs": [
        {
          "output_type": "stream",
          "name": "stdout",
          "text": [
            "[3.14, 11, True, 99]\n"
          ]
        }
      ]
    },
    {
      "cell_type": "markdown",
      "source": [
        "---"
      ],
      "metadata": {
        "id": "das9ZK6dIdOM"
      }
    },
    {
      "cell_type": "markdown",
      "source": [
        "9. What are the list concatenation and list replication operators?"
      ],
      "metadata": {
        "id": "bEqOAmg5uRpr"
      }
    },
    {
      "cell_type": "markdown",
      "source": [
        "Answer :\n",
        "For the operator for list concatenation we use +, while the operator for replication we use *"
      ],
      "metadata": {
        "id": "O1OBIMfvufvf"
      }
    },
    {
      "cell_type": "code",
      "source": [
        "print(spam+bacon) # For the operator for list concatenation we use +"
      ],
      "metadata": {
        "colab": {
          "base_uri": "https://localhost:8080/"
        },
        "id": "GJlsYy8bnWRu",
        "outputId": "62638f59-103a-45d6-adae-99442e860893"
      },
      "execution_count": 29,
      "outputs": [
        {
          "output_type": "stream",
          "name": "stdout",
          "text": [
            "[2, 4, 'Hello', 8, 10, 3.14, 11, True, 99]\n"
          ]
        }
      ]
    },
    {
      "cell_type": "markdown",
      "source": [
        "---"
      ],
      "metadata": {
        "id": "veSflZpbIaEL"
      }
    },
    {
      "cell_type": "code",
      "source": [
        "print(spam*2) # while the operator for replication we use *\n",
        "print(bacon*2)"
      ],
      "metadata": {
        "colab": {
          "base_uri": "https://localhost:8080/"
        },
        "id": "qydTM-6nu9mg",
        "outputId": "2fa5c195-5fd7-4dd1-a95d-b2818141b785"
      },
      "execution_count": 32,
      "outputs": [
        {
          "output_type": "stream",
          "name": "stdout",
          "text": [
            "[2, 4, 'Hello', 8, 10, 2, 4, 'Hello', 8, 10]\n",
            "[3.14, 11, True, 99, 3.14, 11, True, 99]\n"
          ]
        }
      ]
    },
    {
      "cell_type": "markdown",
      "source": [
        "10. What is difference between the list methods append() and insert()?"
      ],
      "metadata": {
        "id": "iKQEeRZU3Tzo"
      }
    },
    {
      "cell_type": "markdown",
      "source": [
        "---"
      ],
      "metadata": {
        "id": "NAV1Dsc2IXcn"
      }
    },
    {
      "cell_type": "markdown",
      "source": [
        "Answer append() adds an item to the end of a list, whereas . insert() inserts and item in a specified position in the list."
      ],
      "metadata": {
        "id": "DLNLAZOU3UgY"
      }
    },
    {
      "cell_type": "markdown",
      "source": [
        "11. What are the two methods for removing items from a list?"
      ],
      "metadata": {
        "id": "doYj1G4fB-4E"
      }
    },
    {
      "cell_type": "markdown",
      "source": [
        "Answer : \n",
        "The methods are remove(), pop() and clear(). It helps to remove the very first given element matching from the list. The pop() method removes an element from the list based on the index given. The clear() method will remove all the elements present in the list."
      ],
      "metadata": {
        "id": "qxt1cnfoCtS8"
      }
    },
    {
      "cell_type": "markdown",
      "source": [
        "---"
      ],
      "metadata": {
        "id": "0FVRcjEXIWG_"
      }
    },
    {
      "cell_type": "markdown",
      "source": [
        "12. Describe how list values and string values are identical."
      ],
      "metadata": {
        "id": "vl-pbe8XC-sU"
      }
    },
    {
      "cell_type": "markdown",
      "source": [
        "Answer :\n",
        "The similarity between Lists and Strings in Python is that both are sequences. The differences between them are that firstly, Lists are mutable but Strings are immutable. Secondly, elements of a list can be of different types whereas a String only contains characters that are all of String type."
      ],
      "metadata": {
        "id": "YDByllykDCLm"
      }
    },
    {
      "cell_type": "markdown",
      "source": [
        "---"
      ],
      "metadata": {
        "id": "R-dfiY8UIRBv"
      }
    },
    {
      "cell_type": "markdown",
      "source": [
        "13. What&#39;s the difference between tuples and lists?"
      ],
      "metadata": {
        "id": "U_ceonZ8Da2g"
      }
    },
    {
      "cell_type": "markdown",
      "source": [
        "Answer :\n",
        "The primary difference between tuples and lists is that tuples are immutable as opposed to lists which are mutable. Therefore, it is possible to change a list but not a tuple."
      ],
      "metadata": {
        "id": "yfkOsgKMDcgg"
      }
    },
    {
      "cell_type": "markdown",
      "source": [
        "---"
      ],
      "metadata": {
        "id": "Dl5vsEi7ITuz"
      }
    },
    {
      "cell_type": "markdown",
      "source": [
        "14. How do you type a tuple value that only contains the integer 42?"
      ],
      "metadata": {
        "id": "2ah1UYOWDvLy"
      }
    },
    {
      "cell_type": "code",
      "source": [
        "tu=(42,)\n",
        "type(tu)"
      ],
      "metadata": {
        "colab": {
          "base_uri": "https://localhost:8080/"
        },
        "id": "erYbdQXyvAuS",
        "outputId": "656ebc25-7fda-46ad-e651-b3903392f90c"
      },
      "execution_count": 41,
      "outputs": [
        {
          "output_type": "execute_result",
          "data": {
            "text/plain": [
              "tuple"
            ]
          },
          "metadata": {},
          "execution_count": 41
        }
      ]
    },
    {
      "cell_type": "markdown",
      "source": [
        "---"
      ],
      "metadata": {
        "id": "42iEdLWGIJQY"
      }
    },
    {
      "cell_type": "markdown",
      "source": [
        "15. How do you get a list value&#39;s tuple form? How do you get a tuple value&#39;s list form?"
      ],
      "metadata": {
        "id": "vJ1sCJP5Ed5S"
      }
    },
    {
      "cell_type": "markdown",
      "source": [
        "Answer : \n",
        "An iterable can be passed as an input to the tuple () function, which will convert it to a tuple object. If you want to convert a Python list to a tuple, you can use the tuple() function to pass the full list as an argument, and it will return the tuple data type as an output."
      ],
      "metadata": {
        "id": "d3yxXswKEt0O"
      }
    },
    {
      "cell_type": "code",
      "source": [
        "ls=[1,2,3,4,5,6,7,8]\n",
        "print(ls)\n",
        "print(type(ls))\n",
        "#-----------converting list to tuple---------------\n",
        "ls=tuple(ls)\n",
        "print(ls)\n",
        "print(type(ls))\n",
        "#-----------converting tuple to list---------------\n",
        "ls=list(ls)\n",
        "print(ls)\n",
        "print(type(ls))"
      ],
      "metadata": {
        "colab": {
          "base_uri": "https://localhost:8080/"
        },
        "id": "LjDt4kMHD4g_",
        "outputId": "752979d3-a790-4864-bba6-e98935c682c1"
      },
      "execution_count": 46,
      "outputs": [
        {
          "output_type": "stream",
          "name": "stdout",
          "text": [
            "[1, 2, 3, 4, 5, 6, 7, 8]\n",
            "<class 'list'>\n",
            "(1, 2, 3, 4, 5, 6, 7, 8)\n",
            "<class 'tuple'>\n",
            "[1, 2, 3, 4, 5, 6, 7, 8]\n",
            "<class 'list'>\n"
          ]
        }
      ]
    },
    {
      "cell_type": "markdown",
      "source": [
        "---"
      ],
      "metadata": {
        "id": "ts5hPjy_IGyt"
      }
    },
    {
      "cell_type": "markdown",
      "source": [
        "16. Variables that &quot;contain&quot; list values are not necessarily lists themselves. Instead, what do they\n",
        "contain?"
      ],
      "metadata": {
        "id": "pa6eqyfnFqez"
      }
    },
    {
      "cell_type": "markdown",
      "source": [
        "Answer :\n",
        "Variables will contain references to list values rather than list values themselves. But for strings and integer values, variables simply contain the string or integer value.Python uses references whenever variables must store values of mutable data types, such as lists or dictionaries. For values of immutable data types such as strings, integers, or tuples, Python variables will store the value itself.\n",
        "\n",
        "\n",
        "---\n",
        "\n"
      ],
      "metadata": {
        "id": "_qfKzcjjGsKu"
      }
    },
    {
      "cell_type": "markdown",
      "source": [
        "17. How do you distinguish between copy.copy() and copy.deepcopy()?"
      ],
      "metadata": {
        "id": "s674zfGDHFNQ"
      }
    },
    {
      "cell_type": "markdown",
      "source": [
        "Answer : Although passing around references is often the handiest way to deal with lists and dictionaries, if the function modifies the list or dictionary that is passed, you may not want these changes in the original list or dictionary value. For this, Python provides a module named copy that provides both the copy() and deepcopy() functions. The first of these, copy.copy(), can be used to make a duplicate copy of a mutable value like a list or dictionary, not just a copy of a reference. In short copy() create reference to original object. If you change copied object - you change the original object. . deepcopy() creates new object and does real copying of original object to new one. Changing new deepcopied object doesn't affect original object."
      ],
      "metadata": {
        "id": "Af9oD5ItHIbk"
      }
    },
    {
      "cell_type": "code",
      "source": [
        "import copy\n",
        "li1 = [1, 2, [3, 5], 4]\n",
        "# using copy for shallow copy\n",
        "li2 = copy.copy(li1)\n",
        "print(\"li2 ID: \", id(li2), \"Value: \", li2)\n",
        "# using deepcopy for deepcopy\n",
        "li3 = copy.deepcopy(li1)\n",
        "print(\"li3 ID: \", id(li3), \"Value: \", li3)"
      ],
      "metadata": {
        "id": "hDA49dRyE9w1"
      },
      "execution_count": null,
      "outputs": []
    },
    {
      "cell_type": "markdown",
      "source": [
        "-----------------------------------------------------------------------------Thank you for giving assignment_SHOBHIT_RAJ---------------------------------------------------------------------------"
      ],
      "metadata": {
        "id": "z_-_-RqiIyK_"
      }
    },
    {
      "cell_type": "markdown",
      "source": [
        "---"
      ],
      "metadata": {
        "id": "Lt4M1ib6IBcG"
      }
    }
  ]
}