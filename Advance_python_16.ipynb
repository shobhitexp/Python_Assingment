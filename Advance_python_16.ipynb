{
  "nbformat": 4,
  "nbformat_minor": 0,
  "metadata": {
    "colab": {
      "provenance": [],
      "authorship_tag": "ABX9TyOcVVh4g7K2m3vGZcIbmFPS",
      "include_colab_link": true
    },
    "kernelspec": {
      "name": "python3",
      "display_name": "Python 3"
    },
    "language_info": {
      "name": "python"
    }
  },
  "cells": [
    {
      "cell_type": "markdown",
      "metadata": {
        "id": "view-in-github",
        "colab_type": "text"
      },
      "source": [
        "<a href=\"https://colab.research.google.com/github/shobhitexp/Python_Assingments/blob/Advance_python_assignments/Advance_python_16.ipynb\" target=\"_parent\"><img src=\"https://colab.research.google.com/assets/colab-badge.svg\" alt=\"Open In Colab\"/></a>"
      ]
    },
    {
      "cell_type": "markdown",
      "source": [
        "##Advance_python_16"
      ],
      "metadata": {
        "id": "QrKJSoNVhWX1"
      }
    },
    {
      "cell_type": "markdown",
      "source": [
        "Q1. What is the benefit of regular expressions?\n",
        "\n",
        "Answer :- The benefit of regular expressions is that they provide a powerful and flexible way to search, match, and manipulate text patterns in strings. They allow you to perform tasks such as pattern matching, text extraction, and text replacement efficiently. Regular expressions are versatile and widely used in tasks like data validation, text processing, and web scraping.\n",
        "\n"
      ],
      "metadata": {
        "id": "gVrgPqn5f0vz"
      }
    },
    {
      "cell_type": "markdown",
      "source": [
        "---------------------------\n",
        "Q2. Describe the difference between the effects of &quot;(ab)c+&quot; and &quot;a(bc)+.&quot; Which of these, if any, is the\n",
        "unqualified pattern &quot;abc+&quot;?\n",
        "\n",
        "\n",
        "Answer :- The regular expression \"(ab)c+\" matches a sequence of 'ab' followed by one or more 'c' characters. On the other hand, \"a(bc)+\" matches 'a' followed by one or more repetitions of 'bc'. Neither of these patterns is equivalent to the unqualified pattern \"abc+\" which simply matches 'a' followed by one or more 'b' characters followed by one 'c'.\n",
        "\n"
      ],
      "metadata": {
        "id": "IJX8QLFLg9Bm"
      }
    },
    {
      "cell_type": "code",
      "source": [
        "import re\n",
        "text = \"sudhansu sir krish nayak\"\n",
        "pattern1 = r\"(su)d+\"\n",
        "pattern2 = r\"s(savita)+\"\n",
        "pattern3 = r\"krish+\"\n",
        "print(re.search(pattern1, text))\n",
        "print(re.search(pattern2, text))\n",
        "print(re.search(pattern3, text))"
      ],
      "metadata": {
        "colab": {
          "base_uri": "https://localhost:8080/"
        },
        "id": "sJbB50nbh3Vj",
        "outputId": "6251f838-0acc-47ec-96db-41a52a529906"
      },
      "execution_count": 5,
      "outputs": [
        {
          "output_type": "stream",
          "name": "stdout",
          "text": [
            "<re.Match object; span=(0, 3), match='sud'>\n",
            "None\n",
            "<re.Match object; span=(13, 18), match='krish'>\n"
          ]
        }
      ]
    },
    {
      "cell_type": "markdown",
      "source": [
        "------------------------\n",
        "Q3. How much do you need to use the following sentence while using regular expressions?\n",
        "import re\n",
        "\n",
        "Answer :- You need to use the \"import re\" statement at the beginning of your Python script or program when using regular expressions. It imports the Python `re` module, which provides functions and classes for working with regular expressions.\n"
      ],
      "metadata": {
        "id": "4SbBxyGKhB0C"
      }
    },
    {
      "cell_type": "markdown",
      "source": [
        "\n",
        "----------------\n",
        "Q4. Which characters have special significance in square brackets when expressing a range, and under what circumstances?\n",
        "\n",
        "\n",
        "Answer :- In square brackets, the characters '-' (hyphen) and '^' (caret) have special significance when expressing a range:\n",
        "   - Hyphen '-' is used to specify a character range, e.g., [a-z] matches any lowercase letter from 'a' to 'z'.\n",
        "   - Caret '^' when placed as the first character inside square brackets, negates the character set, meaning it matches any character not in the set. For example, [^0-9] matches any character that is not a digit.\n"
      ],
      "metadata": {
        "id": "VkmqD9PkhGaK"
      }
    },
    {
      "cell_type": "markdown",
      "source": [
        "----------------------\n",
        "Q5. How does compiling a regular-expression object benefit you?\n",
        "\n",
        "Answer :- Compiling a regular-expression object using `re.compile()` provides performance benefits when you need to use the same pattern multiple times. It pre-processes the pattern and makes subsequent matching operations faster and more efficient because the compiled object can be reused.\n",
        "\n"
      ],
      "metadata": {
        "id": "r9_EpXGvhKYe"
      }
    },
    {
      "cell_type": "code",
      "source": [
        "pattern = re.compile(r\"I am studing at iNeuron and krish sir is best\")\n",
        "text = \"I am studing at iNeuron and krish sir is best\"\n",
        "match = pattern.search(text)\n",
        "print(match)"
      ],
      "metadata": {
        "colab": {
          "base_uri": "https://localhost:8080/"
        },
        "id": "-wCXfPcViF2W",
        "outputId": "31c69172-ecac-405e-89de-ec6eeaf4642e"
      },
      "execution_count": 13,
      "outputs": [
        {
          "output_type": "stream",
          "name": "stdout",
          "text": [
            "<re.Match object; span=(0, 45), match='I am studing at iNeuron and krish sir is best'>\n"
          ]
        }
      ]
    },
    {
      "cell_type": "markdown",
      "source": [
        "-------------------\n",
        "Q6. What are some examples of how to use the match object returned by re.match and re.search?\n",
        "\n",
        "Answer :- The match object returned by `re.match()` and `re.search()` allows you to access information about the matched pattern, including the matched text and position. Examples of usage include:\n",
        "   - Accessing the matched text with `match.group()`.\n",
        "   - Finding the starting and ending positions of the match using `match.start()` and `match.end()`.\n",
        "   - Extracting specific groups using `match.group(1)`, `match.group(2)`, etc., when capturing groups are defined in the pattern.\n"
      ],
      "metadata": {
        "id": "r8yu0BUHhM5K"
      }
    },
    {
      "cell_type": "code",
      "source": [
        "sen = \"The price is $50.00\"\n",
        "pattern = r\"\\$(\\d+\\.\\d{2})\"\n",
        "match = re.search(pattern, sen)\n",
        "if match:\n",
        "    print(match.group())\n",
        "    print(match.start())\n",
        "    print(match.end())\n",
        "    print(match.group(1))"
      ],
      "metadata": {
        "colab": {
          "base_uri": "https://localhost:8080/"
        },
        "id": "fh_MiYNsjOQ1",
        "outputId": "2b24c8fd-3794-4e17-9ade-ba45aa3bc0ff"
      },
      "execution_count": 21,
      "outputs": [
        {
          "output_type": "stream",
          "name": "stdout",
          "text": [
            "$50.00\n",
            "13\n",
            "19\n",
            "50.00\n"
          ]
        }
      ]
    },
    {
      "cell_type": "markdown",
      "source": [
        "----------------\n",
        "Q7. What is the difference between using a vertical bar (|) as an alteration and using square brackets as a character set?\n",
        "\n",
        "\n",
        "Answer :- Using a vertical bar (|) as an alteration in a regular expression allows you to match either of the patterns on its left or right side. Square brackets, on the other hand, define a character set where any one of the characters inside the brackets can be matched. Vertical bars provide a choice between entire patterns, while square brackets provide a choice between individual characters.\n"
      ],
      "metadata": {
        "id": "QG5s3u-dhQKm"
      }
    },
    {
      "cell_type": "code",
      "source": [
        "text = \"I love cats and dogs.\"\n",
        "pattern1 = r\"cats|dogs\"\n",
        "pattern2 = r\"[cd]ats\"\n",
        "print(re.search(pattern1, text))\n",
        "print(re.search(pattern2, text))"
      ],
      "metadata": {
        "colab": {
          "base_uri": "https://localhost:8080/"
        },
        "id": "m0v9w6bR7Vkh",
        "outputId": "8992a5f0-d009-4eec-de02-22d64a93a3b1"
      },
      "execution_count": 22,
      "outputs": [
        {
          "output_type": "stream",
          "name": "stdout",
          "text": [
            "<re.Match object; span=(7, 11), match='cats'>\n",
            "<re.Match object; span=(7, 11), match='cats'>\n"
          ]
        }
      ]
    },
    {
      "cell_type": "markdown",
      "source": [
        "---------------\n",
        "Q8. In regular-expression search patterns, why is it necessary to use the raw-string indicator (r)? In  replacement strings?\n",
        "\n",
        "Answer :- In regular-expression search patterns, it is necessary to use the raw-string indicator (r) to indicate that the string should be treated as a raw string. This is important because raw strings do not escape backslashes, which is crucial when dealing with regular expression metacharacters. In replacement strings, using the raw-string indicator is not necessary unless you want to avoid escaping backslashes in the replacement text, making the replacement string easier to read and less error-prone."
      ],
      "metadata": {
        "id": "Jmde38vthSeR"
      }
    },
    {
      "cell_type": "code",
      "source": [
        "text = \"Hello, iNeuron!\"\n",
        "pattern = r\"Hello, (\\w+)!\"\n",
        "replacement = r\"Thank you, \\1!\"\n",
        "new_text = re.sub(pattern, replacement, text)\n",
        "print(new_text)"
      ],
      "metadata": {
        "colab": {
          "base_uri": "https://localhost:8080/"
        },
        "id": "t7ahWZ8k7ie2",
        "outputId": "3f023284-8d1b-4115-b891-174b9e8f6a40"
      },
      "execution_count": 25,
      "outputs": [
        {
          "output_type": "stream",
          "name": "stdout",
          "text": [
            "Thank you, iNeuron!\n"
          ]
        }
      ]
    }
  ]
}