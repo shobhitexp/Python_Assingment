{
  "nbformat": 4,
  "nbformat_minor": 0,
  "metadata": {
    "colab": {
      "provenance": [],
      "authorship_tag": "ABX9TyN9jVMa+WzgNnA6zqR++gBz",
      "include_colab_link": true
    },
    "kernelspec": {
      "name": "python3",
      "display_name": "Python 3"
    },
    "language_info": {
      "name": "python"
    }
  },
  "cells": [
    {
      "cell_type": "markdown",
      "metadata": {
        "id": "view-in-github",
        "colab_type": "text"
      },
      "source": [
        "<a href=\"https://colab.research.google.com/github/shobhitexp/Python_Assingments/blob/Advance_python_assignments/Advance_python_14.ipynb\" target=\"_parent\"><img src=\"https://colab.research.google.com/assets/colab-badge.svg\" alt=\"Open In Colab\"/></a>"
      ]
    },
    {
      "cell_type": "markdown",
      "source": [
        "##Advance_python_14"
      ],
      "metadata": {
        "id": "n_E4PUPTwf2G"
      }
    },
    {
      "cell_type": "markdown",
      "source": [
        "Q1. Is an assignment operator like += only for show? Is it possible that it would lead to faster results\n",
        "at the runtime?\n",
        "\n",
        "Answer :- The primary advantage of using += over the separate addition and assignment is that it can be more efficient in terms of both performance and memory usage, especially when dealing with mutable objects like lists. When you use +=, Python can optimize the operation in certain cases and potentially avoid unnecessary object creation or copying.\n",
        "\n"
      ],
      "metadata": {
        "id": "QxxOmR5lXA9O"
      }
    },
    {
      "cell_type": "code",
      "execution_count": null,
      "metadata": {
        "id": "PQW8wzK3Uuhb"
      },
      "outputs": [],
      "source": [
        "x = 10\n",
        "x += 5\n",
        "x = x + 5"
      ]
    },
    {
      "cell_type": "markdown",
      "source": [
        "-------------------\n",
        "Q2. What is the smallest number of statements you&#39;d have to write in most programming languages to replace the Python expression a, b = a + b, a?\n",
        "\n",
        "Answer :- Python expression a, b = a + b, a is swapping the values of variables a and b. It's a form of tuple unpacking.\n"
      ],
      "metadata": {
        "id": "3HQ38K38XPL2"
      }
    },
    {
      "cell_type": "markdown",
      "source": [
        "-----------------\n",
        "Q3. In Python, what is the most effective way to set a list of 100 integers to 0?"
      ],
      "metadata": {
        "id": "zlRmceXUa2me"
      }
    },
    {
      "cell_type": "code",
      "source": [
        "ls=[0]*100\n",
        "print(ls)"
      ],
      "metadata": {
        "colab": {
          "base_uri": "https://localhost:8080/"
        },
        "id": "gB6m2ly3XNf3",
        "outputId": "17e57c5a-660f-4ff1-c755-275acb0cb8b6"
      },
      "execution_count": null,
      "outputs": [
        {
          "output_type": "stream",
          "name": "stdout",
          "text": [
            "[0, 0, 0, 0, 0, 0, 0, 0, 0, 0, 0, 0, 0, 0, 0, 0, 0, 0, 0, 0, 0, 0, 0, 0, 0, 0, 0, 0, 0, 0, 0, 0, 0, 0, 0, 0, 0, 0, 0, 0, 0, 0, 0, 0, 0, 0, 0, 0, 0, 0, 0, 0, 0, 0, 0, 0, 0, 0, 0, 0, 0, 0, 0, 0, 0, 0, 0, 0, 0, 0, 0, 0, 0, 0, 0, 0, 0, 0, 0, 0, 0, 0, 0, 0, 0, 0, 0, 0, 0, 0, 0, 0, 0, 0, 0, 0, 0, 0, 0, 0]\n"
          ]
        }
      ]
    },
    {
      "cell_type": "markdown",
      "source": [
        "----------------\n",
        "Q4. What is the most effective way to initialise a list of 99 integers that repeats the sequence 1, 2, 3? S If necessary, show step-by-step instructions on how to accomplish this."
      ],
      "metadata": {
        "id": "I4AfhrTGb0Fy"
      }
    },
    {
      "cell_type": "code",
      "source": [
        "l=[1,2,3]\n",
        "l=l*(99//len(l))\n",
        "print(l)\n",
        "print(len(l))"
      ],
      "metadata": {
        "colab": {
          "base_uri": "https://localhost:8080/"
        },
        "id": "PjHC5oqrbGTD",
        "outputId": "a5be651d-486a-44f8-8c17-22402205df0e"
      },
      "execution_count": null,
      "outputs": [
        {
          "output_type": "stream",
          "name": "stdout",
          "text": [
            "[1, 2, 3, 1, 2, 3, 1, 2, 3, 1, 2, 3, 1, 2, 3, 1, 2, 3, 1, 2, 3, 1, 2, 3, 1, 2, 3, 1, 2, 3, 1, 2, 3, 1, 2, 3, 1, 2, 3, 1, 2, 3, 1, 2, 3, 1, 2, 3, 1, 2, 3, 1, 2, 3, 1, 2, 3, 1, 2, 3, 1, 2, 3, 1, 2, 3, 1, 2, 3, 1, 2, 3, 1, 2, 3, 1, 2, 3, 1, 2, 3, 1, 2, 3, 1, 2, 3, 1, 2, 3, 1, 2, 3, 1, 2, 3, 1, 2, 3]\n",
            "99\n"
          ]
        }
      ]
    },
    {
      "cell_type": "markdown",
      "source": [
        "---------------------\n",
        "Q5. If you&#39;re using IDLE to run a Python application, explain how to print a multidimensional list as efficiently?\n",
        "\n",
        "Answer :-To print a multidimensional list efficiently in Python using IDLE or any other Python development environment, you can use nested loops to iterate through the elements of the list and print them one by one. Here's a step-by-step guide on how to do it:\n",
        "\n",
        "Open IDLE: Launch IDLE, your Python development environment.\n",
        "\n",
        "Create a multidimensional list: Define your multidimensional list. For this example, let's create a simple 2D list:"
      ],
      "metadata": {
        "id": "SUY-5FyUhJGJ"
      }
    },
    {
      "cell_type": "code",
      "source": [
        "a = [[2, 4, 6, 8, 10], [3, 6, 9, 12, 15], [4, 8, 12, 16, 20]]\n",
        "for row in a:\n",
        "    for item in row:\n",
        "        print(item, end=\" \")  # Use end=\" \" to separate items with a space\n",
        "    print()"
      ],
      "metadata": {
        "colab": {
          "base_uri": "https://localhost:8080/"
        },
        "id": "9UlggmKfcT6N",
        "outputId": "03445042-2685-416b-ce58-a0ac636c9ba9"
      },
      "execution_count": 2,
      "outputs": [
        {
          "output_type": "stream",
          "name": "stdout",
          "text": [
            "2 4 6 8 10 \n",
            "3 6 9 12 15 \n",
            "4 8 12 16 20 \n"
          ]
        }
      ]
    },
    {
      "cell_type": "markdown",
      "source": [
        "--------------\n",
        "Q6. Is it possible to use list comprehension with a string? If so, how can you go about doing it?\n",
        "\n",
        "Answer :- Yes, it is possible to use list comprehension with a string in Python. List comprehensions are a concise way to create lists by applying an expression to each item in an iterable (such as a string) and collecting the results in a new list."
      ],
      "metadata": {
        "id": "umhruHb5THf3"
      }
    },
    {
      "cell_type": "code",
      "source": [
        "my_string = \"Shobhit Raj\"\n",
        "vowels = 'AEIOUaeiou'\n",
        "consonants = [char for char in my_string if char not in vowels]\n",
        "print(consonants)"
      ],
      "metadata": {
        "colab": {
          "base_uri": "https://localhost:8080/"
        },
        "id": "HQglJJP5Tin6",
        "outputId": "17365d2d-55df-4562-e1f2-5222c0c20731"
      },
      "execution_count": 4,
      "outputs": [
        {
          "output_type": "stream",
          "name": "stdout",
          "text": [
            "['S', 'h', 'b', 'h', 't', ' ', 'R', 'j']\n"
          ]
        }
      ]
    },
    {
      "cell_type": "markdown",
      "source": [
        "-----------\n",
        "Q7. From the command line, how do you get support with a user-written Python programme? Is this possible from inside IDLE?\n",
        "\n",
        "Answer :- If i am working with a Python script or program from the command line and you encounter issues or need help, from\n",
        "\n",
        "Online Communities: Post your questions on popular programming forums and communities like Stack Overflow (https://stackoverflow.com/) or Reddit's /r/learnpython (https://www.reddit.com/r/learnpython/). Provide a clear description of your problem, any error messages you're encountering, and relevant code snippets.\n",
        "\n",
        "GitHub Issues: If your Python program is hosted on GitHub, you can create issues on the repository to report bugs or request assistance. Developers and users can respond to your issues."
      ],
      "metadata": {
        "id": "RGzoVXDUoCBz"
      }
    },
    {
      "cell_type": "markdown",
      "source": [
        "-----------------\n",
        "Q8. Functions are said to be “first-class objects” in Python but not in most other languages, such as C++ or Java. What can i do in Python with a function (callable object) that i can&#39;t do in C or C++?\n",
        "\n",
        "Answer :-In Python, functions are \"first-class objects,\" which means they can be treated like any other data type. This allows you to:\n",
        "\n",
        "Assign functions to variables.\n",
        "Pass functions as arguments to other functions.\n",
        "Return functions from functions.\n",
        "Store functions in data structures.\n",
        "Modify functions without changing their source code (decorators).\n",
        "Create anonymous functions (lambda expressions)."
      ],
      "metadata": {
        "id": "o1ODKwoFqBdP"
      }
    },
    {
      "cell_type": "markdown",
      "source": [
        "----------------\n",
        "Q9. How do you distinguish between a wrapper, a wrapped feature, and a decorator?\n",
        "\n",
        "Answer :- Distinguishing between a wrapper, a wrapped feature, and a decorator in the context of programming can be a bit nuanced, as these terms are often used interchangeably or with some overlap. However, here's a general distinction:\n",
        "\n",
        "1. **Wrapper:**\n",
        "   - A wrapper is a common programming concept where you create a new function or piece of code that \"wraps around\" or encapsulates another function or feature.\n",
        "   - Wrappers are often used for various purposes such as adding functionality, modifying behavior, or providing a common interface to multiple functions or components.\n",
        "   - Wrappers can be used in different contexts and may or may not be related to decorators or wrapped features.\n",
        "\n",
        "2. **Wrapped Feature:**\n",
        "   - The \"wrapped feature\" typically refers to the original function or feature that you are encapsulating or augmenting with a wrapper.\n",
        "   - It's the core functionality or behavior that you want to build upon or modify using a wrapper.\n",
        "   - The wrapped feature is what the wrapper is designed to work with or extend.\n",
        "\n",
        "3. **Decorator:**\n",
        "   - A decorator is a specific type of wrapper commonly used in Python.\n",
        "   - Decorators are functions that take another function (or callable) as input, enhance or modify its behavior, and return a new function without permanently altering the original function's source code.\n",
        "   - They are often used for adding cross-cutting concerns like logging, authentication, or caching to functions.\n",
        "   - Decorators in Python are typically applied using the `@decorator_name` syntax.\n",
        "\n",
        "\n",
        "The decorator `my_wrapper` wraps around the `subtract` function (the wrapped feature) and modifies its behavior by adding print statements before and after execution.\n",
        "Here's a simple example in Python to illustrate these concepts:"
      ],
      "metadata": {
        "id": "ntb_A9MIsXwK"
      }
    },
    {
      "cell_type": "code",
      "source": [
        "def my_wrapper(func):\n",
        "    def inner_wrapper(*args, **kwargs):\n",
        "        print(\"Before calling the function\")\n",
        "        result = func(*args, **kwargs)\n",
        "        print(\"After calling the function\")\n",
        "        return result\n",
        "    return inner_wrapper\n",
        "\n",
        "# Wrapped Feature\n",
        "def add(a, b):\n",
        "    return a + b\n",
        "\n",
        "# Decorator\n",
        "@my_wrapper\n",
        "def subtract(a, b):\n",
        "    return a - b\n",
        "result = subtract(5, 3)"
      ],
      "metadata": {
        "colab": {
          "base_uri": "https://localhost:8080/"
        },
        "id": "UeQTwONAqlgg",
        "outputId": "479d8241-0ce0-465b-bddd-bfc88dc56567"
      },
      "execution_count": 7,
      "outputs": [
        {
          "output_type": "stream",
          "name": "stdout",
          "text": [
            "Before calling the function\n",
            "After calling the function\n"
          ]
        }
      ]
    },
    {
      "cell_type": "markdown",
      "source": [
        "---------------\n",
        "Q10. If a function is a generator function, what does it return?\n",
        "\n",
        "Answer :-\n",
        "In Python, a generator function is a special type of function that contains one or more yield statements. When you call a generator function, it doesn't execute the function immediately like a regular function. Instead, it returns a generator object. The generator object can be used to control the execution of the generator function and produce values one at a time using the yield statement."
      ],
      "metadata": {
        "id": "9N8zVH03tAnY"
      }
    },
    {
      "cell_type": "code",
      "source": [
        "def my_generator(n):\n",
        "\n",
        "    # initialize counter\n",
        "    value = 0\n",
        "\n",
        "    # loop until counter is less than n\n",
        "    while value < n:\n",
        "\n",
        "        # produce the current value of the counter\n",
        "        yield value\n",
        "\n",
        "        # increment the counter\n",
        "        value += 1\n",
        "\n",
        "# iterate over the generator object produced by my_generator\n",
        "for value in my_generator(3):\n",
        "\n",
        "    # print each value produced by generator\n",
        "    print(value)"
      ],
      "metadata": {
        "id": "7EkTV9YAc0Jm",
        "colab": {
          "base_uri": "https://localhost:8080/"
        },
        "outputId": "ed749795-5ed6-467d-9706-eeccc4669a7e"
      },
      "execution_count": 8,
      "outputs": [
        {
          "output_type": "stream",
          "name": "stdout",
          "text": [
            "0\n",
            "1\n",
            "2\n"
          ]
        }
      ]
    },
    {
      "cell_type": "markdown",
      "source": [
        "--------------\n",
        "Q11. What is the one improvement that must be made to a function in order for it to become a generator function in the Python language?\n",
        "\n",
        "Answer :-The one improvement that must be made to a regular function to turn it into a generator function in Python is to use the yield statement inside the function instead of using the return statement for returning values.\n",
        "\n",
        "In a regular function, you use the return statement to send a computed value back to the caller. However, in a generator function, you use the yield statement to yield values one at a time without exiting the function. When a generator function is called, it doesn't execute the entire function body; instead, it returns a generator object that can be used to control the execution and produce values on-demand."
      ],
      "metadata": {
        "id": "PHD5j2qjtaP1"
      }
    },
    {
      "cell_type": "code",
      "source": [
        "#geneal function\n",
        "def regular_function():\n",
        "  return 1\n",
        "x=regular_function()\n",
        "print(x)"
      ],
      "metadata": {
        "colab": {
          "base_uri": "https://localhost:8080/"
        },
        "id": "sDRE7tLutTWP",
        "outputId": "8125b369-b703-4c16-b8cf-a356d4c15551"
      },
      "execution_count": 20,
      "outputs": [
        {
          "output_type": "stream",
          "name": "stdout",
          "text": [
            "1\n"
          ]
        }
      ]
    },
    {
      "cell_type": "code",
      "source": [
        "#generator function\n",
        "def generator_function():\n",
        "  yield 1\n",
        "generator_function()\n",
        "x=generator_function()\n",
        "print(x.__next__())"
      ],
      "metadata": {
        "colab": {
          "base_uri": "https://localhost:8080/"
        },
        "id": "FahCfUNZt0UN",
        "outputId": "f5e5b7c6-ce7f-4715-9d6a-65ca1681ca0d"
      },
      "execution_count": 24,
      "outputs": [
        {
          "output_type": "stream",
          "name": "stdout",
          "text": [
            "1\n"
          ]
        }
      ]
    },
    {
      "cell_type": "markdown",
      "source": [
        "---------------\n",
        "Q12. Identify at least one benefit of generators.\n",
        "\n",
        "Answer :- Memory is saved as the items are produced when required, unlike normal Python functions. This fact becomes very important when you need to create a huge number of iterators. This is also considered as the biggest advantage of generators."
      ],
      "metadata": {
        "id": "fHjMdh1itzaY"
      }
    },
    {
      "cell_type": "markdown",
      "source": [
        "-----------------------\n",
        "-----------------------"
      ],
      "metadata": {
        "id": "Lz2_GTUawcLL"
      }
    }
  ]
}