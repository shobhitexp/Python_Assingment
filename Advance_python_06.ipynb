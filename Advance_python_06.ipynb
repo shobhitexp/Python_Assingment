{
  "nbformat": 4,
  "nbformat_minor": 0,
  "metadata": {
    "colab": {
      "provenance": [],
      "authorship_tag": "ABX9TyNYsaAZcO1oa+aUDtxcjt8w",
      "include_colab_link": true
    },
    "kernelspec": {
      "name": "python3",
      "display_name": "Python 3"
    },
    "language_info": {
      "name": "python"
    }
  },
  "cells": [
    {
      "cell_type": "markdown",
      "metadata": {
        "id": "view-in-github",
        "colab_type": "text"
      },
      "source": [
        "<a href=\"https://colab.research.google.com/github/shobhitexp/Python_Assingments/blob/Advance_python_assignments/Advance_python_06.ipynb\" target=\"_parent\"><img src=\"https://colab.research.google.com/assets/colab-badge.svg\" alt=\"Open In Colab\"/></a>"
      ]
    },
    {
      "cell_type": "markdown",
      "source": [
        "##Assignment 06 Adv_python"
      ],
      "metadata": {
        "id": "EACv6u0QX06o"
      }
    },
    {
      "cell_type": "markdown",
      "source": [
        "Q1. Describe three applications for exception processing.\n",
        "######Answer :-\n",
        "IOError: This exception is raised when an I/O operation, such as reading or writing a file, fails due to an input/output error.\n",
        "######ZeroDivisionError: This exception is raised when an attempt is made to divide a number by zero.\n",
        "######ImportError: This exception is raised when an import statement fails to find or load a module."
      ],
      "metadata": {
        "id": "uQQIagi2SNqP"
      }
    },
    {
      "cell_type": "markdown",
      "source": [
        "-----------\n",
        "Q2. What happens if you don&#39;t do something extra to treat an exception?\n",
        "######Answer :- If we don't do that, then you can't handle the exceptions, and your program will crash. In that situation, Python will print the exception traceback so that you can figure out how to fix the problem. Sometimes, you must let the program fail in order to discover the exceptions that it raises."
      ],
      "metadata": {
        "id": "KMVunQYLSsfG"
      }
    },
    {
      "cell_type": "markdown",
      "source": [
        "----------------\n",
        "Q3. What are your options for recovering from an exception in your script?\n",
        "######Answer :-\n",
        "The try block lets you test a block of code for errors.\n",
        "\n",
        "######The except block lets you handle the error.\n",
        "\n",
        "######The else block lets you execute code when there is no error.\n",
        "\n",
        "######The finally block lets you execute code, regardless of the result of the try- and except blocks."
      ],
      "metadata": {
        "id": "3lWU1FbGTwXz"
      }
    },
    {
      "cell_type": "code",
      "execution_count": null,
      "metadata": {
        "id": "nEVwHwi5SI4G"
      },
      "outputs": [],
      "source": [
        "try:\n",
        "    # code that may cause exception\n",
        "except:\n",
        "    # code to run when exception occurs"
      ]
    },
    {
      "cell_type": "markdown",
      "source": [
        "----------\n",
        "Q4. Describe two methods for triggering exceptions in your script.\n",
        "###### Answer :- To avoid such a scenario, there are two methods to handle Python exceptions:\n",
        "#####Try – This method catches the exceptions raised by the program. Raise – Triggers an exception manually using custom exceptions."
      ],
      "metadata": {
        "id": "PIO5px7DWGJw"
      }
    },
    {
      "cell_type": "code",
      "source": [
        "try:\n",
        "  print(x)\n",
        "except NameError:\n",
        "  print(\"Variable x is not defined\")\n",
        "except:\n",
        "  print(\"Something else went wrong\")"
      ],
      "metadata": {
        "colab": {
          "base_uri": "https://localhost:8080/"
        },
        "id": "qAltTxzXWv4s",
        "outputId": "3ffc364b-b7ae-467c-bc08-7ad48527f6fc"
      },
      "execution_count": 2,
      "outputs": [
        {
          "output_type": "stream",
          "name": "stdout",
          "text": [
            "Variable x is not defined\n"
          ]
        }
      ]
    },
    {
      "cell_type": "code",
      "source": [
        "try:\n",
        "    numerator = 10\n",
        "    denominator = 0\n",
        "\n",
        "    result = numerator/denominator\n",
        "\n",
        "    print(result)\n",
        "except:\n",
        "    print(\"Error: Denominator cannot be 0.\")\n",
        "\n",
        "finally:\n",
        "    print(\"This is finally block.\")"
      ],
      "metadata": {
        "colab": {
          "base_uri": "https://localhost:8080/"
        },
        "id": "thSoM1QFXLJL",
        "outputId": "06cb6253-27c8-4aec-b78d-0b5220978e88"
      },
      "execution_count": 1,
      "outputs": [
        {
          "output_type": "stream",
          "name": "stdout",
          "text": [
            "Error: Denominator cannot be 0.\n",
            "This is finally block.\n"
          ]
        }
      ]
    },
    {
      "cell_type": "markdown",
      "source": [
        "-----------\n",
        "Q5. Identify two methods for specifying actions to be executed at termination time, regardless of\n",
        "whether or not an exception exists.\n",
        "##### Answer :- An exception is an error which happens at the time of execution of a program. However, while running a program, Python generates an exception that should be handled to avoid your program to crash. In Python language, exceptions trigger automatically on errors, or they can be triggered and intercepted by your code.\n",
        "* Division by Zero\n",
        "* Accessing a file which does not exist.\n",
        "* Addition of two incompatible types\n",
        "* Trying to access a nonexistent index of a sequence\n",
        "* Removing the table from the disconnected database server.\n",
        "* ATM withdrawal of more than the available amount\n",
        "* The exception indicates that, although the event can occur, this type of event happens infrequently. When the method is not able to handle the exception, it is thrown to its caller function. Eventually, when an exception is thrown out of the main function, the program is terminated abruptly"
      ],
      "metadata": {
        "id": "7a2mgbbsXNnb"
      }
    },
    {
      "cell_type": "markdown",
      "source": [
        "----------------\n",
        "----------------"
      ],
      "metadata": {
        "id": "s37ksVbPXxVh"
      }
    }
  ]
}