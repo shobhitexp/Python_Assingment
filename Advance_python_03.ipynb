{
  "nbformat": 4,
  "nbformat_minor": 0,
  "metadata": {
    "colab": {
      "provenance": [],
      "authorship_tag": "ABX9TyOp1LxL8egV1xJdUJkjl8Bq",
      "include_colab_link": true
    },
    "kernelspec": {
      "name": "python3",
      "display_name": "Python 3"
    },
    "language_info": {
      "name": "python"
    }
  },
  "cells": [
    {
      "cell_type": "markdown",
      "metadata": {
        "id": "view-in-github",
        "colab_type": "text"
      },
      "source": [
        "<a href=\"https://colab.research.google.com/github/shobhitexp/Python_Assingments/blob/Advance_python_assignments/Advance_python_03.ipynb\" target=\"_parent\"><img src=\"https://colab.research.google.com/assets/colab-badge.svg\" alt=\"Open In Colab\"/></a>"
      ]
    },
    {
      "cell_type": "markdown",
      "source": [
        "##Assignment 03 Adv_python"
      ],
      "metadata": {
        "id": "0UzSeRYy3wf1"
      }
    },
    {
      "cell_type": "markdown",
      "source": [
        "1. What is the concept of an abstract superclass?\n",
        "#####Answer :- An abstract class can be considered as a blueprint for other classes. It allows you to create a set of methods that must be created within any child classes built from the abstract class. A class which contains one or more abstract methods is called an abstract class."
      ],
      "metadata": {
        "id": "6shNY1CV35gV"
      }
    },
    {
      "cell_type": "markdown",
      "source": [
        "---------\n",
        "2. What happens when a class statement&#39;s top level contains a basic assignment statement?\n",
        "######Answer :- Python assignment statements to assign objects to names. The target of an assignment statement is written on the left side of the equal sign (=), and the object on the right can be an arbitrary expression that computes an object."
      ],
      "metadata": {
        "id": "Q1ej5gqo6QM2"
      }
    },
    {
      "cell_type": "code",
      "execution_count": null,
      "metadata": {
        "id": "pseAmMQh3pFi"
      },
      "outputs": [],
      "source": [
        "student = 'Happy'\n",
        "print(student)"
      ]
    },
    {
      "cell_type": "markdown",
      "source": [
        "---------\n",
        "3. Why does a class need to manually call a superclass&#39;s __init__ method?\n",
        "######Answer :- The “__init__” is a reserved method in python classes. It is known as a constructor in Object-Oriented terminology. This method when called, allows the class to initialize the attributes of the class. The super() function allows us to avoid using the base class name explicitly."
      ],
      "metadata": {
        "id": "KfcL6b-96q94"
      }
    },
    {
      "cell_type": "markdown",
      "source": [
        "----------\n",
        "4. How can you augment, instead of completely replacing, an inherited method?\n",
        "######Answer :- A more sophisticated way to augment an inherited method involves forwarding. Message forwarding allows you to augment an inherited method in such a way that it can perform its inherited action and some new action."
      ],
      "metadata": {
        "id": "dynleyme6328"
      }
    },
    {
      "cell_type": "markdown",
      "source": [
        "--------\n",
        "5. How is the local scope of a class different from that of a function?\n",
        "######Answer :-  Outside functions, the local scope references the same namespace as the global scope: the module's namespace. Class definitions place yet another namespace in the local scope."
      ],
      "metadata": {
        "id": "aozl2SDq7NuI"
      }
    },
    {
      "cell_type": "markdown",
      "source": [
        "-------------\n",
        "-------------"
      ],
      "metadata": {
        "id": "C46m8wv07f9l"
      }
    }
  ]
}