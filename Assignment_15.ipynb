{
  "nbformat": 4,
  "nbformat_minor": 0,
  "metadata": {
    "colab": {
      "provenance": []
    },
    "kernelspec": {
      "name": "python3",
      "display_name": "Python 3"
    },
    "language_info": {
      "name": "python"
    }
  },
  "cells": [
    {
      "cell_type": "markdown",
      "metadata": {
        "id": "MRegPUWtBsO6"
      },
      "source": [
        "1.How many seconds are in an hour? Use the interactive interpreter as a calculator and multiply the\n",
        "number of seconds in a minute (60) by the number of minutes in an hour (also 60).\n",
        "sol. 60"
      ]
    },
    {
      "cell_type": "code",
      "metadata": {
        "colab": {
          "base_uri": "https://localhost:8080/"
        },
        "id": "HidAfOTVBe0V",
        "outputId": "ed514d5a-a790-4a78-ce9a-d3619cd50fee"
      },
      "source": [
        "60*60"
      ],
      "execution_count": 1,
      "outputs": [
        {
          "output_type": "execute_result",
          "data": {
            "text/plain": [
              "3600"
            ]
          },
          "metadata": {},
          "execution_count": 1
        }
      ]
    },
    {
      "cell_type": "markdown",
      "metadata": {
        "id": "XZYbTpl3CCOP"
      },
      "source": [
        "----------\n",
        "\n",
        "2. Assign the result from the previous task (seconds in an hour) to a variable called\n",
        "seconds_per_hour."
      ]
    },
    {
      "cell_type": "code",
      "metadata": {
        "colab": {
          "base_uri": "https://localhost:8080/"
        },
        "id": "P14FJkPaCAEC",
        "outputId": "bd641f69-5f84-47fc-f03c-133494860be8"
      },
      "source": [
        "seconds_per_hour = 60 * 60\n",
        "seconds_per_hour"
      ],
      "execution_count": 2,
      "outputs": [
        {
          "output_type": "execute_result",
          "data": {
            "text/plain": [
              "3600"
            ]
          },
          "metadata": {},
          "execution_count": 2
        }
      ]
    },
    {
      "cell_type": "markdown",
      "metadata": {
        "id": "FxD93_p4CI3L"
      },
      "source": [
        "----------\n",
        "\n",
        "3. How many seconds do you think there are in a day? Make use of the variables seconds per hour\n",
        "and minutes per hour."
      ]
    },
    {
      "cell_type": "code",
      "metadata": {
        "colab": {
          "base_uri": "https://localhost:8080/"
        },
        "id": "3qz5WKxHCGAn",
        "outputId": "a9a3c013-fc69-43cf-e943-dbff3059ffda"
      },
      "source": [
        "one_day  = 24\n",
        "second_in_a_day = 24 * seconds_per_hour\n",
        "second_in_a_day"
      ],
      "execution_count": 3,
      "outputs": [
        {
          "output_type": "execute_result",
          "data": {
            "text/plain": [
              "86400"
            ]
          },
          "metadata": {},
          "execution_count": 3
        }
      ]
    },
    {
      "cell_type": "markdown",
      "metadata": {
        "id": "DNfK9PY9CekD"
      },
      "source": [
        "----------\n",
        "\n",
        "4. Calculate seconds per day again, but this time save the result in a variable called seconds_per_day"
      ]
    },
    {
      "cell_type": "code",
      "metadata": {
        "colab": {
          "base_uri": "https://localhost:8080/"
        },
        "id": "mX_RJuSeCNiL",
        "outputId": "f3de1604-3f2b-4813-a22c-c028e9da4674"
      },
      "source": [
        "seconds_per_day =  24 * seconds_per_hour\n",
        "seconds_per_day"
      ],
      "execution_count": 4,
      "outputs": [
        {
          "output_type": "execute_result",
          "data": {
            "text/plain": [
              "86400"
            ]
          },
          "metadata": {},
          "execution_count": 4
        }
      ]
    },
    {
      "cell_type": "markdown",
      "metadata": {
        "id": "T-kUWbOHCqFl"
      },
      "source": [
        "----------\n",
        "\n",
        "5. Divide seconds_per_day by seconds_per_hour. Use floating-point (/) division."
      ]
    },
    {
      "cell_type": "code",
      "metadata": {
        "colab": {
          "base_uri": "https://localhost:8080/"
        },
        "id": "DnU8h2MuCnDW",
        "outputId": "a33e8228-cc80-4133-d6a7-e6edaa4c7a25"
      },
      "source": [
        "seconds_per_day/seconds_per_hour"
      ],
      "execution_count": 5,
      "outputs": [
        {
          "output_type": "execute_result",
          "data": {
            "text/plain": [
              "24.0"
            ]
          },
          "metadata": {},
          "execution_count": 5
        }
      ]
    },
    {
      "cell_type": "markdown",
      "metadata": {
        "id": "DOSHkXHDCxwc"
      },
      "source": [
        "----------\n",
        "\n",
        "6. Divide seconds_per_day by seconds_per_hour, using integer (//) division. Did this number agree\n",
        "with the floating-point value from the previous question, aside from the final .0?"
      ]
    },
    {
      "cell_type": "code",
      "metadata": {
        "colab": {
          "base_uri": "https://localhost:8080/"
        },
        "id": "bQd-5BYSCuxU",
        "outputId": "9cc7e5fc-fa55-4e44-9015-82255e813f54"
      },
      "source": [
        "# // it gives only int value and neglect float\n",
        "seconds_per_day // seconds_per_hour"
      ],
      "execution_count": 6,
      "outputs": [
        {
          "output_type": "execute_result",
          "data": {
            "text/plain": [
              "24"
            ]
          },
          "metadata": {},
          "execution_count": 6
        }
      ]
    },
    {
      "cell_type": "markdown",
      "metadata": {
        "id": "peEuhYyxDupm"
      },
      "source": [
        "----------\n",
        "\n",
        "7. Write a generator, genPrimes, that returns the sequence of prime numbers on successive calls to\n",
        "its next() method: 2, 3, 5, 7, 11, ..."
      ]
    },
    {
      "cell_type": "code",
      "metadata": {
        "id": "CtViQYwmDrH4"
      },
      "source": [
        "def genPrimes():\n",
        "    n = 2\n",
        "    primes = []\n",
        "    while True:\n",
        "        for p in primes:\n",
        "            if n % p == 0:\n",
        "                break\n",
        "        else:\n",
        "            primes.append(n)\n",
        "            yield n\n",
        "        n += 1"
      ],
      "execution_count": 7,
      "outputs": []
    },
    {
      "cell_type": "markdown",
      "source": [
        "----------\n",
        "----------"
      ],
      "metadata": {
        "id": "lEAsnPW31c2t"
      }
    }
  ]
}