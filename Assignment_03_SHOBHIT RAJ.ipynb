{
  "nbformat": 4,
  "nbformat_minor": 0,
  "metadata": {
    "colab": {
      "provenance": []
    },
    "kernelspec": {
      "name": "python3",
      "display_name": "Python 3"
    },
    "language_info": {
      "name": "python"
    }
  },
  "cells": [
    {
      "cell_type": "markdown",
      "source": [
        "# Assignment_03\n",
        "===================================================================================================================\n",
        "##Question 1. Why are functions advantageous to have in your programs?\n",
        "solution : -\n",
        "######With the help of functions, we can avoid rewriting the same logic or code again and again in a program.\n",
        "######In a single Program, we can call Python functions anywhere and also call multiple times.\n",
        "######We can track a large Python program easily when it is divided into multiple functions."
      ],
      "metadata": {
        "id": "dBr1BddOEN-s"
      }
    },
    {
      "cell_type": "markdown",
      "source": [
        "===================================================================================================================\n",
        "##Question 2. When does the code in a function run: when it's specified or when it's called?\n",
        "solution : -\n",
        "The code in a function executes when the function is called, not when the function is specified."
      ],
      "metadata": {
        "id": "zmEjLXuhGBYD"
      }
    },
    {
      "cell_type": "markdown",
      "source": [
        "===================================================================================================================\n",
        "##Question 3. What statement creates a function?\n",
        "sloution :-\n"
      ],
      "metadata": {
        "id": "gZ--e12HIxaY"
      }
    },
    {
      "cell_type": "code",
      "execution_count": null,
      "metadata": {
        "id": "nXIED7cjEISD"
      },
      "outputs": [],
      "source": [
        "def function_name(parameters):\n",
        "  '''Here we can put our doc string'''\n",
        "  # Body\n",
        "  return 0"
      ]
    },
    {
      "cell_type": "markdown",
      "source": [
        "===================================================================================================================\n",
        "## Question 4. What is the difference between a function and a function call?\n",
        "solution :-  A function is to achieve a particular result. while function call is using this function to perform some task. Using a function to do a particular task any point in program is called as function call."
      ],
      "metadata": {
        "id": "Wzga-voyJkYn"
      }
    },
    {
      "cell_type": "code",
      "source": [
        "def function_name(a,b):# Here is A function is to achieve a particular result\n",
        "  '''Here we can put our doc string'''\n",
        "  return a+b\n",
        "function_name(3,4) # Here is function call, Using this function to perform addition task."
      ],
      "metadata": {
        "colab": {
          "base_uri": "https://localhost:8080/"
        },
        "id": "m0YGkgXKKINk",
        "outputId": "7808753f-21c5-4197-80e9-6fb099d800bf"
      },
      "execution_count": 2,
      "outputs": [
        {
          "output_type": "execute_result",
          "data": {
            "text/plain": [
              "7"
            ]
          },
          "metadata": {},
          "execution_count": 2
        }
      ]
    },
    {
      "cell_type": "markdown",
      "source": [
        "===================================================================================================================\n",
        "\n",
        "## Question 5. How many global scopes are there in a Python program? How many local scopes?\n",
        "solution :- \n",
        "#####Global = A variable created in the main body of the Python code is a global variable and belongs to the global scope. we can use the global variable as an loca purpous but dont change it.\n",
        "#####Local = A variable created inside a function belongs to the local scope of that function, and can only be used inside that function.\n",
        "###There is one global scope, and a local scope is created whenever a function is called.\n",
        "\n"
      ],
      "metadata": {
        "id": "Xuz_qH85LzLg"
      }
    },
    {
      "cell_type": "code",
      "source": [
        "Glob=400# Here is global variable\n",
        "def fun():\n",
        "  loca=29# Their is local variable\n",
        "  print(loca+32)\n",
        "  print(Glob+200)# Here we use the globale variable but we cant change it\n",
        "  return Glob,loca\n",
        "fun()"
      ],
      "metadata": {
        "colab": {
          "base_uri": "https://localhost:8080/"
        },
        "id": "hSRCB-Y0KzXB",
        "outputId": "aed573ab-f98d-4c07-9eb8-3d51637b88b1"
      },
      "execution_count": 7,
      "outputs": [
        {
          "output_type": "stream",
          "name": "stdout",
          "text": [
            "61\n",
            "600\n"
          ]
        },
        {
          "output_type": "execute_result",
          "data": {
            "text/plain": [
              "(400, 29)"
            ]
          },
          "metadata": {},
          "execution_count": 7
        }
      ]
    },
    {
      "cell_type": "markdown",
      "source": [
        "===================================================================================================================\n",
        "##Question 6. What happens to variables in a local scope when the function call returns?\n",
        "Solution :- When a function returns, the local scope is destroyed, and all the variables in it are forgotten."
      ],
      "metadata": {
        "id": "7FArhNhPS5hf"
      }
    },
    {
      "cell_type": "code",
      "source": [
        "def fun():\n",
        "  loca=29# Their is local variable\n",
        "  print(loca+32)\n",
        "  return loca# local scope is destroyed here \n",
        "print(loca)"
      ],
      "metadata": {
        "colab": {
          "base_uri": "https://localhost:8080/",
          "height": 201
        },
        "id": "BwiVeRYcSv9f",
        "outputId": "3f8bc4e6-ae35-4f9b-e192-eeaccf31ebb9"
      },
      "execution_count": 8,
      "outputs": [
        {
          "output_type": "error",
          "ename": "NameError",
          "evalue": "ignored",
          "traceback": [
            "\u001b[0;31m---------------------------------------------------------------------------\u001b[0m",
            "\u001b[0;31mNameError\u001b[0m                                 Traceback (most recent call last)",
            "\u001b[0;32m<ipython-input-8-b510059361ea>\u001b[0m in \u001b[0;36m<module>\u001b[0;34m\u001b[0m\n\u001b[1;32m      3\u001b[0m   \u001b[0mprint\u001b[0m\u001b[0;34m(\u001b[0m\u001b[0mloca\u001b[0m\u001b[0;34m+\u001b[0m\u001b[0;36m32\u001b[0m\u001b[0;34m)\u001b[0m\u001b[0;34m\u001b[0m\u001b[0;34m\u001b[0m\u001b[0m\n\u001b[1;32m      4\u001b[0m   \u001b[0;32mreturn\u001b[0m \u001b[0mloca\u001b[0m\u001b[0;34m\u001b[0m\u001b[0;34m\u001b[0m\u001b[0m\n\u001b[0;32m----> 5\u001b[0;31m \u001b[0mprint\u001b[0m\u001b[0;34m(\u001b[0m\u001b[0mloca\u001b[0m\u001b[0;34m)\u001b[0m\u001b[0;34m\u001b[0m\u001b[0;34m\u001b[0m\u001b[0m\n\u001b[0m",
            "\u001b[0;31mNameError\u001b[0m: name 'loca' is not defined"
          ]
        }
      ]
    },
    {
      "cell_type": "markdown",
      "source": [
        "===================================================================================================================\n",
        "##Question 7. What is the concept of a return value? Is it possible to have a return value in an expression?\n",
        "Solution :-  A return statement is overall used to invoke a function so that the passed statements can be executed. For that we use **return**.And yes it is possible to return value in an expression without exprassion the return statement give the special value **None** is returned. \n",
        "####Like any value, a return value can be used as part of an expression."
      ],
      "metadata": {
        "id": "M8Og5l1BURPh"
      }
    },
    {
      "cell_type": "code",
      "source": [
        "def fun():\n",
        "  return \n",
        "print(fun())"
      ],
      "metadata": {
        "colab": {
          "base_uri": "https://localhost:8080/"
        },
        "id": "ymhfVg59UA0t",
        "outputId": "03fe5cc7-8370-4b1e-dbd8-65e8b591cdb9"
      },
      "execution_count": 11,
      "outputs": [
        {
          "output_type": "stream",
          "name": "stdout",
          "text": [
            "None\n"
          ]
        }
      ]
    },
    {
      "cell_type": "markdown",
      "source": [
        "===================================================================================================================\n",
        "##Question 8. If a function does not have a return statement, what is the return value of a call to that function?\n",
        "Solution :- If there is no return statement for a function, its return value is **None**"
      ],
      "metadata": {
        "id": "HKDoNp4_XJPx"
      }
    },
    {
      "cell_type": "code",
      "source": [
        "def fun():\n",
        "  loca=29\n",
        "  loca+=32\n",
        "print(fun())"
      ],
      "metadata": {
        "colab": {
          "base_uri": "https://localhost:8080/"
        },
        "id": "Z-hay4w3WqPQ",
        "outputId": "320ac106-f470-4759-a4e2-d65546acf20d"
      },
      "execution_count": 14,
      "outputs": [
        {
          "output_type": "stream",
          "name": "stdout",
          "text": [
            "None\n"
          ]
        }
      ]
    },
    {
      "cell_type": "markdown",
      "source": [
        "===================================================================================================================\n",
        "##Question 9. How do you make a function variable refer to the global variable?\n",
        "Solution :- A global statement will force a variable in a function to refer to the global variable. If we want to function variable to global variable we need **global** keyword."
      ],
      "metadata": {
        "id": "yKVFH7NhX7Z8"
      }
    },
    {
      "cell_type": "code",
      "source": [
        "def fun():\n",
        "  global A# Now we can use A outside the function with using global kewword.\n",
        "  A = \" RAJ\"\n",
        "fun()\n",
        "print(\"SHOBHIT\" + A)# Now we can use 'A' outside the function"
      ],
      "metadata": {
        "colab": {
          "base_uri": "https://localhost:8080/"
        },
        "id": "hB-WE2cEXs9l",
        "outputId": "d2d4276e-3ee3-46d4-ba7b-eb75c0ce62c9"
      },
      "execution_count": 15,
      "outputs": [
        {
          "output_type": "stream",
          "name": "stdout",
          "text": [
            "SHOBHIT RAJ\n"
          ]
        }
      ]
    },
    {
      "cell_type": "markdown",
      "source": [
        "===================================================================================================================\n",
        "\n",
        "##Question 10. What is the data type of None?\n",
        "Solution :- The None keyword is used to define a null value, or no value at all.\n",
        "####None is not the same as 0 or False or an empty string. None is a data type of its own (NoneType) and only None can be None.\n",
        "==================================================================================================================="
      ],
      "metadata": {
        "id": "8sffus9dZ-d9"
      }
    },
    {
      "cell_type": "markdown",
      "source": [
        "##Question 11. What does the sentence import areallyourpetsnamederic do?\n",
        "#####Solution :- It is used to import statement named areallyourpetsnamederic.\n",
        "==================================================================================================================="
      ],
      "metadata": {
        "id": "pjTZaNklaq2w"
      }
    },
    {
      "cell_type": "markdown",
      "source": [
        "##Question 12. If you had a bacon() feature in a spam module, what would you call it after importing spam?\n",
        "#####Solution :- After importing the function it is called as **spam.bacon()**\n",
        "==================================================================================================================="
      ],
      "metadata": {
        "id": "dKbXpMPXdvfz"
      }
    },
    {
      "cell_type": "markdown",
      "source": [
        "##Question 13. What can you do to save a programme from crashing if it encounters an error?\n",
        "Solution :- Place the line of code that might cause an error in a **try clause** and use **except block** to handle the error.\n",
        "\n",
        "==================================================================================================================="
      ],
      "metadata": {
        "id": "q7rkVhITeXT5"
      }
    },
    {
      "cell_type": "markdown",
      "source": [
        "===================================================================================================================\n",
        "##Question 14. What is the purpose of the try clause? What is the purpose of the except clause?\n",
        "####Solution :- Try and Except statement is used to handle these errors within our code in Python.\n",
        "######\n",
        "\n",
        "*   First, the try clause is executed\n",
        "*   If there is no exception, then only the try clause will run, except the\n",
        "clause is finished.\n",
        "* If any exception occurs, the try clause will be skipped and except clause will run.\n",
        "* If any exception occurs, but the except clause within the code doesn’t handle it, it is passed on to the outer try statements. If the exception is left unhandled, then the execution stops.\n",
        "* A try statement can have more than one except clause\n",
        "####Else Clause\n",
        "In python, we can also use the else clause on the try-except block which must be present after all the except clauses. The code enters the else block only if the try clause does not raise an exception.\n",
        "\n",
        "\n",
        "==================================================================================================================="
      ],
      "metadata": {
        "id": "1xMp4NnlhY42"
      }
    }
  ]
}
