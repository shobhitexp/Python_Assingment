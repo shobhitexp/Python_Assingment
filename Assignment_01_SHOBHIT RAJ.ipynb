{
  "nbformat": 4,
  "nbformat_minor": 0,
  "metadata": {
    "colab": {
      "provenance": []
    },
    "kernelspec": {
      "name": "python3",
      "display_name": "Python 3"
    },
    "language_info": {
      "name": "python"
    }
  },
  "cells": [
    {
      "cell_type": "markdown",
      "source": [
        "# Question 1. In the below elements which of them are values or an expression? \n",
        "eg:- values can be\n",
        "integer or string and expressions will be mathematical operators.\n",
        "######*\n",
        "######'hello'\n",
        "######-87.8\n",
        "######-\n",
        "######/\n",
        "######+\n",
        "######6"
      ],
      "metadata": {
        "id": "DfwIJQVwEiJm"
      }
    },
    {
      "cell_type": "markdown",
      "source": [
        "Elements | Value,Expression\n",
        "- | -\n",
        "* | Expression\n",
        "'hello' | Value_string\n",
        "-87.8 | value_float\n",
        "- | Expression\n",
        "/ | Expression\n",
        "+ | Expression\n",
        "6 | Value_integer"
      ],
      "metadata": {
        "id": "ll7cWCyKH7JD"
      }
    },
    {
      "cell_type": "markdown",
      "source": [
        "# Question 2. What is the difference between string and variable?\n",
        "######solution\n",
        "**String** :- In computer programming, a string is a sequence of characters. For example, \"hello\" is a string containing a sequence of characters like \"h\",\"e\",\"l\",\"l\",\"o\" we can access the string by their index values which contains (0 to n-1) and represented by '' or \"\"\n",
        "Examples...\n",
        "######name = \"SHOBHIT\" OR name = 'SHOBHIT'\n",
        "######print(name[0:])\n",
        "\n",
        "\n",
        "---\n",
        "\n",
        "\n",
        "**variables** :- Variables are just like containers in which we store string,int,float etc.\n",
        "Example...\n",
        "######name='SHOBHIT RAJ'\n",
        "######num=10\n",
        "######num2=22.76\n",
        "\n"
      ],
      "metadata": {
        "id": "qXoaZdicJB6C"
      }
    },
    {
      "cell_type": "markdown",
      "source": [
        "#Question 3. Describe three different data types.\n",
        "######Datatype in python :-\n",
        "\n",
        "\n",
        "*   **Numeric data types: (int, float, complex)** = Python numeric data type is used to hold numeric values like;\n",
        "######int - holds signed integers of non-limited length. Example...a=43 , num=63 etc.\n",
        "######float- holds floating precision numbers and it’s accurate up to 15 decimal places. Example...a = 46.89 , num=58858.868 etc\n",
        "######complex- holds complex numbers in the form of (x+iy) also called iota.\n",
        "\n",
        "\n",
        "\n",
        "\n",
        "\n",
        "\n"
      ],
      "metadata": {
        "id": "JoDMkCHFNHZJ"
      }
    },
    {
      "cell_type": "code",
      "source": [
        "num=100\n",
        "print(num,type(num))\n",
        "num2=10.7484\n",
        "print(num2,type(num2))\n",
        "num3=5+89j\n",
        "print(num3,type(num3))"
      ],
      "metadata": {
        "colab": {
          "base_uri": "https://localhost:8080/"
        },
        "id": "MssDOl2-EeSn",
        "outputId": "4b2b3c1c-4e30-4fe7-e18c-474106fbd5d7"
      },
      "execution_count": 7,
      "outputs": [
        {
          "output_type": "stream",
          "name": "stdout",
          "text": [
            "100 <class 'int'>\n",
            "10.7484 <class 'float'>\n",
            "(5+89j) <class 'complex'>\n"
          ]
        }
      ]
    },
    {
      "cell_type": "markdown",
      "source": [
        "*   **String data types: str**\n",
        "= The string is a sequence of characters. Python supports Unicode characters. Generally, strings are represented by either single or double-quotes."
      ],
      "metadata": {
        "id": "Dj5tIJ4gP0sh"
      }
    },
    {
      "cell_type": "code",
      "source": [
        "name=(\"SHOBHIT RAJ\")\n",
        "print(name[0:] ,type(name))"
      ],
      "metadata": {
        "id": "QD8cE0-Eo6Tq",
        "colab": {
          "base_uri": "https://localhost:8080/"
        },
        "outputId": "4772b864-472e-491a-d39c-4cb978c83ba6"
      },
      "execution_count": 19,
      "outputs": [
        {
          "output_type": "stream",
          "name": "stdout",
          "text": [
            "SHOBHIT RAJ <class 'str'>\n"
          ]
        }
      ]
    },
    {
      "cell_type": "markdown",
      "source": [
        "*   **Boolean type: bool** = For Boolean it give us only True,False only"
      ],
      "metadata": {
        "id": "Wmvf21omQKLy"
      }
    },
    {
      "cell_type": "code",
      "source": [
        "a=50\n",
        "a < 40\n",
        "a >40"
      ],
      "metadata": {
        "colab": {
          "base_uri": "https://localhost:8080/"
        },
        "id": "U0S3HFuxO49I",
        "outputId": "6fc1243d-d55d-4ef9-b67e-2c17982cae9c"
      },
      "execution_count": 12,
      "outputs": [
        {
          "output_type": "execute_result",
          "data": {
            "text/plain": [
              "True"
            ]
          },
          "metadata": {},
          "execution_count": 12
        }
      ]
    },
    {
      "cell_type": "markdown",
      "source": [
        "#Question 4. What is an expression made up of? What do all expressions do?\n",
        "An expression is a combination of operators and operands that is interpreted to produce some other value. An expression is evaluated as per the precedence of its operators.\n",
        "their are two tupe of expression....\n",
        "\n",
        "\n",
        "*   constant expression = These are the expressions that have constant values only.\n",
        "######Example...\n",
        "int a=34 print(a+38)\n",
        "\n",
        "\n",
        "---\n",
        "\n",
        "\n",
        "*   Arthmetic expression \n",
        "######Example...\n",
        "#####x=739 \n",
        "#####y=56\n",
        "#####x+y=795\n",
        "#####x*y=41384\n",
        "#####x/y=13.1964285714\n",
        "#####x//y=13\n",
        "etc..."
      ],
      "metadata": {
        "id": "baN9P7mITMnq"
      }
    },
    {
      "cell_type": "markdown",
      "source": [
        "#Question 5. This assignment statements, like spam = 10. What is the difference between an expression and a statement?\n",
        "\n",
        "\n",
        "*   Expression = An expression is a combination of values, variables, and operators. If you type an expression on the command line, the interpreter evaluates it and displays the result like...\n",
        "print(12*3)\n",
        "\n",
        "\n",
        "---\n",
        "\n",
        "\n",
        "*   Statements = A statement in Python is used for creating variables or for displaying values. In python we have two statements **print** and **assignment**.\n",
        "When we type a statement on the command line, Python executes it and displays the result like...\n",
        "######x=4\n",
        "######print(x)\n",
        "######x=y # Here i am assigning the value of x into y\n",
        "\n",
        "\n",
        "---\n",
        "######Or in layman word \n",
        "A statement in Python is used for creating variables or for displaying values. The expression in Python produces some value or result after being interpreted by the Python interpreter. A statement in Python is not evaluated for some results. An expression in Python is evaluated for some results.\n"
      ],
      "metadata": {
        "id": "BtyiBAhKW2MD"
      }
    },
    {
      "cell_type": "markdown",
      "source": [
        "#Question 6. After running the following code, what does the variable bacon contain?\n",
        "######bacon = 22\n",
        "######bacon + 1"
      ],
      "metadata": {
        "id": "Y_Deux9Aa8Mf"
      }
    },
    {
      "cell_type": "code",
      "source": [
        "bacon = 22\n",
        "bacon + 1"
      ],
      "metadata": {
        "colab": {
          "base_uri": "https://localhost:8080/"
        },
        "id": "bQ3561Kqa7e-",
        "outputId": "221b7299-ef2e-43b8-cf92-40f413673653"
      },
      "execution_count": 21,
      "outputs": [
        {
          "output_type": "execute_result",
          "data": {
            "text/plain": [
              "23"
            ]
          },
          "metadata": {},
          "execution_count": 21
        }
      ]
    },
    {
      "cell_type": "markdown",
      "source": [
        "#Question 7. What should the values of the following two terms be?\n",
        "######'spam' + 'spamspam'\n",
        "'spam' * 3\n",
        "#####Both have same output"
      ],
      "metadata": {
        "id": "TBHGuqg5bOoi"
      }
    },
    {
      "cell_type": "code",
      "source": [
        "'spam' + 'spamspam'"
      ],
      "metadata": {
        "colab": {
          "base_uri": "https://localhost:8080/",
          "height": 35
        },
        "id": "-HBjLxjUQg2C",
        "outputId": "69121148-807c-4401-d75c-83e4159e38a8"
      },
      "execution_count": 23,
      "outputs": [
        {
          "output_type": "execute_result",
          "data": {
            "text/plain": [
              "'spamspamspam'"
            ],
            "application/vnd.google.colaboratory.intrinsic+json": {
              "type": "string"
            }
          },
          "metadata": {},
          "execution_count": 23
        }
      ]
    },
    {
      "cell_type": "code",
      "source": [
        "'spam' * 3"
      ],
      "metadata": {
        "colab": {
          "base_uri": "https://localhost:8080/",
          "height": 35
        },
        "id": "-HlEbLhOVbPi",
        "outputId": "1ebc2478-bbbc-4978-a61b-f2ad96899ba3"
      },
      "execution_count": 24,
      "outputs": [
        {
          "output_type": "execute_result",
          "data": {
            "text/plain": [
              "'spamspamspam'"
            ],
            "application/vnd.google.colaboratory.intrinsic+json": {
              "type": "string"
            }
          },
          "metadata": {},
          "execution_count": 24
        }
      ]
    },
    {
      "cell_type": "markdown",
      "source": [
        "#Question 8. Why is eggs a valid variable name while 100 is invalid?\n",
        "egg can be easily assign any value because it is not a litral it can be treated like Container.\n",
        "\n",
        "\n",
        "---\n",
        "100=we cant use number as an variable because we are trying to assign value to a literal but it is not possible\n"
      ],
      "metadata": {
        "id": "kky0Yu7ScFH6"
      }
    },
    {
      "cell_type": "code",
      "source": [
        "egg=55\n",
        "print(egg)"
      ],
      "metadata": {
        "colab": {
          "base_uri": "https://localhost:8080/"
        },
        "id": "fGxwFgIFcQzj",
        "outputId": "32a720cb-d435-47bc-b147-86b526f82849"
      },
      "execution_count": 27,
      "outputs": [
        {
          "output_type": "stream",
          "name": "stdout",
          "text": [
            "55\n"
          ]
        }
      ]
    },
    {
      "cell_type": "code",
      "source": [
        "100=3"
      ],
      "metadata": {
        "colab": {
          "base_uri": "https://localhost:8080/",
          "height": 133
        },
        "id": "SxrraP7PdNkO",
        "outputId": "1f2d5019-aa59-4bcd-e6dd-61be50f458f0"
      },
      "execution_count": 28,
      "outputs": [
        {
          "output_type": "error",
          "ename": "SyntaxError",
          "evalue": "ignored",
          "traceback": [
            "\u001b[0;36m  File \u001b[0;32m\"<ipython-input-28-14be21345625>\"\u001b[0;36m, line \u001b[0;32m1\u001b[0m\n\u001b[0;31m    100=3\u001b[0m\n\u001b[0m    ^\u001b[0m\n\u001b[0;31mSyntaxError\u001b[0m\u001b[0;31m:\u001b[0m cannot assign to literal\n"
          ]
        }
      ]
    },
    {
      "cell_type": "markdown",
      "source": [
        "#Question 9. What three functions can be used to get the integer, floating-point number, or string version of a value?\n",
        "######Integer=int()\n",
        "######Float=float()\n",
        "######String=str()"
      ],
      "metadata": {
        "id": "KBE7h1zudVXQ"
      }
    },
    {
      "cell_type": "code",
      "source": [
        "integer=int(input(\"Enter your Integer :- \"))\n",
        "fpr=float(input(\"Enter your floating-point number :- \"))\n",
        "strin=str(input(\"Enter your string :- :- \"))\n",
        "print(integer, fpr, strin)"
      ],
      "metadata": {
        "colab": {
          "base_uri": "https://localhost:8080/"
        },
        "id": "u2XsYNOgdawZ",
        "outputId": "f83be30b-c5dc-4586-b63e-f6a0b53e7ba7"
      },
      "execution_count": 32,
      "outputs": [
        {
          "output_type": "stream",
          "name": "stdout",
          "text": [
            "Enter your Integer :- 36\n",
            "Enter your floating-point number :- 36.8383\n",
            "Enter your string :- :- SHOBHIT RAJ\n",
            "36 36.8383 SHOBHIT RAJ\n"
          ]
        }
      ]
    },
    {
      "cell_type": "markdown",
      "source": [
        "#Question 10. Why does this expression cause an error? How can you fix it?\n",
        "'I have eaten ' + 99 + ' burritos.' = In concatination we cant concatinate a string with integer value because Python doesn't know how to convert numeric types to strings implicitly. so for concatination we first make integer to string using single '' or double \"\".\n",
        "#####Below correct way mention..."
      ],
      "metadata": {
        "id": "SDu_TN9ogI2q"
      }
    },
    {
      "cell_type": "code",
      "source": [
        "'I have eaten ' + 99 + ' burritos.'# we have to make 99 to \"99\" or '99'"
      ],
      "metadata": {
        "colab": {
          "base_uri": "https://localhost:8080/",
          "height": 169
        },
        "id": "bPNRq0VufZLY",
        "outputId": "7241601e-00b5-41fe-8ea8-5d975d67a726"
      },
      "execution_count": 37,
      "outputs": [
        {
          "output_type": "error",
          "ename": "TypeError",
          "evalue": "ignored",
          "traceback": [
            "\u001b[0;31m---------------------------------------------------------------------------\u001b[0m",
            "\u001b[0;31mTypeError\u001b[0m                                 Traceback (most recent call last)",
            "\u001b[0;32m<ipython-input-37-a8a6f32f56a2>\u001b[0m in \u001b[0;36m<module>\u001b[0;34m\u001b[0m\n\u001b[0;32m----> 1\u001b[0;31m \u001b[0;34m'I have eaten '\u001b[0m \u001b[0;34m+\u001b[0m \u001b[0;36m99\u001b[0m \u001b[0;34m+\u001b[0m \u001b[0;34m' burritos.'\u001b[0m\u001b[0;31m# we have to make 99 to \"99\" or '99'\u001b[0m\u001b[0;34m\u001b[0m\u001b[0;34m\u001b[0m\u001b[0m\n\u001b[0m",
            "\u001b[0;31mTypeError\u001b[0m: can only concatenate str (not \"int\") to str"
          ]
        }
      ]
    },
    {
      "cell_type": "code",
      "source": [
        "'I have eaten ' + \"99\" + ' burritos.'"
      ],
      "metadata": {
        "colab": {
          "base_uri": "https://localhost:8080/",
          "height": 35
        },
        "id": "1qZ0_mCEhhIq",
        "outputId": "a965af93-c1c8-4e03-ef56-4936c597a0ff"
      },
      "execution_count": 34,
      "outputs": [
        {
          "output_type": "execute_result",
          "data": {
            "text/plain": [
              "'I have eaten 99 burritos.'"
            ],
            "application/vnd.google.colaboratory.intrinsic+json": {
              "type": "string"
            }
          },
          "metadata": {},
          "execution_count": 34
        }
      ]
    },
    {
      "cell_type": "code",
      "source": [
        "'I have eaten ' + '99' + ' burritos.'"
      ],
      "metadata": {
        "colab": {
          "base_uri": "https://localhost:8080/",
          "height": 35
        },
        "id": "IhE5ZQixhn-5",
        "outputId": "2d333e29-f435-4945-dfb0-9ac1b07aed1c"
      },
      "execution_count": 35,
      "outputs": [
        {
          "output_type": "execute_result",
          "data": {
            "text/plain": [
              "'I have eaten 99 burritos.'"
            ],
            "application/vnd.google.colaboratory.intrinsic+json": {
              "type": "string"
            }
          },
          "metadata": {},
          "execution_count": 35
        }
      ]
    }
  ]
}