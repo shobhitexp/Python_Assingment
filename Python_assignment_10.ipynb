{
  "nbformat": 4,
  "nbformat_minor": 0,
  "metadata": {
    "colab": {
      "provenance": []
    },
    "kernelspec": {
      "name": "python3",
      "display_name": "Python 3"
    },
    "language_info": {
      "name": "python"
    }
  },
  "cells": [
    {
      "cell_type": "markdown",
      "metadata": {
        "id": "KV1ibWeTDI4S"
      },
      "source": [
        "#Python Basic Assignment 10"
      ]
    },
    {
      "cell_type": "markdown",
      "metadata": {
        "id": "paSp8q7LDMIm"
      },
      "source": [
        "\n",
        "\n",
        "> Question 1 . How do you distinguish between shutil.copy() and shutil.copytree()?\n",
        "\n"
      ]
    },
    {
      "cell_type": "markdown",
      "metadata": {
        "id": "1XKeV3a9DqHS"
      },
      "source": [
        "\n",
        "\n",
        "*   Ans. shutil.copy : Copies a single file <br>\n",
        "shutil.copytree() : will copy an entire folder and every folder and file contained in it.\n",
        "\n",
        "----------------\n",
        "\n"
      ]
    },
    {
      "cell_type": "markdown",
      "metadata": {
        "id": "YKzAwSxQDv8B"
      },
      "source": [
        "\n",
        "\n",
        "> Question 2. What function is used to rename files??\n",
        "\n"
      ]
    },
    {
      "cell_type": "markdown",
      "metadata": {
        "id": "MdbRAL2RD8Kp"
      },
      "source": [
        "\n",
        "\n",
        "*   Ans. import os <br>\n",
        "os.rename(\"text.txt\",\"testnew.txt\")\n",
        "\n",
        "\n",
        "----------------\n",
        "\n"
      ]
    },
    {
      "cell_type": "markdown",
      "metadata": {
        "id": "0LAoJniqEDot"
      },
      "source": [
        "\n",
        "\n",
        ">  Question 3. What is the difference between the delete functions in the send2trash and shutil modules?\n",
        "\n"
      ]
    },
    {
      "cell_type": "markdown",
      "metadata": {
        "id": "FqI6WceDELRr"
      },
      "source": [
        "\n",
        "\n",
        "*   Ans. import shutil\n",
        "shutil.retree():\n",
        "The shutil module’s rmtree() function can be used to delete files or folders. But, this function delete the files\n",
        "permanently.\n",
        "The operations cannot be undone if there were any accidental deletions performed\n",
        "\n",
        "\n",
        "\n",
        "*   import send2trash\n",
        "\n",
        "*   send2trash.send2trash() : Using send2trash, we can send files to the Trash or Recycle Bin instead of permanently\n",
        "deleting them.\n",
        "If the directory contains files or other folders, those are also deleted. A TrashPermissionError exception is raised,\n",
        "in case a file could not be deleted due to permission error or any other unexpected reason.\n",
        "\n",
        "\n",
        "--------------\n",
        "\n",
        "\n",
        "\n",
        "\n"
      ]
    },
    {
      "cell_type": "code",
      "metadata": {
        "id": "TnT1U6M_EdS7"
      },
      "source": [
        "import shutil\n",
        "import send2trash\n",
        "shutil.rmtree(\"path\")\n",
        "send2trash.send2trash(\"path\")"
      ],
      "execution_count": null,
      "outputs": []
    },
    {
      "cell_type": "markdown",
      "source": [
        "------------"
      ],
      "metadata": {
        "id": "vjG6CozJ2Wih"
      }
    },
    {
      "cell_type": "markdown",
      "metadata": {
        "id": "jzyB81jUGFDU"
      },
      "source": [
        "\n",
        "\n",
        "> Question 4. ZipFile objects have a close() method just like File objects’ close() method. What ZipFile method is equivalent to File objects’ open() method?\n",
        "\n"
      ]
    },
    {
      "cell_type": "markdown",
      "metadata": {
        "id": "RyNygKx-GIuR"
      },
      "source": [
        "\n",
        "\n",
        "*   Ans. from zipfile import Zipfile\n",
        "with ZipFile(file_name, 'r') as zip: -> this code will open specified zipfile for us. we can use zip object to preform other operation the ziplife. like zip.read()\n",
        "\n"
      ]
    },
    {
      "cell_type": "code",
      "metadata": {
        "id": "NZA0-RvQGXQ-"
      },
      "source": [
        "from zipfile import Zipfile\n",
        "with ZipFile(file_name, 'r') as zip"
      ],
      "execution_count": null,
      "outputs": []
    },
    {
      "cell_type": "markdown",
      "source": [
        "--------------"
      ],
      "metadata": {
        "id": "fRfjeO5N2UwP"
      }
    },
    {
      "cell_type": "markdown",
      "metadata": {
        "id": "QCJ00L6DGcvf"
      },
      "source": [
        "\n",
        "\n",
        "> Question 5. Create a programme that searches a folder tree for files with a certain file extension (such as .pdf or .jpg). Copy these files from whatever location they are in to a new folder.\n",
        "\n"
      ]
    },
    {
      "cell_type": "code",
      "metadata": {
        "id": "805tAQQ3Gfa_"
      },
      "source": [
        "import os, shutil\n",
        "\n",
        "def selectiveCopy(source, extensions, destination):\n",
        "    folder = os.path.abspath(source)\n",
        "    destination = os.path.abspath(destination)\n",
        "    print('Looking in', source, 'for files with extensions of', ', '.join(extensions))\n",
        "    for foldername, subfolders, filenames in os.walk(source):\n",
        "        for filename in filenames:\n",
        "            name, extension = os.path.splitext(filename)\n",
        "            if extension in extensions:\n",
        "                fileAbsPath = foldername + os.path.sep + filename\n",
        "                print('Coping', fileAbsPath, 'to', destination)\n",
        "                shutil.copy(fileAbsPath, destination)\n",
        "\n",
        "extensions = ['.mp4', '.pdf','.jpg']\n",
        "source = \"C:\\Users\\Shiva000\\Desktop\"\n",
        "destination = \"C:\\Users\\Shiva000\\Desktop\\abc\"\n",
        "selectiveCopy(source, extensions, destination)"
      ],
      "execution_count": null,
      "outputs": []
    },
    {
      "cell_type": "markdown",
      "source": [
        "------------\n",
        "------------"
      ],
      "metadata": {
        "id": "Plssgndp2SRf"
      }
    }
  ]
}