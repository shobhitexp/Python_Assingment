{
  "nbformat": 4,
  "nbformat_minor": 0,
  "metadata": {
    "colab": {
      "provenance": []
    },
    "kernelspec": {
      "name": "python3",
      "display_name": "Python 3"
    },
    "language_info": {
      "name": "python"
    }
  },
  "cells": [
    {
      "cell_type": "markdown",
      "metadata": {
        "id": "1powEEhANU6g"
      },
      "source": [
        "> Q. Create a function that takes three arguments a, b, c and returns the sum of the\n",
        "numbers that are evenly divided by c from the range a, b inclusive.\n",
        "Examples\n",
        "evenly_divisible(1, 10, 20) ➞ 0\n",
        "No number between 1 and 10 can be evenly divided by 20.\n",
        "evenly_divisible(1, 10, 2) ➞ 30\n",
        "2 + 4 + 6 + 8 + 10 = 30\n",
        "evenly_divisible(1, 10, 3) ➞ 18\n",
        "3 + 6 + 9 = 18"
      ]
    },
    {
      "cell_type": "code",
      "metadata": {
        "colab": {
          "base_uri": "https://localhost:8080/"
        },
        "id": "qC4WeJFKMvct",
        "outputId": "a7cae0a3-1c49-43e8-9c72-fee966f6d57b"
      },
      "source": [
        "def abc(a, b, c):\n",
        "    sum = 0\n",
        "    for i in range(a, b + 1):\n",
        "        if (i % c == 0):\n",
        "            sum += i\n",
        "    return sum\n",
        "a = int(input('Enter a : '))\n",
        "b = int(input('Enter b : '))\n",
        "c = int(input('Enter c : '))\n",
        "print(abc(a, b, c))"
      ],
      "execution_count": 1,
      "outputs": [
        {
          "output_type": "stream",
          "name": "stdout",
          "text": [
            "Enter a : 1\n",
            "Enter b : 10\n",
            "Enter c : 2\n",
            "30\n"
          ]
        }
      ]
    },
    {
      "cell_type": "markdown",
      "source": [
        "----"
      ],
      "metadata": {
        "id": "INMD3RowLQGr"
      }
    },
    {
      "cell_type": "markdown",
      "metadata": {
        "id": "UY3ePYvgNyjV"
      },
      "source": [
        "> Q. Create a function that returns True if a given inequality expression is correct and\n",
        "False otherwise.\n",
        "Examples\n",
        "correct_signs(\"3 > 7 < 11\") ➞ True\n",
        "correct_signs(\"13 > 44 > 33 > 1\") ➞ False\n",
        "correct_signs(\"1 < 2 < 6 < 9 > 3\") ➞ True"
      ]
    },
    {
      "cell_type": "code",
      "metadata": {
        "colab": {
          "base_uri": "https://localhost:8080/"
        },
        "id": "DSAphrQtNnTG",
        "outputId": "0d283593-b053-40f2-d82c-49c9b6747e5f"
      },
      "source": [
        "def correct_signs ( txt ) :\n",
        "    return eval ( txt )\n",
        "print(correct_signs(\"3 > 7 < 11\"))\n",
        "print(correct_signs(\"13 > 44 > 33 > 1\"))\n",
        "print(correct_signs(\"1 < 2 < 6 < 9 > 3\"))"
      ],
      "execution_count": 2,
      "outputs": [
        {
          "output_type": "stream",
          "name": "stdout",
          "text": [
            "False\n",
            "False\n",
            "True\n"
          ]
        }
      ]
    },
    {
      "cell_type": "markdown",
      "source": [
        "-------------"
      ],
      "metadata": {
        "id": "f9McPMR6LZc6"
      }
    },
    {
      "cell_type": "markdown",
      "metadata": {
        "id": "XUb_KjEeOHOF"
      },
      "source": [
        "> Q. Create a function that replaces all the vowels in a string with a specified character.\n",
        "#####Examples\n",
        "#####replace_vowels('the aardvark, '#') ➞ 'th# ##rdv#rk'\n",
        "#####replace_vowels('minnie mouse', '?') ➞ 'm?nn?? m??s?'\n",
        "#####replace_vowels('shakespeare', '*') ➞ 'sh*k*sp**r*'"
      ]
    },
    {
      "cell_type": "code",
      "metadata": {
        "colab": {
          "base_uri": "https://localhost:8080/"
        },
        "id": "YLtQ4YCmN-Ai",
        "outputId": "4aa27da8-17c5-47fc-87e3-84a8c92d14a5"
      },
      "source": [
        "def replace_vowels(str, s):\n",
        "    vowels = 'AEIOUaeiou'\n",
        "    for ele in vowels:\n",
        "        str = str.replace(ele, s)\n",
        "    return str\n",
        "\n",
        "input_str = input(\"enter a string :- \")\n",
        "s = input(\"enter a vowel replacing string :- \")\n",
        "print(\"\\nGiven Sting:\", input_str)\n",
        "print(\"Given Specified Character :- \", s)\n",
        "print(\"Afer replacing vowels with the specified character:\",replace_vowels(input_str, s))"
      ],
      "execution_count": 5,
      "outputs": [
        {
          "output_type": "stream",
          "name": "stdout",
          "text": [
            "enter a string :- the aardvark\n",
            "enter a vowel replacing string :- #\n",
            "\n",
            "Given Sting: the aardvark\n",
            "Given Specified Character :-  #\n",
            "Afer replacing vowels with the specified character: th# ##rdv#rk\n"
          ]
        }
      ]
    },
    {
      "cell_type": "markdown",
      "source": [
        "---------------"
      ],
      "metadata": {
        "id": "ohRuRRLxLmrt"
      }
    },
    {
      "cell_type": "markdown",
      "metadata": {
        "id": "1GuMBuQKOl2q"
      },
      "source": [
        "> Q.Write a function that calculates the factorial of a number recursively.\n",
        "Examples\n",
        "factorial(5) ➞ 120\n",
        "factorial(3) ➞ 6\n",
        "factorial(1) ➞ 1\n",
        "factorial(0) ➞ 1\n"
      ]
    },
    {
      "cell_type": "code",
      "metadata": {
        "colab": {
          "base_uri": "https://localhost:8080/"
        },
        "id": "1cu10bwZOW2p",
        "outputId": "68cfff38-ab1b-4036-a629-d7335265d5f4"
      },
      "source": [
        "def factorial(n):\n",
        "    if n == 0:\n",
        "        return 1\n",
        "    return n * factorial(n-1)\n",
        "\n",
        "num = int(input('enter a number :- '))\n",
        "print(\"Factorial of\", num, \"is\", factorial(num))"
      ],
      "execution_count": 6,
      "outputs": [
        {
          "output_type": "stream",
          "name": "stdout",
          "text": [
            "enter a number :- 5\n",
            "Factorial of 5 is 120\n"
          ]
        }
      ]
    },
    {
      "cell_type": "markdown",
      "source": [
        "-----------------"
      ],
      "metadata": {
        "id": "V4ze9m2JMezY"
      }
    },
    {
      "cell_type": "markdown",
      "metadata": {
        "id": "OCGIKG00O1G-"
      },
      "source": [
        ">Q. Hamming distance is the number of characters that differ between two strings.\n",
        "To illustrate:\n",
        "#####String1: 'abcbba'\n",
        "#####String2: 'abcbda'\n",
        "#####Hamming Distance: 1 - 'b' vs. 'd' is the only difference.\n",
        "#####Create a function that computes the hamming distance between two strings.\n",
        "#####Examples\n",
        "#####hamming_distance('abcde', 'bcdef') ➞ 5\n",
        "#####hamming_distance('abcde', 'abcde') ➞ 0\n",
        "#####hamming_distance('strong', 'strung') ➞ 1"
      ]
    },
    {
      "cell_type": "code",
      "metadata": {
        "colab": {
          "base_uri": "https://localhost:8080/"
        },
        "id": "0A3NrnSEOwAq",
        "outputId": "44e13094-2f87-4af8-d67f-39ffdac72989"
      },
      "source": [
        "def hamming_distance(str1, str2):\n",
        "    i = 0\n",
        "    count = 0\n",
        "\n",
        "    while(i < len(str1)):\n",
        "        if(str1[i] != str2[i]):\n",
        "            count += 1\n",
        "        i += 1\n",
        "    return count\n",
        "\n",
        "str1 = \"abcde\"\n",
        "str2 = \"bcdef\"\n",
        "print(hamming_distance(str1, str2))\n",
        "print(hamming_distance('strong', 'strung'))"
      ],
      "execution_count": 9,
      "outputs": [
        {
          "output_type": "stream",
          "name": "stdout",
          "text": [
            "5\n",
            "1\n"
          ]
        }
      ]
    },
    {
      "cell_type": "markdown",
      "source": [
        "--------------\n",
        "--------------"
      ],
      "metadata": {
        "id": "XIX0EMzmMxu7"
      }
    }
  ]
}