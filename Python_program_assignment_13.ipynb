{
  "nbformat": 4,
  "nbformat_minor": 0,
  "metadata": {
    "colab": {
      "provenance": []
    },
    "kernelspec": {
      "name": "python3",
      "display_name": "Python 3"
    },
    "language_info": {
      "name": "python"
    }
  },
  "cells": [
    {
      "cell_type": "markdown",
      "source": [
        "Question 1:\n",
        "Write a program that calculates and prints the value according to the given formula:\n",
        "Q = Square root of [(2 * C * D)/H]\n",
        "Following are the fixed values of C and H:\n",
        "C is 50. H is 30.\n",
        "D is the variable whose values should be input to your program in a comma-separated\n",
        "sequence.\n",
        "Example\n",
        "Let us assume the following comma separated input sequence is given to the program:\n",
        "100,150,180\n",
        "The output of the program should be:\n",
        "18,22,24"
      ],
      "metadata": {
        "id": "AHHNGfFoWHVM"
      }
    },
    {
      "cell_type": "code",
      "execution_count": null,
      "metadata": {
        "colab": {
          "base_uri": "https://localhost:8080/"
        },
        "id": "yQ2eITL1V8Xk",
        "outputId": "db853b65-e41c-4929-bf0c-1d831d609952"
      },
      "outputs": [
        {
          "output_type": "stream",
          "name": "stdout",
          "text": [
            "Enter multiple values\n",
            "100, 150, 180\n",
            "18\n",
            "22\n",
            "24\n"
          ]
        }
      ],
      "source": [
        "import math\n",
        "C=50\n",
        "H=30\n",
        "D=list(map(int, input(\"Enter multiple values\\n\").split(', ')))\n",
        "for i in range(0,len(D)):\n",
        "  Q=int(math.sqrt((2*C*D[i])/H))\n",
        "  print(Q)\n"
      ]
    },
    {
      "cell_type": "markdown",
      "source": [
        "-------------"
      ],
      "metadata": {
        "id": "QSTajAOG9JWH"
      }
    },
    {
      "cell_type": "markdown",
      "source": [
        "Question 2:\n",
        "* Write a program which takes 2 digits, X,Y as input and generates a 2-dimensional array. The\n",
        "element value in the i-th row and j-th column of the array should be i*j.\n",
        "* Note: i=0,1.., X-1; j=0,1,¡Y-1.\n",
        "* Example\n",
        "Suppose the following inputs are given to the program:\n",
        "3,5\n",
        "* Then, the output of the program should be:\n",
        "* [[0, 0, 0, 0, 0], [0, 1, 2, 3, 4], [0, 2, 4, 6, 8]]"
      ],
      "metadata": {
        "id": "M_J6CqCKZAP4"
      }
    },
    {
      "cell_type": "code",
      "source": [
        "def generate_2d_array(X, Y):\n",
        "    # Initialize an empty 2-dimensional array\n",
        "    array_2d = []\n",
        "    # Iterate over rows (i)\n",
        "    for i in range(X):\n",
        "        # Initialize a row as an empty list\n",
        "        row = []\n",
        "\n",
        "        # Iterate over columns (j)\n",
        "        for j in range(Y):\n",
        "            # Calculate the value of the element at the i-th row and j-th column\n",
        "            element = i * j\n",
        "\n",
        "            # Append the element to the row\n",
        "            row.append(element)\n",
        "\n",
        "        # Append the row to the 2-dimensional array\n",
        "        array_2d.append(row)\n",
        "\n",
        "    return array_2d\n",
        "\n",
        "# Taking inputs from the user\n",
        "X, Y = map(int, input(\"Enter two digits X and Y separated by a comma :- \").split(','))\n",
        "# Generate the 2-dimensional array\n",
        "result_array = generate_2d_array(X, Y)\n",
        "# Print the output\n",
        "print(result_array)"
      ],
      "metadata": {
        "id": "nCMxWnIAYZzK",
        "colab": {
          "base_uri": "https://localhost:8080/"
        },
        "outputId": "0d7bb8d1-4217-47b9-a131-626a6dd9b1d1"
      },
      "execution_count": 9,
      "outputs": [
        {
          "output_type": "stream",
          "name": "stdout",
          "text": [
            "Enter two digits X and Y separated by a comma :- 3,5\n",
            "[[0, 0, 0, 0, 0], [0, 1, 2, 3, 4], [0, 2, 4, 6, 8]]\n"
          ]
        }
      ]
    },
    {
      "cell_type": "markdown",
      "source": [
        "------------\n"
      ],
      "metadata": {
        "id": "DRnPm_C19HF2"
      }
    },
    {
      "cell_type": "markdown",
      "source": [
        "Question 3:\n",
        "Write a program that accepts a comma separated sequence of words as input and prints the\n",
        "words in a comma-separated sequence after sorting them alphabetically.\n",
        "Suppose the following input is supplied to the program:\n",
        "without,hello,bag,world\n",
        "Then, the output should be:\n",
        "bag,hello,without,world"
      ],
      "metadata": {
        "id": "6-SkufFD9krp"
      }
    },
    {
      "cell_type": "code",
      "source": [
        "input_words = input(\"Enter a comma-separated sequence of words :- \")\n",
        "\n",
        "# Split the input string by commas to get individual words\n",
        "words_list = input_words.split(',')\n",
        "\n",
        "# Sort the words in alphabetical order\n",
        "words_list.sort()\n",
        "\n",
        "# Join the sorted words back into a comma-separated sequence\n",
        "sorted_sequence = ','.join(words_list)\n",
        "\n",
        "# Print the output\n",
        "print(sorted_sequence)"
      ],
      "metadata": {
        "colab": {
          "base_uri": "https://localhost:8080/"
        },
        "id": "5LwBpEgp1ETv",
        "outputId": "4334d197-cbd7-465a-9334-db4dac6dfbcb"
      },
      "execution_count": 10,
      "outputs": [
        {
          "output_type": "stream",
          "name": "stdout",
          "text": [
            "Enter a comma-separated sequence of words :- without,hello,bag,world\n",
            "bag,hello,without,world\n"
          ]
        }
      ]
    },
    {
      "cell_type": "markdown",
      "source": [
        "-------------\n"
      ],
      "metadata": {
        "id": "X5tdzNjE-PaY"
      }
    },
    {
      "cell_type": "markdown",
      "source": [
        "> Question 4:\n",
        "Write a program that accepts a sequence of whitespace separated words as input and prints\n",
        "the words after removing all duplicate words and sorting them alphanumerically.\n",
        "Suppose the following input is supplied to the program:\n",
        "hello world and practice makes perfect and hello world again\n",
        "Then, the output should be:\n",
        "again and hello makes perfect practice world"
      ],
      "metadata": {
        "id": "HHqv9wPN-VYv"
      }
    },
    {
      "cell_type": "code",
      "source": [
        "st=input(\"Enter your sentance :- \")\n",
        "sp=st.split(' ')\n",
        "sp=list(set(sp))\n",
        "sp.sort()\n",
        "print(sp)"
      ],
      "metadata": {
        "colab": {
          "base_uri": "https://localhost:8080/"
        },
        "id": "O0-DqLGE-HzB",
        "outputId": "0fe9f521-ba77-4ef7-bb92-948201555367"
      },
      "execution_count": 18,
      "outputs": [
        {
          "output_type": "stream",
          "name": "stdout",
          "text": [
            "Enter your sentance :- hello world and practice makes perfect and hello world again\n",
            "['again', 'and', 'hello', 'makes', 'perfect', 'practice', 'world']\n"
          ]
        }
      ]
    },
    {
      "cell_type": "markdown",
      "source": [
        "------------\n",
        "\n",
        "Question 5:\n",
        "Write a program that accepts a sentence and calculate the number of letters and digits.\n",
        "Suppose the following input is supplied to the program:\n",
        "hello world! 123\n",
        "Then, the output should be:\n",
        "LETTERS 10\n",
        "\n",
        "DIGITS 3"
      ],
      "metadata": {
        "id": "iRaGCTAbW_KD"
      }
    },
    {
      "cell_type": "code",
      "source": [
        "def count_letters_and_digits(sentence):\n",
        "    letters_count = 0\n",
        "    digits_count = 0\n",
        "    for char in sentence:\n",
        "        if char.isalpha():\n",
        "            letters_count += 1\n",
        "        elif char.isdigit():\n",
        "            digits_count += 1\n",
        "    return letters_count, digits_count\n",
        "sentence = input(\"Enter a sentence: \")\n",
        "letters, digits = count_letters_and_digits(sentence)\n",
        "print(\"LETTERS\", letters)\n",
        "print(\"DIGITS\", digits)"
      ],
      "metadata": {
        "colab": {
          "base_uri": "https://localhost:8080/"
        },
        "id": "SW_t7Ik5KX0d",
        "outputId": "d18f79a2-a775-4e6a-cf4d-75a4caddc9d6"
      },
      "execution_count": 19,
      "outputs": [
        {
          "output_type": "stream",
          "name": "stdout",
          "text": [
            "Enter a sentence: hello world! 123\n",
            "LETTERS 10\n",
            "DIGITS 3\n"
          ]
        }
      ]
    },
    {
      "cell_type": "markdown",
      "source": [
        "-----------\n",
        "\n",
        "> Question 6:\n",
        "A website requires the users to input username and password to register. Write a program to\n",
        "check the validity of password input by users.\n",
        "Following are the criteria for checking the password:\n",
        "1. At least 1 letter between [a-z]\n",
        "2. At least 1 number between [0-9]\n",
        "1. At least 1 letter between [A-Z]\n",
        "3. At least 1 character from [$#@]\n",
        "4. Minimum length of transaction password: 6\n",
        "5. Maximum length of transaction password: 12\n",
        "Your program should accept a sequence of comma separated passwords and will check them\n",
        "according to the above criteria. Passwords that match the criteria are to be printed, each\n",
        "separated by a comma.\n",
        "Example\n",
        "If the following passwords are given as input to the program:\n",
        "ABd1234@1,a F1#,2w3E*,2We3345\n",
        "Then, the output of the program should be:\n",
        "ABd1234@1"
      ],
      "metadata": {
        "id": "WT3RMmdCXrpk"
      }
    },
    {
      "cell_type": "code",
      "source": [
        "import re\n",
        "def is_valid_password(password):\n",
        "    # Check if the password meets all the criteria using regular expressions\n",
        "    if (\n",
        "        re.search(r'[a-z]', password) and\n",
        "        re.search(r'[0-9]', password) and\n",
        "        re.search(r'[A-Z]', password) and\n",
        "        re.search(r'[$#@]', password) and\n",
        "        6 <= len(password) <= 12):\n",
        "        return True\n",
        "    else:\n",
        "        return False\n",
        "\n",
        "# Taking input from the user\n",
        "passwords = input(\"Enter a sequence of comma-separated passwords :- \")\n",
        "\n",
        "# Split the input string by commas to get individual passwords\n",
        "passwords_list = passwords.split(',')\n",
        "\n",
        "# Check the validity of each password and store the valid ones in a list\n",
        "valid_passwords = [password for password in passwords_list if is_valid_password(password)]\n",
        "\n",
        "# Join the valid passwords back into a comma-separated sequence\n",
        "valid_passwords_str = ','.join(valid_passwords)\n",
        "\n",
        "# Print the output\n",
        "print(valid_passwords_str)"
      ],
      "metadata": {
        "colab": {
          "base_uri": "https://localhost:8080/"
        },
        "id": "vqPUl8r1YJA2",
        "outputId": "c0fbf2d8-82f9-4127-fcb0-e63e45aa9f8e"
      },
      "execution_count": 21,
      "outputs": [
        {
          "output_type": "stream",
          "name": "stdout",
          "text": [
            "Enter a sequence of comma-separated passwords :- ABd1234@1,a F1#,2w3E*,2We3345\n",
            "ABd1234@1\n"
          ]
        }
      ]
    },
    {
      "cell_type": "markdown",
      "source": [
        "-------------\n",
        "------------"
      ],
      "metadata": {
        "id": "uXDolO4Sa0i-"
      }
    }
  ]
}