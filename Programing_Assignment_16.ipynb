{
  "nbformat": 4,
  "nbformat_minor": 0,
  "metadata": {
    "colab": {
      "provenance": []
    },
    "kernelspec": {
      "name": "python3",
      "display_name": "Python 3"
    },
    "language_info": {
      "name": "python"
    }
  },
  "cells": [
    {
      "cell_type": "markdown",
      "source": [
        "Question1. Write a function that stutters a word as if someone is struggling to read it. The\n",
        "first two letters are repeated twice with an ellipsis ... and space after each, and then the\n",
        "word is pronounced with a question mark ?.\n",
        "Examples\n",
        "stutter(&quot;incredible&quot;) ➞ &quot;in... in... incredible?&quot;\n",
        "stutter(&quot;enthusiastic&quot;) ➞ &quot;en... en... enthusiastic?&quot;\n",
        "stutter(&quot;outstanding&quot;) ➞ &quot;ou... ou... outstanding?&quot;\n",
        "\n",
        "Hint :- Assume all input is in lower case and at least two characters long."
      ],
      "metadata": {
        "id": "2fTp_oMVxByF"
      }
    },
    {
      "cell_type": "code",
      "execution_count": 5,
      "metadata": {
        "colab": {
          "base_uri": "https://localhost:8080/",
          "height": 53
        },
        "id": "3C-oAEUTv5Wu",
        "outputId": "8e170e3a-a1f3-4c01-b7c6-3e4bcef69ad4"
      },
      "outputs": [
        {
          "name": "stdout",
          "output_type": "stream",
          "text": [
            "Enter your Word :- outstanding\n"
          ]
        },
        {
          "output_type": "execute_result",
          "data": {
            "text/plain": [
              "'ou...ou...outstanding'"
            ],
            "application/vnd.google.colaboratory.intrinsic+json": {
              "type": "string"
            }
          },
          "metadata": {},
          "execution_count": 5
        }
      ],
      "source": [
        "def stutter(val):\n",
        "  return (f\"\"\"{val[0:2]}...{val[0:2]}...{val}\"\"\")\n",
        "val=input(\"Enter your Word :- \")\n",
        "stutter(val)"
      ]
    },
    {
      "cell_type": "markdown",
      "source": [
        "--------------"
      ],
      "metadata": {
        "id": "UDM_4x4c1bO2"
      }
    },
    {
      "cell_type": "markdown",
      "source": [
        "Question 2.Create a function that takes an angle in radians and returns the corresponding\n",
        "angle in degrees rounded to one decimal place.\n",
        "> Examples\n",
        "* radians_to_degrees(1) ➞ 57.3\n",
        "* radians_to_degrees(20) ➞ 1145.9\n",
        "* radians_to_degrees(50) ➞ 2864.8"
      ],
      "metadata": {
        "id": "4acwAKzb1a8i"
      }
    },
    {
      "cell_type": "code",
      "source": [
        "import math\n",
        "\n",
        "def corresponding_angle(radius):\n",
        "  degree=radius*(180/math.pi)\n",
        "  return degree\n",
        "radius=int(input(\"Enter your radius :- \"))\n",
        "corresponding_angle(radius)"
      ],
      "metadata": {
        "colab": {
          "base_uri": "https://localhost:8080/"
        },
        "id": "mY1ahwziz_Ju",
        "outputId": "4b508a59-f7da-4a86-e5b5-69fa73f56976"
      },
      "execution_count": 12,
      "outputs": [
        {
          "name": "stdout",
          "output_type": "stream",
          "text": [
            "Enter your radius :- 1\n"
          ]
        },
        {
          "output_type": "execute_result",
          "data": {
            "text/plain": [
              "57.29577951308232"
            ]
          },
          "metadata": {},
          "execution_count": 12
        }
      ]
    },
    {
      "cell_type": "markdown",
      "source": [
        "-----------------\n"
      ],
      "metadata": {
        "id": "8raCN-a0_btT"
      }
    },
    {
      "cell_type": "markdown",
      "source": [
        "Question 3. In this challenge, establish if a given integer num is a Curzon number. If 1 plus\n",
        "2 elevated to num is exactly divisible by 1 plus 2 multiplied by num, then num is a Curzon\n",
        "number.\n",
        "* Given a non-negative integer num, implement a function that returns True if num is a Curzon\n",
        "number, or False otherwise.\n",
        "\n",
        "Examples\n",
        "* is_curzon(5) ➞ True\n",
        "##### 2 ** 5 + 1 = 33\n",
        "2 * 5 + 1 = 11\n",
        "33 is a multiple of 11\n",
        "#####is_curzon(10) ➞ False\n",
        "##### 2 ** 10 + 1 = 1025\n",
        "##### 2 * 10 + 1 = 21\n",
        "##### 1025 is not a multiple of 21\n",
        "is_curzon(14) ➞ True\n",
        "##### 2 ** 14 + 1 = 16385\n",
        "##### 2 * 14 + 1 = 29\n",
        "##### 16385 is a multiple of 29"
      ],
      "metadata": {
        "id": "-4BHsdZU_hwh"
      }
    },
    {
      "cell_type": "code",
      "source": [
        "def Curzon(num):\n",
        "  a=2**num+1\n",
        "  b=2*num+1\n",
        "  if a%b==0:\n",
        "    return True\n",
        "  else:\n",
        "    return False\n",
        "num=int(input(\"Enter your Number :- \"))\n",
        "Curzon(num)"
      ],
      "metadata": {
        "colab": {
          "base_uri": "https://localhost:8080/"
        },
        "id": "g9ccNOBX_RdE",
        "outputId": "c14df19e-0fcd-43ad-8efe-de4ac90b6e7f"
      },
      "execution_count": 14,
      "outputs": [
        {
          "name": "stdout",
          "output_type": "stream",
          "text": [
            "Enter your Number :- 10\n"
          ]
        },
        {
          "output_type": "execute_result",
          "data": {
            "text/plain": [
              "False"
            ]
          },
          "metadata": {},
          "execution_count": 14
        }
      ]
    },
    {
      "cell_type": "markdown",
      "source": [
        "-------------\n",
        "Question 4\n",
        "find area of hexagon\n",
        "###Area = (3√3s^2)/2\n",
        "> Examples\n",
        "######area_of_hexagon(1) ➞ 2.6\n",
        "area_of_hexagon(2) ➞ 10.4\n",
        "area_of_hexagon(3) ➞ 23.4\n"
      ],
      "metadata": {
        "id": "DJCouExBCXJJ"
      }
    },
    {
      "cell_type": "code",
      "source": [
        "import math\n",
        "def hex(s):\n",
        "  area = ((3*math.sqrt(3)*s**2)/2)\n",
        "  return area\n",
        "s=int(input(\"Enter the length of one side of hexagon :- \"))\n",
        "hex(s)"
      ],
      "metadata": {
        "colab": {
          "base_uri": "https://localhost:8080/"
        },
        "id": "oM426qmHBWlr",
        "outputId": "97ce8772-4bce-4f53-b469-f249c224b9d7"
      },
      "execution_count": 22,
      "outputs": [
        {
          "name": "stdout",
          "output_type": "stream",
          "text": [
            "Enter the length of one side of hexagon :- 2\n"
          ]
        },
        {
          "output_type": "execute_result",
          "data": {
            "text/plain": [
              "10.392304845413264"
            ]
          },
          "metadata": {},
          "execution_count": 22
        }
      ]
    },
    {
      "cell_type": "markdown",
      "source": [
        "---------------------\n",
        "Question 5. Create a function that returns a base-2 (binary) representation of a base-10\n",
        "(decimal) string number. To convert is simple: ((2) means base-2 and (10) means base-10)\n",
        "010101001(2) = 1 + 8 + 32 + 128.\n",
        "Going from right to left, the value of the most right bit is 1, now from that every bit to the left\n",
        "will be x2 the value, value of an 8 bit binary numbers are (256, 128, 64, 32, 16, 8, 4, 2, 1).\n",
        "* Examples\n",
        "binary(1) ➞ &quot;1&quot;\n",
        "###### 1*1 = 1\n",
        "binary(5) ➞ &quot;101&quot;\n",
        "###### 1*1 + 1*4 = 5\n",
        "binary(10) ➞ &quot;1010&quot;\n",
        "###### 1*2 + 1*8 = 10"
      ],
      "metadata": {
        "id": "VOvT4ZJtEqSm"
      }
    },
    {
      "cell_type": "code",
      "source": [
        "def convertToBinary(n):\n",
        "   if n > 1:\n",
        "       convertToBinary(n//2)\n",
        "   print(n % 2,end = '')\n",
        "dec = int(input(\"Enter your number :- \"))\n",
        "convertToBinary(dec)\n",
        "print()"
      ],
      "metadata": {
        "colab": {
          "base_uri": "https://localhost:8080/"
        },
        "id": "mmsP40PxD6k0",
        "outputId": "eeb16d96-a3e3-4797-e16a-8c0c4f0642bd"
      },
      "execution_count": 27,
      "outputs": [
        {
          "output_type": "stream",
          "name": "stdout",
          "text": [
            "Enter your number :- 10\n",
            "1010\n"
          ]
        }
      ]
    },
    {
      "cell_type": "markdown",
      "source": [
        "------------\n",
        "-------------"
      ],
      "metadata": {
        "id": "S8NbF8oOHDp0"
      }
    }
  ]
}