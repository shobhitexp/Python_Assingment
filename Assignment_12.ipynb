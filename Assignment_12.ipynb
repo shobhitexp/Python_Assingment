{
  "nbformat": 4,
  "nbformat_minor": 0,
  "metadata": {
    "colab": {
      "provenance": []
    },
    "kernelspec": {
      "name": "python3",
      "display_name": "Python 3"
    },
    "language_info": {
      "name": "python"
    }
  },
  "cells": [
    {
      "cell_type": "markdown",
      "metadata": {
        "id": "ROScO6f2MKuF"
      },
      "source": [
        "\n",
        "\n",
        "> Question 1 : - In what modes should the PdfFileReader() and PdfFileWriter() File objects will be opened?\n",
        "\n"
      ]
    },
    {
      "cell_type": "markdown",
      "metadata": {
        "id": "9i9oWLIEMQOO"
      },
      "source": [
        "\n",
        "\n",
        "*   These files will be opened in binary mode., read binary (rb) for PdfFileREader() and write binary (wb) PdfFileWriter()\n",
        "\n"
      ]
    },
    {
      "cell_type": "code",
      "metadata": {
        "colab": {
          "base_uri": "https://localhost:8080/"
        },
        "id": "usJa-Zj0xPnj",
        "outputId": "48459845-8416-45db-c131-e227adad37f3"
      },
      "source": [
        "!pip install PyPDF2"
      ],
      "execution_count": 6,
      "outputs": [
        {
          "output_type": "stream",
          "name": "stdout",
          "text": [
            "Requirement already satisfied: PyPDF2 in /usr/local/lib/python3.10/dist-packages (3.0.1)\n"
          ]
        }
      ]
    },
    {
      "cell_type": "markdown",
      "metadata": {
        "id": "LTX7RzPwMctr"
      },
      "source": [
        "-----------\n",
        "\n",
        "> Question 2 : - From a PdfFileReader object, how do you get a Page object for page 5?\n",
        "\n"
      ]
    },
    {
      "cell_type": "markdown",
      "metadata": {
        "id": "2vyuagHoMip7"
      },
      "source": [
        "\n",
        "\n",
        "*  Ans. Calling getPage(4) will return a Page object for page 5 since page 0 is the first page\n",
        "\n"
      ]
    },
    {
      "cell_type": "code",
      "metadata": {
        "id": "I47ZAAUMN8_W"
      },
      "source": [
        "import PyPDF2\n",
        "pdfReader = PdfFileReader(pdfFileObj)\n",
        "pageObj = pdfReader.getPage(5)\n",
        "pdfFileObj = open(\"cardealer.pdf\", \"rb\")\n",
        "text = pageObj.extractText()\n",
        "print(text)"
      ],
      "execution_count": 10,
      "outputs": []
    },
    {
      "cell_type": "markdown",
      "metadata": {
        "id": "fDAt7WT3MuJ2"
      },
      "source": [
        "-----------\n",
        "\n",
        "> Question 3 : - What PdfFileReader variable stores the number of pages in the PDF document?\n",
        "\n"
      ]
    },
    {
      "cell_type": "code",
      "metadata": {
        "id": "2drh-CQSM0nf"
      },
      "source": [
        "import PyPDF2 as pdf\n",
        "pdfFileObj = open(\"cardealer.pdf\",'rb')\n",
        "pdfReader = pdf.PdfFileReader(pdfFileObj)\n",
        "pageObj = pdfReader.getPage(4)\n",
        "pageObj.extractText()"
      ],
      "execution_count": null,
      "outputs": []
    },
    {
      "cell_type": "markdown",
      "metadata": {
        "id": "BCuk5OzAODUk"
      },
      "source": [
        "-----------\n",
        "\n",
        "> Question 4 : - If a PdfFileReader object’s PDF is encrypted with the password swordfish, what must you do before you can obtain Page objects from it?\n",
        "\n"
      ]
    },
    {
      "cell_type": "markdown",
      "metadata": {
        "id": "bJjgFqysOI-p"
      },
      "source": [
        "\n",
        "\n",
        "* Ans.  Before we obtain the page object, the pdf has to be decrypted by calling .decrypt('swordfish')\n",
        "\n"
      ]
    },
    {
      "cell_type": "markdown",
      "metadata": {
        "id": "t5txnV0VObkr"
      },
      "source": [
        "-----------\n",
        "\n",
        "> Question 5 : - What methods do you use to rotate a page?\n",
        "\n"
      ]
    },
    {
      "cell_type": "code",
      "metadata": {
        "id": "BZOVpXl_ODA8"
      },
      "source": [
        "#pageObj.rotateClockwise(180)\n",
        "\n",
        "#The rotateClockwise() and rotateCounterClockwise() methods. The degrees to rotate is passed as an integer argument"
      ],
      "execution_count": null,
      "outputs": []
    },
    {
      "cell_type": "markdown",
      "metadata": {
        "id": "7nORSMJ5OraP"
      },
      "source": [
        "-----------\n",
        "\n",
        "> Question 6 : - What is the difference between a Run object and a Paragraph object?\n",
        "\n"
      ]
    },
    {
      "cell_type": "markdown",
      "metadata": {
        "id": "0S99qn40OwtO"
      },
      "source": [
        "Ans.\n",
        "\n",
        "*   Paragraph Object :  A document contains multiple paragraphs. A paragraph begins on a new line and contains multiple\n",
        "runs.\n",
        "The Document object contains a list of Paragraph objects for the paragraphs in the document. (A new paragraph begins\n",
        "whenever the user presses ENTER or RETURN while typing in a Word document.)\n",
        "*   \n",
        "Run Objects :\n",
        "Runs are contiguous groups of characters within a paragraph with the same style\n",
        "\n"
      ]
    },
    {
      "cell_type": "markdown",
      "metadata": {
        "id": "0pU3z-yqO78t"
      },
      "source": [
        "-------------\n",
        "\n",
        "> Question 7 : - How do you obtain a list of Paragraph objects for a Document object that’s stored in a variable named doc?\n",
        "\n"
      ]
    },
    {
      "cell_type": "code",
      "metadata": {
        "id": "a00jsI7yOnMK"
      },
      "source": [
        "#!pip install python-docx\n",
        "import docx\n",
        "doc = docx.Document('abc.docx')\n",
        "doc.paragraphs\n",
        "#By using doc.paragraphs"
      ],
      "execution_count": null,
      "outputs": []
    },
    {
      "cell_type": "markdown",
      "metadata": {
        "id": "PjeL32uqPNeg"
      },
      "source": [
        "-----------\n",
        "\n",
        "> Question 8 : - What type of object has bold, underline, italic, strike, and outline variables?\n",
        "\n"
      ]
    },
    {
      "cell_type": "markdown",
      "metadata": {
        "id": "JGI0iUsXPSeN"
      },
      "source": [
        "\n",
        "\n",
        "* Ans. A Run object has bold, underline,italic,strike and outline variables\n",
        "\n"
      ]
    },
    {
      "cell_type": "markdown",
      "metadata": {
        "id": "h6uksNgGPYWX"
      },
      "source": [
        "-----------\n",
        "\n",
        "> Question 9 : - What is the difference between False, True, and None for the bold variable?\n",
        "\n"
      ]
    },
    {
      "cell_type": "markdown",
      "metadata": {
        "id": "CAp9W7NIPerM"
      },
      "source": [
        "\n",
        "Ans.\n",
        "*   Runs can be further styled using text attributes. Each attribute can be set to one of three values:  <br>\n",
        "True (the attribute is always enabled, no matter what other styles are applied to the run), <br>\n",
        "False (the attribute is always disabled),<br>\n",
        "None (defaults to whatever the run’s style is set to)\n",
        "\n",
        "*  True always makes the Run object bolded and False makes it always not bolded, no matter what the style’s bold setting is. None will make the Run object just use the style’s bold setting\n",
        "\n"
      ]
    },
    {
      "cell_type": "markdown",
      "metadata": {
        "id": "KzWDdilVPuHS"
      },
      "source": [
        "-----------\n",
        "\n",
        "> Question 10 : - How do you create a Document object for a new Word document?\n",
        "\n"
      ]
    },
    {
      "cell_type": "markdown",
      "metadata": {
        "id": "XUcDILqgPwyB"
      },
      "source": [
        "*  Ans. By Calling the docx.Document() function."
      ]
    },
    {
      "cell_type": "markdown",
      "metadata": {
        "id": "clT98WYVP3MV"
      },
      "source": [
        "-----------\n",
        "\n",
        "> Question 11 : - How do you add a paragraph with the text 'Hello, there!'' to a Document object stored in a variable named doc?"
      ]
    },
    {
      "cell_type": "code",
      "metadata": {
        "id": "UTnTNEvwP9bN"
      },
      "source": [
        "import docx\n",
        "doc = docx.Document()\n",
        "\n",
        "doc.add_paragraph('Hello there!')\n",
        "doc.save('hellothere.docx')"
      ],
      "execution_count": null,
      "outputs": []
    },
    {
      "cell_type": "markdown",
      "metadata": {
        "id": "s2y5uBbeP6vU"
      },
      "source": [
        "-----------\n",
        "\n",
        "\n",
        "> Question 12 : - What integers represent the levels of headings available in Word documents?\n",
        "\n"
      ]
    },
    {
      "cell_type": "markdown",
      "metadata": {
        "id": "lZg75Qz0QIID"
      },
      "source": [
        "*   integer from 0 to 4\n",
        "*   The arguments to add_heading() are a string of the heading text and an integer from 0 to 4. The integer 0 makes the heading the Title style, which is used for the top of the document. Integers 1 to 4 are for various heading levels, with 1 being the main heading and 4 the lowest subheading"
      ]
    },
    {
      "cell_type": "markdown",
      "source": [
        "--------\n",
        "-----------\n"
      ],
      "metadata": {
        "id": "pvc_8t3hvAph"
      }
    }
  ]
}