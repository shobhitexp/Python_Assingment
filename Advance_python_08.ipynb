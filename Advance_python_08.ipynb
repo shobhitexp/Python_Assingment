{
  "nbformat": 4,
  "nbformat_minor": 0,
  "metadata": {
    "colab": {
      "provenance": [],
      "authorship_tag": "ABX9TyNzuexn871wwJPqJM+pRY8b",
      "include_colab_link": true
    },
    "kernelspec": {
      "name": "python3",
      "display_name": "Python 3"
    },
    "language_info": {
      "name": "python"
    }
  },
  "cells": [
    {
      "cell_type": "markdown",
      "metadata": {
        "id": "view-in-github",
        "colab_type": "text"
      },
      "source": [
        "<a href=\"https://colab.research.google.com/github/shobhitexp/Python_Assingments/blob/Advance_python_assignments/Advance_python_08.ipynb\" target=\"_parent\"><img src=\"https://colab.research.google.com/assets/colab-badge.svg\" alt=\"Open In Colab\"/></a>"
      ]
    },
    {
      "cell_type": "markdown",
      "source": [
        "##Assignment 08 Adv_python"
      ],
      "metadata": {
        "id": "Y4WQhoHfH-e2"
      }
    },
    {
      "cell_type": "markdown",
      "source": [
        "Q1. What are the two latest user-defined exception constraints in Python 3.X?\n",
        "######Answer :- Exceptions need to be derived from the Exception class, either directly or indirectly. Although not mandatory, most of the exceptions are named as names that end in “Error” similar to the naming of the standard exceptions in python."
      ],
      "metadata": {
        "id": "LwK4lf8SIjAt"
      }
    },
    {
      "cell_type": "code",
      "execution_count": null,
      "metadata": {
        "id": "yQZpGZPwH8zu"
      },
      "outputs": [],
      "source": [
        "class MyError(Exception):\n",
        "    def __init__(self, value):\n",
        "        self.value = value\n",
        "    def __str__(self):\n",
        "        return(repr(self.value))\n",
        "try:\n",
        "    raise(MyError(3*2))\n",
        "except MyError as error:\n",
        "    print('A New Exception occurred :- ', error.value)"
      ]
    },
    {
      "cell_type": "markdown",
      "source": [
        "---------\n",
        "Q2. How are class-based exceptions that have been raised matched to handlers?\n",
        "######Answer :- Class-based exceptions are either raised by the ABAP statement RAISE EXCEPTION or by the ABAP runtime environment. If a class-based exception occurs, the system interrupts the normal program flow and tries to find a suitable handler. If it does not find a handler, a runtime error occurs.\n",
        "Exception is Raised:\n",
        "When an exception occurs during the execution of a Python program, an instance of an exception class is created. This instance contains information about the exception, such as the type of the exception and potentially additional data.\n",
        "\n",
        "Searching for Matching Handler:\n",
        "Python starts searching for an appropriate exception handler by looking at the innermost try block where the exception was raised. If no matching handler is found, Python moves to the next outer try block and repeats the process. This traversal continues up the call stack until a matching handler is found or until there are no more enclosing try blocks.\n",
        "\n",
        "Matching Based on Exception Type:\n",
        "Each except block specifies an exception type (class) that it can handle. When a raised exception is encountered, Python compares the type of the raised exception with the types specified in the except blocks. If the raised exception's type is a subclass of or the same as the specified exception type in an except block, the block is considered a match."
      ],
      "metadata": {
        "id": "Al-HajzdKNOM"
      }
    },
    {
      "cell_type": "markdown",
      "source": [
        "-----------\n",
        "Q3. Describe two methods for attaching context information to exception artefacts.\n",
        "######Answer :- Using Exception Arguments:\n",
        "Python's built-in exceptions allow you to pass arguments when raising an exception. These arguments can be used to provide context information about the error. You can pass any data that is relevant to understanding the cause of the exception.\n"
      ],
      "metadata": {
        "id": "QLndTuZ3MLnj"
      }
    },
    {
      "cell_type": "code",
      "source": [
        "try:\n",
        "    # Code that might raise an exception\n",
        "except Exception as e:\n",
        "    error_message = f\"An error occurred: {e}\"\n",
        "    context_info = {\"input_data\": input_data, \"operation\": operation}\n",
        "    raise Exception(error_message, context_info)"
      ],
      "metadata": {
        "id": "mGSrOt7DM80i"
      },
      "execution_count": null,
      "outputs": []
    },
    {
      "cell_type": "markdown",
      "source": [
        "Using Custom Exception Classes:\n",
        "Another approach is to create custom exception classes that include attributes for context information. This approach is more organized and allows you to define specific context attributes for different types of exceptions."
      ],
      "metadata": {
        "id": "ElM6ySq_M9kP"
      }
    },
    {
      "cell_type": "code",
      "source": [
        "class CustomException(Exception):\n",
        "    def __init__(self, message, context=None):\n",
        "        super().__init__(message)\n",
        "        self.context = context\n",
        "try:\n",
        "except Exception as e:\n",
        "    context_info = {\"input_data\": input_data, \"operation\": operation}\n",
        "    raise CustomException(\"An error occurred\", context=context_info)"
      ],
      "metadata": {
        "id": "zyOsQCdUNCjG"
      },
      "execution_count": null,
      "outputs": []
    },
    {
      "cell_type": "markdown",
      "source": [
        "In this example, the CustomException class is defined to accept a context parameter. When raising the exception, you provide the error message and context information. This approach helps maintain clear separation between the error message and the contextual data.\n",
        "\n",
        "Both methods provide ways to attach context information to exception artifacts, helping developers understand the context in which the exception occurred. Choose the method that best suits your coding style and the level of detail you need to convey in your error messages."
      ],
      "metadata": {
        "id": "eSHDaDubNLi8"
      }
    },
    {
      "cell_type": "markdown",
      "source": [
        "------------\n",
        "Q4. Describe two methods for specifying the text of an exception object&#39;s error message.\n",
        "######Answer :- Exceptions are also known as logical errors. They occur during a program’s execution. Rather than allowing the program to crash when an error is detected, Python generates an exception you can handle. It’s comparable to the way an iPhone displays a temperature warning when your phone gets too hot. Instead of allowing the phone to overheat, it stops itself from functioning and prompts you to resolve the issue by cooling it down. Similarly, Python exceptions halt the program and provide you with an opportunity to resolve the error instead of crashing.\n",
        "\n",
        "There are two types of Python exceptions:\n",
        "\n",
        "1. User-defined exceptions: User-defined exceptions are custom exceptions created by programmers. They enable you to enforce restrictions or consequences on certain functions, values, or variables.\n",
        "\n",
        "2. Built-in exceptions: There are many different types of exceptions pre-defined by Python. These are called built-in exceptions. You can find a reference table defining each type of built-in exception at the bottom of this page or our Python Exception Handling Cheat Sheet.\n",
        "\n"
      ],
      "metadata": {
        "id": "N-uswyE6LxrQ"
      }
    },
    {
      "cell_type": "markdown",
      "source": [
        "-----------\n",
        "Q5. Why do you no longer use string-based exceptions?\n",
        "######Answer :- User-defined Python exceptions can be either strings or Python classes. Since classes have many nice properties when used as exceptions, it is desirable to migrate to a situation where classes are used exclusively. Prior to Python 1.5 alpha 4, Python's standard exceptions (IOError, TypeError, etc.) were defined as strings. Changing these to classes posed some particularly nasty backward compatibility problems.\n",
        "\n",
        "In Python versions 1.5 and later, the standard exceptions are Python classes, and a few new standard exceptions have been added. The obsolete AccessError exception has been deleted. Because it is possible (although unlikely) that this change broke existing code, the Python interpreter can be invoked the command line option -X to disable this feature, and use string exceptions like before. This option is a temporary measure - eventually the string-based standard exceptions will be removed from the language altogether. It hasn't been decided whether user-defined string exceptions will be allowed in Python 2.0."
      ],
      "metadata": {
        "id": "Y7c3pzwOOdb1"
      }
    },
    {
      "cell_type": "markdown",
      "source": [
        "--------------\n",
        "--------------"
      ],
      "metadata": {
        "id": "1UzIDr1kPM7I"
      }
    }
  ]
}