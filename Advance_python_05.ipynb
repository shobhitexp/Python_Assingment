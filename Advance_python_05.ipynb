{
  "nbformat": 4,
  "nbformat_minor": 0,
  "metadata": {
    "colab": {
      "provenance": [],
      "authorship_tag": "ABX9TyM/z1TgyUi4lEIvCzlZF/62",
      "include_colab_link": true
    },
    "kernelspec": {
      "name": "python3",
      "display_name": "Python 3"
    },
    "language_info": {
      "name": "python"
    }
  },
  "cells": [
    {
      "cell_type": "markdown",
      "metadata": {
        "id": "view-in-github",
        "colab_type": "text"
      },
      "source": [
        "<a href=\"https://colab.research.google.com/github/shobhitexp/Python_Assingments/blob/Advance_python_assignments/Advance_python_05.ipynb\" target=\"_parent\"><img src=\"https://colab.research.google.com/assets/colab-badge.svg\" alt=\"Open In Colab\"/></a>"
      ]
    },
    {
      "cell_type": "markdown",
      "source": [
        "##Assignment 05 Adv_python"
      ],
      "metadata": {
        "id": "H0gnIK4JCKw9"
      }
    },
    {
      "cell_type": "markdown",
      "source": [
        "Q1. What is the meaning of multiple inheritance?\n",
        "######Answer :- Multiple inheritance refers to a programming concept where a class inherits attributes and behaviors from more than one parent class. In other words, a class can inherit from multiple base classes, allowing it to acquire properties and methods from all of them."
      ],
      "metadata": {
        "id": "utbjPLybCRgw"
      }
    },
    {
      "cell_type": "code",
      "source": [
        "class ParentA:\n",
        "    def method_a(self):\n",
        "        print(\"Method from Parent A\")\n",
        "\n",
        "class ParentB:\n",
        "    def method_b(self):\n",
        "        print(\"Method from Parent B\")\n",
        "\n",
        "class Child(ParentA, ParentB):\n",
        "    pass\n",
        "\n",
        "child_instance = Child()\n",
        "child_instance.method_a()\n",
        "child_instance.method_b()"
      ],
      "metadata": {
        "id": "fUHecaTnDAi4"
      },
      "execution_count": null,
      "outputs": []
    },
    {
      "cell_type": "markdown",
      "source": [
        "---------\n",
        "Q2. What is the concept of delegation?\n",
        "######Answer :- In delegation, the delegator class contains an instance of the delegate class and redirects method calls to the delegate, effectively \"delegating\" the responsibility of performing that action to the delegate object. This allows for more modular and flexible code, as changes to the delegate's implementation do not affect the delegator's behavior as long as the contract (interface) between the delegator and delegate is maintained."
      ],
      "metadata": {
        "id": "9lx3Z5MGC5e7"
      }
    },
    {
      "cell_type": "markdown",
      "source": [
        "-----------\n",
        "Q3. What is the concept of composition?\n",
        "######Answer :- Composition is a concept that models a has a relationship. It enables creating complex types by combining objects of other types. This means that a class Composite can contain an object of another class Component . This relationship means that a Composite has a Component ."
      ],
      "metadata": {
        "id": "y2RSpJtsDyi7"
      }
    },
    {
      "cell_type": "markdown",
      "source": [
        "-------\n",
        "Q4. What are bound methods and how do we use them?\n",
        "######Answer :-The Bound methods are the methods defined in a class. The bound methods are bound to the class in which they are defined. They take an instance of their class along with the other arguments as its parameters. Bound methods differ from the other unbound methods in their first parameter."
      ],
      "metadata": {
        "id": "eioIDKccEFnm"
      }
    },
    {
      "cell_type": "markdown",
      "source": [
        "-----------\n",
        "Q5. What is the purpose of pseudoprivate attributes?\n",
        "######Answer :- Pseudoprivate attributes help in encapsulating data and implementation details within a class, making it less likely for external code to accidentally interfere with the internal workings of the class."
      ],
      "metadata": {
        "id": "LEHMbyoDEVmW"
      }
    },
    {
      "cell_type": "code",
      "execution_count": null,
      "metadata": {
        "id": "Ze5OjurXCISt"
      },
      "outputs": [],
      "source": [
        "class P:\n",
        "   def __init__(self, name, alias):\n",
        "      self.name = name       # public\n",
        "      self.__alias = alias   # private\n",
        "\n",
        "   def who(self):\n",
        "      print('name  : ', self.name)\n",
        "      print('alias : ', self.__alias)"
      ]
    },
    {
      "cell_type": "markdown",
      "source": [
        "----------\n",
        "----------"
      ],
      "metadata": {
        "id": "vgSAJlvsFPwv"
      }
    }
  ]
}