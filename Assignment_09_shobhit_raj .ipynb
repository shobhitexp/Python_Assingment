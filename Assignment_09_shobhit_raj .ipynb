{
  "nbformat": 4,
  "nbformat_minor": 0,
  "metadata": {
    "colab": {
      "provenance": []
    },
    "kernelspec": {
      "name": "python3",
      "display_name": "Python 3"
    },
    "language_info": {
      "name": "python"
    }
  },
  "cells": [
    {
      "cell_type": "markdown",
      "source": [
        "##1. To what does a relative path refer?"
      ],
      "metadata": {
        "id": "hp7OFwMPnuUB"
      }
    },
    {
      "cell_type": "markdown",
      "source": [
        "Answer :- In Python, a relative path refers to the location of a file or directory relative to the current working directory of the Python script being executed. It allows you to navigate and access files within the same project or directory structure without relying on fixed absolute paths. Python's os.path and pathlib modules provide functions and classes to handle relative paths.\n",
        "\n",
        "------"
      ],
      "metadata": {
        "id": "YvheCauTsd_a"
      }
    },
    {
      "cell_type": "markdown",
      "source": [
        "##2. What does an absolute path start with your operating system?"
      ],
      "metadata": {
        "id": "D5y-5rvnsoLH"
      }
    },
    {
      "cell_type": "markdown",
      "source": [
        "Answer :-\n",
        "In Python, an absolute path in the context of the operating system typically starts with the root directory symbol, which is represented by a forward slash ('/') on Unix-based systems (such as Linux and macOS) or a drive letter followed by a colon (e.g., 'C:') on Windows. It provides the full path from the root directory to a specific file or directory location, regardless of the current working directory. Python's os.path and pathlib modules allow you to manipulate and work with absolute paths in a cross-platform manner.\n",
        "\n",
        "------"
      ],
      "metadata": {
        "id": "ymhA3x3ws2ac"
      }
    },
    {
      "cell_type": "markdown",
      "source": [
        "##3. What do the functions os.getcwd() and os.chdir() do?"
      ],
      "metadata": {
        "id": "rv31LoaUtHl9"
      }
    },
    {
      "cell_type": "markdown",
      "source": [
        "Answer :- There are two functions in the os package that help you accomplish these tasks:\n",
        "\n",
        "* getcwd(): CWD stands for Current Working Directory.\n",
        "This function allows you to see what your current working directory is.\n",
        "* chdir(\"path-to-dir\"): Short for CHange DIRectory, this function allows you to set the current working directory to a path of your choice.\n",
        "\n",
        "------"
      ],
      "metadata": {
        "id": "Etg6Q2DEtXAS"
      }
    },
    {
      "cell_type": "markdown",
      "source": [
        "##4. What are the . and .. folders?"
      ],
      "metadata": {
        "id": "_vovuXlMt65M"
      }
    },
    {
      "cell_type": "markdown",
      "source": [
        "Answer :- what are these \".\" and \"..\" ? I recalled I use \"cd ..\" in cmd to exit to the upper directory. For \"cd .\", I don't know what is it for.\n",
        "\n",
        "-----"
      ],
      "metadata": {
        "id": "hhqD7stKt8YD"
      }
    },
    {
      "cell_type": "markdown",
      "source": [
        "##5. In C:\\bacon\\eggs\\spam.txt, which part is the dir name, and which part is the base name?"
      ],
      "metadata": {
        "id": "9Eq8iIVqu87P"
      }
    },
    {
      "cell_type": "markdown",
      "source": [
        "Answer :- \"C:\\bacon\\eggs\" is the dir name and \"spam.txt\" is the base name.\n",
        "\n",
        "-----"
      ],
      "metadata": {
        "id": "mAHjNHBKvIXM"
      }
    },
    {
      "cell_type": "markdown",
      "source": [
        "##6. What are the three “mode” arguments that can be passed to the open() function?"
      ],
      "metadata": {
        "id": "kRvW7bSqvOyd"
      }
    },
    {
      "cell_type": "markdown",
      "source": [
        "Answer :- There are several modes available, but the three commonly used modes are:\n",
        "* \"r\": Read mode - Opens a file for reading. The file must exist, otherwise, an error will occur.\n",
        "* \"w\": Write mode - Opens a file for writing. If the file exists, it will be truncated (emptied). If it doesn't exist, a new file will be created.\n",
        "* \"a\": Append mode - Opens a file for appending data. New data will be added to the end of the file. If the file doesn't exist, a new file will be created.\n",
        "\n",
        "-------\n"
      ],
      "metadata": {
        "id": "8TSHeohOvTwn"
      }
    },
    {
      "cell_type": "markdown",
      "source": [
        "##7. What happens if an existing file is opened in write mode?\n"
      ],
      "metadata": {
        "id": "WFYOCkpRu_Us"
      }
    },
    {
      "cell_type": "markdown",
      "source": [
        "Answer :- If an existing file is opened in write mode (\"w\"), the following consequences occur:\n",
        "* If the file exists: The existing content of the file will be completely overwritten, and the file will be truncated (emptied). The write operation starts from the beginning of the file, and any previous data is lost.\n",
        "* f the file does not exist: A new file with the specified name will be created.\n",
        "\n",
        "------"
      ],
      "metadata": {
        "id": "14_Vl2OVvzHS"
      }
    },
    {
      "cell_type": "markdown",
      "source": [
        "##8. How do you tell the difference between read() and readlines()?\n"
      ],
      "metadata": {
        "id": "ruS69ly6wGQN"
      }
    },
    {
      "cell_type": "markdown",
      "source": [
        "Answer :-\n",
        "* read(): This method reads the entire content of the file as a single string. It returns a string that includes all the characters in the file, including newline characters ('\\n') and other special characters. If you don't specify the size argument, it will read the entire file. Example usage: content = file.read()\n",
        "\n",
        "* readlines(): This method reads the content of the file and returns a list of strings. Each string in the list represents a line of the file, where the newline character ('\\n') at the end of each line is included. Example usage: lines = file.readlines()\n",
        "\n",
        "------"
      ],
      "metadata": {
        "id": "dqBcOkEHw8Hw"
      }
    },
    {
      "cell_type": "markdown",
      "source": [
        "##9. What data structure does a shelf value resemble?"
      ],
      "metadata": {
        "id": "Zf3Sa7aRxfFE"
      }
    },
    {
      "cell_type": "markdown",
      "source": [
        "Answer :- A shelf value from the shelve module in Python resembles a persistent dictionary-like data structure. It allows you to store and retrieve key-value pairs, similar to a dictionary. However, unlike regular dictionaries that store data in memory, a shelf value is stored on disk, providing persistence across multiple program executions. It is useful for caching data, saving program state, or storing intermediate results.\n",
        "\n",
        "--------\n",
        "--------"
      ],
      "metadata": {
        "id": "IgIgv5X9xgq0"
      }
    }
  ]
}