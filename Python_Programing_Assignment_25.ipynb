{
  "nbformat": 4,
  "nbformat_minor": 0,
  "metadata": {
    "colab": {
      "provenance": [],
      "authorship_tag": "ABX9TyMCescE7dpTFQdiPV3MBF2s",
      "include_colab_link": true
    },
    "kernelspec": {
      "name": "python3",
      "display_name": "Python 3"
    },
    "language_info": {
      "name": "python"
    }
  },
  "cells": [
    {
      "cell_type": "markdown",
      "metadata": {
        "id": "view-in-github",
        "colab_type": "text"
      },
      "source": [
        "<a href=\"https://colab.research.google.com/github/shobhitexp/Python_Assingments/blob/Python_Programing/Python_Programing_Assignment_25.ipynb\" target=\"_parent\"><img src=\"https://colab.research.google.com/assets/colab-badge.svg\" alt=\"Open In Colab\"/></a>"
      ]
    },
    {
      "cell_type": "markdown",
      "source": [
        "#Assignment_25"
      ],
      "metadata": {
        "id": "8mSsXU99Gi9l"
      }
    },
    {
      "cell_type": "markdown",
      "source": [
        "Question1\n",
        "Create a function that takes three integer arguments (a, b, c) and returns the amount of\n",
        "integers which are of equal value.\n",
        "######Examples\n",
        "equal(3, 4, 3) ➞ 2\n",
        "######equal(1, 1, 1) ➞ 3\n",
        "equal(3, 4, 1) ➞ 0\n",
        "######Notes\n",
        "Your function must return 0, 2 or 3."
      ],
      "metadata": {
        "id": "WrbrX-9pGnBO"
      }
    },
    {
      "cell_type": "code",
      "execution_count": 3,
      "metadata": {
        "colab": {
          "base_uri": "https://localhost:8080/"
        },
        "id": "PCt8bWsoGgM4",
        "outputId": "bd4545e5-a5ae-4c45-e2fe-4a007b413019"
      },
      "outputs": [
        {
          "name": "stdout",
          "output_type": "stream",
          "text": [
            "Enter your Number :- 3,4,1\n"
          ]
        },
        {
          "output_type": "execute_result",
          "data": {
            "text/plain": [
              "0"
            ]
          },
          "metadata": {},
          "execution_count": 3
        }
      ],
      "source": [
        "def com(a,b,c):\n",
        "  if a==b==c:\n",
        "    return 3\n",
        "  elif a==b or a==c or b==c:\n",
        "    return 2\n",
        "  else:\n",
        "    return 0\n",
        "a,b,c=map(int,input(\"Enter your Number :- \").strip().split(','))\n",
        "com(a,b,c)"
      ]
    },
    {
      "cell_type": "markdown",
      "source": [
        "----------\n",
        "Question2\n",
        "Write a function that converts a dictionary into a list of keys-values tuples.\n",
        "######Examples\n",
        "dict_to_list({\n",
        "######&quot;D&quot;: 1,\n",
        "######&quot;B&quot;: 2,\n",
        "######&quot;C&quot;: 3\n",
        "######}) ➞ [(&quot;B&quot;, 2), (&quot;C&quot;, 3), (&quot;D&quot;, 1)]\n",
        "dict_to_list({\n",
        "######&quot;likes&quot;: 2,\n",
        "&quot;dislikes&quot;: 3,\n",
        "######&quot;followers&quot;: 10\n",
        "}) ➞ [(&quot;dislikes&quot;, 3), (&quot;followers&quot;, 10), (&quot;likes&######quot;, 2)]\n",
        "Notes\n",
        "######Return the elements in the list in alphabetical order."
      ],
      "metadata": {
        "id": "BR9SYK_OIzYB"
      }
    },
    {
      "cell_type": "code",
      "source": [
        "def dict_to_tuples(input_dict):\n",
        "  return list(input_dict.items())\n",
        "input_dict = {\n",
        "\"D\": 1,\n",
        "\"B\": 2,\n",
        "\"C\": 3\n",
        "}\n",
        "result = dict_to_tuples(input_dict)\n",
        "print(result)"
      ],
      "metadata": {
        "colab": {
          "base_uri": "https://localhost:8080/"
        },
        "id": "w4k3QQ5aIg0_",
        "outputId": "cef36b1f-1e47-4c00-aeb9-f507c21a4d34"
      },
      "execution_count": 6,
      "outputs": [
        {
          "output_type": "stream",
          "name": "stdout",
          "text": [
            "[('D', 1), ('B', 2), ('C', 3)]\n"
          ]
        }
      ]
    },
    {
      "cell_type": "markdown",
      "source": [
        "----------\n",
        "Question3\n",
        "Write a function that creates a dictionary with each (key, value) pair being the (lower case,\n",
        "upper case) versions of a letter, respectively.\n",
        "######Examples\n",
        "mapping([&quot;p&quot;, &quot;s&quot;]) ➞ { &quot;p&quot;: &quot;P&quot;, &quot;s&quot;: &quot;S&quot; }\n",
        "\n",
        "######mapping([&quot;a&quot;, &quot;b&quot;, &quot;c&quot;]) ➞ { &quot;a&quot;: &quot;A&quot;, &quot;b&quot;: &quot;B&quot;, &quot;c&quot;: &quot;C&quot; }\n",
        "mapping([&quot;a&quot;, &quot;v&quot;, &quot;y&quot;, &quot;z&quot;]) ➞ { &quot;a&quot;: &quot;A&quot;, &quot;v&quot;: &quot;V&quot;, &quot;y&quot;: &quot;Y&quot;, &quot;z&quot;: &quot;Z&quot; }\n",
        "######Notes\n",
        "All of the letters in the input list will always be lowercase."
      ],
      "metadata": {
        "id": "p5AW9lh7N7Kp"
      }
    },
    {
      "cell_type": "code",
      "source": [
        "def mapping(letters):\n",
        "    letter_dict = {}\n",
        "    for char in letters:\n",
        "        uppercase = char.upper()\n",
        "        letter_dict[char] = uppercase\n",
        "    return letter_dict\n",
        "\n",
        "ls=list(map(str,input(\"Enter your value :- \").strip().split(',')))\n",
        "result = mapping(ls)\n",
        "print(result)"
      ],
      "metadata": {
        "colab": {
          "base_uri": "https://localhost:8080/"
        },
        "id": "gfmoYg8OMopY",
        "outputId": "cf706e5b-eca8-407f-98fd-0718f2b9c68f"
      },
      "execution_count": 11,
      "outputs": [
        {
          "output_type": "stream",
          "name": "stdout",
          "text": [
            "Enter your value :- 'p','s'\n",
            "{\"'p'\": \"'P'\", \"'s'\": \"'S'\"}\n"
          ]
        }
      ]
    },
    {
      "cell_type": "markdown",
      "source": [
        "-----------\n",
        "Question4\n",
        "Write a function, that replaces all vowels in a string with a specified vowel.\n",
        "######Examples\n",
        "vow_replace(&quot;apples and bananas&quot;, &quot;u&quot;) ➞ &quot;upplus und bununus&quot;\n",
        "######vow_replace(&quot;cheese casserole&quot;, &quot;o&quot;) ➞ &quot;chooso cossorolo&quot;\n",
        "######vow_replace(&quot;stuffed jalapeno poppers&quot;, &quot;e&quot;) ➞ &quot;steffed jelepene peppers&quot;\n",
        "######Notes\n",
        "All words will be lowercase. Y is not considered a vowel."
      ],
      "metadata": {
        "id": "vuoP_FNHPXNu"
      }
    },
    {
      "cell_type": "code",
      "source": [
        "def replace(string, vowel):\n",
        "    vowels = \"AEIOUaeiou\"\n",
        "    result = \"\"\n",
        "    for char in string:\n",
        "        if char in vowels:\n",
        "            result += vowel\n",
        "        else:\n",
        "            result += char\n",
        "    return result\n",
        "\n",
        "input_string = input(\"Enter your statement :- \")\n",
        "replacement_vowel = input(\"Enter your value to replace :- \")\n",
        "result = replace(input_string, replacement_vowel)\n",
        "print(result)"
      ],
      "metadata": {
        "colab": {
          "base_uri": "https://localhost:8080/"
        },
        "id": "OFdKNGeQMtit",
        "outputId": "528ab980-8eea-4d10-e4b8-9e9350715fde"
      },
      "execution_count": 15,
      "outputs": [
        {
          "output_type": "stream",
          "name": "stdout",
          "text": [
            "Enter your statement :- cheese casserole\n",
            "Enter your value to replace :- o\n",
            "chooso cossorolo\n"
          ]
        }
      ]
    },
    {
      "cell_type": "markdown",
      "source": [
        "----------\n",
        "Question5\n",
        "Create a function that takes a string as input and capitalizes a letter if its ASCII code is even\n",
        "and returns its lower case version if its ASCII code is odd.\n",
        "######Examples\n",
        "######ascii_capitalize(&quot;to be or not to be!&quot;) ➞ &quot;To Be oR NoT To Be!&quot;\n",
        "######ascii_capitalize(&quot;THE LITTLE MERMAID&quot;) ➞ &quot;THe LiTTLe meRmaiD&quot;\n",
        "######ascii_capitalize(&quot;Oh what a beautiful morning.&quot;) ➞ &quot;oH wHaT a BeauTiFuL\n",
        "moRNiNg.&quot;"
      ],
      "metadata": {
        "id": "cMJvHTNyQS85"
      }
    },
    {
      "cell_type": "code",
      "source": [
        "def capitalize_odd_ascii(string):\n",
        "    result = \"\"\n",
        "    for char in string:\n",
        "        ascii_code = ord(char)\n",
        "        if ascii_code % 2 == 0:\n",
        "            result += char.upper()\n",
        "        else:\n",
        "            result += char.lower()\n",
        "    return result\n",
        "\n",
        "input_string = input(\"Enter your statement :- \")\n",
        "result = capitalize_odd_ascii(input_string)\n",
        "print(result)"
      ],
      "metadata": {
        "colab": {
          "base_uri": "https://localhost:8080/"
        },
        "id": "_qE74C6oP3xl",
        "outputId": "18d49c76-5e8d-4cef-91ca-c16f65d5cb09"
      },
      "execution_count": 16,
      "outputs": [
        {
          "output_type": "stream",
          "name": "stdout",
          "text": [
            "Enter your statement :- to be or not to be!\n",
            "To Be oR NoT To Be!\n"
          ]
        }
      ]
    },
    {
      "cell_type": "markdown",
      "source": [
        "-----------\n",
        "-----------"
      ],
      "metadata": {
        "id": "2dTF1YEUQwso"
      }
    }
  ]
}