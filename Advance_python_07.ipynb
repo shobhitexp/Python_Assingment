{
  "nbformat": 4,
  "nbformat_minor": 0,
  "metadata": {
    "colab": {
      "provenance": [],
      "authorship_tag": "ABX9TyNNrIrkc2bXQi8HHExmJB0M",
      "include_colab_link": true
    },
    "kernelspec": {
      "name": "python3",
      "display_name": "Python 3"
    },
    "language_info": {
      "name": "python"
    }
  },
  "cells": [
    {
      "cell_type": "markdown",
      "metadata": {
        "id": "view-in-github",
        "colab_type": "text"
      },
      "source": [
        "<a href=\"https://colab.research.google.com/github/shobhitexp/Python_Assingments/blob/Advance_python_assignments/Advance_python_07.ipynb\" target=\"_parent\"><img src=\"https://colab.research.google.com/assets/colab-badge.svg\" alt=\"Open In Colab\"/></a>"
      ]
    },
    {
      "cell_type": "markdown",
      "source": [
        "##Assignment 07 Adv_python"
      ],
      "metadata": {
        "id": "UMTBU7ELgg8K"
      }
    },
    {
      "cell_type": "markdown",
      "source": [
        "Q1. What is the purpose of the try statement?\n",
        "###### Answer :-  Try and Except statement is used to handle these errors within our code in Python. The try block is used to check some code for errors i.e the code inside the try block will execute when there is no error in the program.\n",
        "try:\n",
        "    # Some Code\n",
        "except:\n",
        "    # Executed if error in the\n",
        "    # try block"
      ],
      "metadata": {
        "id": "GylkNRiEgnMM"
      }
    },
    {
      "cell_type": "markdown",
      "source": [
        "---------\n",
        "Q2. What are the two most popular try statement variations?\n",
        "######Answer :- There are two other optional segments to a try block: else and finally . Both of these optional blocks will come after the try and the except ."
      ],
      "metadata": {
        "id": "b66fnim0h6i_"
      }
    },
    {
      "cell_type": "code",
      "execution_count": 1,
      "metadata": {
        "colab": {
          "base_uri": "https://localhost:8080/"
        },
        "id": "Ft3VUqcwgbSH",
        "outputId": "3085c7f3-7b01-43c6-db9e-07cf351ef958"
      },
      "outputs": [
        {
          "output_type": "stream",
          "name": "stdout",
          "text": [
            "Yeah ! Your answer is : 1\n"
          ]
        }
      ],
      "source": [
        "def divide(x, y):\n",
        "    try:\n",
        "        result = x // y\n",
        "        print(\"Yeah ! Your answer is :\", result)\n",
        "    except ZeroDivisionError:\n",
        "        print(\"Sorry ! You are dividing by zero \")\n",
        "divide(3, 2)"
      ]
    },
    {
      "cell_type": "markdown",
      "source": [
        "----------\n",
        "Q3. What is the purpose of the raise statement?\n",
        "###### Answer :- Python raise Keyword is used to raise exceptions or errors. The raise keyword raises an error and stops the control flow of the program. It is used to bring up the current exception in an exception handler so that it can be handled further up the call stack."
      ],
      "metadata": {
        "id": "ra84nm9gjlhQ"
      }
    },
    {
      "cell_type": "code",
      "source": [
        "s = 'apple'\n",
        "try:\n",
        "    num = int(s)\n",
        "except ValueError:\n",
        "    raise ValueError(\"String can't be changed into integer\")"
      ],
      "metadata": {
        "id": "S1CNIPwwi1fz"
      },
      "execution_count": null,
      "outputs": []
    },
    {
      "cell_type": "markdown",
      "source": [
        "-----------\n",
        "Q4. What does the assert statement do, and what other statement is it like?\n",
        "######Answer :- assert statement is used to check types, values of argument and the output of the function. assert statement is used as debugging tool as it halts the program at the point where an error occurs."
      ],
      "metadata": {
        "id": "m61wS7byklv2"
      }
    },
    {
      "cell_type": "markdown",
      "source": [
        "--------------\n",
        "Q5. What is the purpose of the with/as argument, and what other statement is it like?\n",
        "###### Answer :- In Python, the with statement replaces a try-catch block with a concise shorthand. More importantly, it ensures closing resources right after processing them."
      ],
      "metadata": {
        "id": "BzVbYb5klBCu"
      }
    },
    {
      "cell_type": "markdown",
      "source": [
        "------------\n",
        "------------"
      ],
      "metadata": {
        "id": "eiGZGl-hlajM"
      }
    }
  ]
}