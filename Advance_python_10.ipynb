{
  "nbformat": 4,
  "nbformat_minor": 0,
  "metadata": {
    "colab": {
      "provenance": [],
      "authorship_tag": "ABX9TyMkI5ANdkUQNtMlXPSLp/I2",
      "include_colab_link": true
    },
    "kernelspec": {
      "name": "python3",
      "display_name": "Python 3"
    },
    "language_info": {
      "name": "python"
    }
  },
  "cells": [
    {
      "cell_type": "markdown",
      "metadata": {
        "id": "view-in-github",
        "colab_type": "text"
      },
      "source": [
        "<a href=\"https://colab.research.google.com/github/shobhitexp/Python_Assingments/blob/Advance_python_assignments/Advance_python_10.ipynb\" target=\"_parent\"><img src=\"https://colab.research.google.com/assets/colab-badge.svg\" alt=\"Open In Colab\"/></a>"
      ]
    },
    {
      "cell_type": "markdown",
      "source": [
        "##Assignment 10 Adv_python"
      ],
      "metadata": {
        "id": "Hx25bfbTWL5E"
      }
    },
    {
      "cell_type": "markdown",
      "source": [
        "Q1. What is the difference between __getattr__ and __getattribute__?\n",
        "######Answer :- Both __ getattr__ and __ getattribute__ are special methods in Python that are related to attribute access on objects, but they serve different purposes and are used in different ways:\n",
        "\n",
        "__ getattr__:\n",
        "The __ getattr__ method is called when an attribute is not found through normal attribute lookup. It is a \"fallback\" method that gets invoked only when the requested attribute is not found as an instance attribute or in the class hierarchy. This method can be used to dynamically compute or provide attributes that don't actually exist as instance variables."
      ],
      "metadata": {
        "id": "Xd5cnuysWSxZ"
      }
    },
    {
      "cell_type": "code",
      "execution_count": 1,
      "metadata": {
        "colab": {
          "base_uri": "https://localhost:8080/"
        },
        "id": "oLp8UKIoWICJ",
        "outputId": "bb7144f3-2323-46ea-abeb-7a2e0ef5ea57"
      },
      "outputs": [
        {
          "output_type": "stream",
          "name": "stdout",
          "text": [
            "This attribute is dynamically generated.\n"
          ]
        }
      ],
      "source": [
        "class MyClass:\n",
        "    def __getattr__(self, name):\n",
        "        if name == 'dynamic_attr':\n",
        "            return \"This attribute is dynamically generated.\"\n",
        "        raise AttributeError(f\"'{type(self).__name__}' object has no attribute '{name}'\")\n",
        "obj = MyClass()\n",
        "print(obj.dynamic_attr)"
      ]
    },
    {
      "cell_type": "markdown",
      "source": [
        "__getattribute__:\n",
        "The __getattribute__ method is a more general method that is called every time an attribute is accessed, whether it exists or not. It is used to customize attribute access behavior for all attributes. This method is powerful but should be used with caution, as it can override normal attribute access behavior and potentially cause infinite loops if not implemented carefully.\n",
        "\n"
      ],
      "metadata": {
        "id": "y1u29azSW6l6"
      }
    },
    {
      "cell_type": "code",
      "source": [
        "class MyClass:\n",
        "    def __getattribute__(self, name):\n",
        "        if name == 'special_attr':\n",
        "            return \"This is a special attribute.\"\n",
        "        return super().__getattribute__(name)\n",
        "\n",
        "obj = MyClass()\n",
        "print(obj.special_attr)"
      ],
      "metadata": {
        "colab": {
          "base_uri": "https://localhost:8080/"
        },
        "id": "BZw_rHX4W3xA",
        "outputId": "d5b5d3af-d66f-424e-fe7a-a99ad4febf04"
      },
      "execution_count": 2,
      "outputs": [
        {
          "output_type": "stream",
          "name": "stdout",
          "text": [
            "This is a special attribute.\n"
          ]
        }
      ]
    },
    {
      "cell_type": "markdown",
      "source": [
        "-----------\n",
        "Q2. What is the difference between properties and descriptors?\n",
        "######Answer :- Properties and descriptors are both mechanisms in Python for controlling and customizing attribute access on objects, but they serve slightly different purposes and provide different levels of flexibility and control.\n",
        "\n",
        "Properties:\n",
        "A property is a built-in Python feature that allows you to define methods that are accessed like attributes. They are used to encapsulate the access to an attribute and allow you to execute code when getting, setting, or deleting an attribute value.\n",
        "\n",
        "Properties are created using the property() built-in function or the @property decorator."
      ],
      "metadata": {
        "id": "HT9L5gyiXKSQ"
      }
    },
    {
      "cell_type": "code",
      "source": [
        "class Circle:\n",
        "    def __init__(self, radius):\n",
        "        self._radius = radius\n",
        "\n",
        "    @property\n",
        "    def radius(self):\n",
        "        return self._radius\n",
        "\n",
        "    @radius.setter\n",
        "    def radius(self, value):\n",
        "        if value < 0:\n",
        "            raise ValueError(\"Radius cannot be negative.\")\n",
        "        self._radius = value\n",
        "\n",
        "c = Circle(5)\n",
        "print(c.radius)\n",
        "c.radius = 7"
      ],
      "metadata": {
        "id": "4w0BhXQ_XDRe"
      },
      "execution_count": null,
      "outputs": []
    },
    {
      "cell_type": "markdown",
      "source": [
        "Descriptors:\n",
        "Descriptors are a more advanced and flexible mechanism for controlling attribute access. A descriptor is an object that defines methods (__get__, __set__, __delete__) that are called when the descriptor is accessed as an attribute of another object. They allow you to define custom behavior for attribute access at the class level, and they can be reused across multiple attributes and classes."
      ],
      "metadata": {
        "id": "J97E8D5WX5fK"
      }
    },
    {
      "cell_type": "code",
      "source": [
        "class Descriptor:\n",
        "    def __get__(self, instance, owner):\n",
        "        print(\"Getting attribute\")\n",
        "        return instance._value\n",
        "\n",
        "    def __set__(self, instance, value):\n",
        "        print(\"Setting attribute\")\n",
        "        if value < 0:\n",
        "            raise ValueError(\"Value cannot be negative.\")\n",
        "        instance._value = value\n",
        "\n",
        "class MyClass:\n",
        "    def __init__(self, value):\n",
        "        self._value = value\n",
        "\n",
        "    attr = Descriptor()\n",
        "\n",
        "obj = MyClass(10)\n",
        "print(obj.attr)\n",
        "obj.attr = 20"
      ],
      "metadata": {
        "id": "2tIDeyeVXv--"
      },
      "execution_count": null,
      "outputs": []
    },
    {
      "cell_type": "markdown",
      "source": [
        "------------\n",
        "Q3. What are the key differences in functionality between __ getattr__ and __ getattribute__, as well as\n",
        "properties and descriptors?\n",
        "######Answer :- __ getattr__ is a fallback mechanism for handling missing attributes.\n",
        "__ getattribute__ is a general attribute access hook that's invoked for every attribute access.\n",
        "* Properties provide a simple way to define getter, setter, and deleter methods for attribute access.\n",
        "* Descriptors offer more flexibility and control by allowing you to define custom attribute access behavior using separate descriptor classes.\n",
        "\n",
        "\n",
        "The choice of which mechanism to use depends on your specific requirements. Properties are useful for simple attribute access control and validation, while descriptors are more versatile and provide a way to customize attribute access behavior in greater detail. Similarly, __ getattr__ and __ getattribute__ are used in different scenarios based on the level of control and customization you need for attribute access."
      ],
      "metadata": {
        "id": "CPyU0vL0X7ZY"
      }
    },
    {
      "cell_type": "markdown",
      "source": [
        "-------------\n",
        "--------------"
      ],
      "metadata": {
        "id": "hQAOLPpwYm1K"
      }
    }
  ]
}