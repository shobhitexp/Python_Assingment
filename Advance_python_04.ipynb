{
  "nbformat": 4,
  "nbformat_minor": 0,
  "metadata": {
    "colab": {
      "provenance": [],
      "authorship_tag": "ABX9TyMWQGcdhWwj/sislLQ2IKVZ",
      "include_colab_link": true
    },
    "kernelspec": {
      "name": "python3",
      "display_name": "Python 3"
    },
    "language_info": {
      "name": "python"
    }
  },
  "cells": [
    {
      "cell_type": "markdown",
      "metadata": {
        "id": "view-in-github",
        "colab_type": "text"
      },
      "source": [
        "<a href=\"https://colab.research.google.com/github/shobhitexp/Python_Assingments/blob/Advance_python_assignments/Advance_python_04.ipynb\" target=\"_parent\"><img src=\"https://colab.research.google.com/assets/colab-badge.svg\" alt=\"Open In Colab\"/></a>"
      ]
    },
    {
      "cell_type": "markdown",
      "source": [
        "##Assignment 04 Adv_python"
      ],
      "metadata": {
        "id": "N4DiLgGW8Eu2"
      }
    },
    {
      "cell_type": "markdown",
      "source": [
        "Q1. Which two operator overloading methods can you use in your classes to support iteration?\n",
        "######Answer :- The __iter__ returns the iterator object and is implicitly called at the start of loops.\n",
        "######The __next__ method returns the next value and is implicitly called at each loop increment."
      ],
      "metadata": {
        "id": "x9f8K0gj8Lym"
      }
    },
    {
      "cell_type": "markdown",
      "source": [
        "----------\n",
        "Q2. In what contexts do the two operator overloading methods manage printing?\n",
        "######Answer :- In Python, operator overloading works a bit differently than in languages like C++. Python provides special methods (also known as \"magic methods\" or \"dunder methods\") that allow you to define custom behaviors for various operators when they are used with instances of your custom classes. While Python doesn't have operator overloading methods specifically for managing printing, you can achieve similar effects using the following two methods:\n",
        "\n",
        "######__str__ Method for Printing:\n",
        "The __str__ method is used to define the \"informal\" or user-friendly string representation of an object. This method is called by the built-in str() function and the print() function when an object is used in a string context or printed. It should return a human-readable string representation of the object."
      ],
      "metadata": {
        "id": "D_4VbW9F8lfz"
      }
    },
    {
      "cell_type": "code",
      "execution_count": 1,
      "metadata": {
        "colab": {
          "base_uri": "https://localhost:8080/"
        },
        "id": "x7v42WB88Cwp",
        "outputId": "fb426f27-d4a6-4a5b-fc56-efb4b9d24730"
      },
      "outputs": [
        {
          "output_type": "stream",
          "name": "stdout",
          "text": [
            "MyClass instance with value: 42\n"
          ]
        }
      ],
      "source": [
        "class MyClass:\n",
        "    def __init__(self, value):\n",
        "        self.value = value\n",
        "\n",
        "    def __str__(self):\n",
        "        return f\"MyClass instance with value: {self.value}\"\n",
        "\n",
        "obj = MyClass(42)\n",
        "print(obj)"
      ]
    },
    {
      "cell_type": "markdown",
      "source": [
        "----------\n",
        "Q3. In a class, how do you intercept slice operations?\n",
        "######Answer :- To intercept slice operations in a Python class, you can define the __getitem__ method with appropriate handling for slice objects. The __getitem__ method allows you to customize the behavior of indexing and slicing operations on instances of your class.\n",
        "\n"
      ],
      "metadata": {
        "id": "yB2rCD2h-WcQ"
      }
    },
    {
      "cell_type": "markdown",
      "source": [
        "---------\n",
        "Q4. In a class, how do you capture in-place addition?\n",
        "######Answer :- To capture in-place addition operations in a Python class, you can define the __iadd__ method. This method allows you to customize the behavior when the += operator is used with instances of your class. It is called for in-place addition operations and should modify the object in place.\n",
        "\n"
      ],
      "metadata": {
        "id": "HEwSZGpu_i4d"
      }
    },
    {
      "cell_type": "code",
      "source": [
        "class MyNumber:\n",
        "    def __init__(self, value):\n",
        "        self.value = value\n",
        "\n",
        "    def __iadd__(self, other):\n",
        "        if isinstance(other, MyNumber):\n",
        "            self.value += other.value\n",
        "        elif isinstance(other, (int, float)):\n",
        "            self.value += other\n",
        "        else:\n",
        "            raise ValueError(\"Unsupported type for in-place addition\")\n",
        "        return self\n",
        "\n",
        "# Create instances of MyNumber\n",
        "num1 = MyNumber(10)\n",
        "num2 = MyNumber(20)\n",
        "\n",
        "num1 += num2\n",
        "print(num1.value)  # Output: 30\n",
        "\n",
        "num1 += 5\n",
        "print(num1.value)  # Output: 35\n"
      ],
      "metadata": {
        "colab": {
          "base_uri": "https://localhost:8080/"
        },
        "id": "HsBSgqJl_ilb",
        "outputId": "8173745a-311b-4a0c-ef80-e343794f5fcd"
      },
      "execution_count": 3,
      "outputs": [
        {
          "output_type": "stream",
          "name": "stdout",
          "text": [
            "30\n",
            "35\n"
          ]
        }
      ]
    },
    {
      "cell_type": "markdown",
      "source": [
        "----------\n",
        "Q5. When is it appropriate to use operator overloading?\n",
        "######Answer :- Operator overloading in Python is appropriate when you want to customize the behavior of standard operators for instances of your custom classes. It allows you to make your classes behave more intuitively and consistently in expressions involving these operators. Here are some scenarios where operator overloading can be useful in Python:\n",
        "* Creating Custom Data Types\n",
        "* Mathematical Operations\n",
        "* String Representations\n",
        "* Container Types\n",
        "* Comparison Operations\n",
        "* Context Managers\n",
        "* Iterators and Iterables\n",
        "* Arithmetic and Logical Operations\n",
        "* Special Use Cases"
      ],
      "metadata": {
        "id": "F8ls3CrEAOQb"
      }
    },
    {
      "cell_type": "markdown",
      "source": [
        "--------------\n",
        "--------------"
      ],
      "metadata": {
        "id": "u_gOSEtzBTof"
      }
    }
  ]
}