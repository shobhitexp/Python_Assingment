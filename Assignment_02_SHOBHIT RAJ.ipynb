{
  "nbformat": 4,
  "nbformat_minor": 0,
  "metadata": {
    "colab": {
      "provenance": []
    },
    "kernelspec": {
      "name": "python3",
      "display_name": "Python 3"
    },
    "language_info": {
      "name": "python"
    }
  },
  "cells": [
    {
      "cell_type": "markdown",
      "source": [
        "###Question 1.\n",
        "#####What are the two values of the Boolean data type? How do you write them?\n",
        "\n",
        "######solution :- \n",
        "Python has a built-in data type called Boolean. It’s used to represent the truth value of an expression. For that it use True/False where,\n",
        "######True=1 and False=0 \n",
        "######For example:-\n",
        "Let the expression is 1 <= 2 is True, while the expression 0 == 1 is False."
      ],
      "metadata": {
        "id": "vlr1vwlLLnns"
      }
    },
    {
      "cell_type": "code",
      "execution_count": 6,
      "metadata": {
        "colab": {
          "base_uri": "https://localhost:8080/"
        },
        "id": "hqiuUj9GLYYX",
        "outputId": "4ea4a476-8a33-420c-c35d-593c4470982a"
      },
      "outputs": [
        {
          "output_type": "stream",
          "name": "stdout",
          "text": [
            "False\n",
            "True\n"
          ]
        }
      ],
      "source": [
        "a=67\n",
        "print(a >100)\n",
        "print(a < 100)"
      ]
    },
    {
      "cell_type": "code",
      "source": [
        "a = 400\n",
        "b = 366\n",
        "\n",
        "if b > a:#here we check expression (b>a) is True or false if True execute this.\n",
        "  print(\"b is greater than a\")\n",
        "else:#if not True or False then execute this\n",
        "  print(\"b is not greater than a\")"
      ],
      "metadata": {
        "id": "WWh4q12fSPW2"
      },
      "execution_count": null,
      "outputs": []
    },
    {
      "cell_type": "markdown",
      "source": [
        "\n",
        "\n",
        "---\n",
        "\n",
        "---\n",
        "\n",
        "\n",
        "\n"
      ],
      "metadata": {
        "id": "RZPM0X5ObI3r"
      }
    },
    {
      "cell_type": "markdown",
      "source": [
        "###Question 2.\n",
        "#####What are the three different types of Boolean operators?\n",
        "###AND | OR | Not\n",
        "#####and = Returns True if both statements are true\n",
        "#####or = Returns True if one of the statements is true\n",
        "#####not = Reverse the result, returns False if the result is true\n"
      ],
      "metadata": {
        "id": "SGxAUcybRUFS"
      }
    },
    {
      "cell_type": "code",
      "source": [
        "# And example\n",
        "stayement_1=True\n",
        "stayement_2=False\n",
        "if stayement_1==True and stayement_2==True:\n",
        "  print(\"Both statment's are True \")\n",
        "else:\n",
        "  print(\"One of the statment's are False \")\n"
      ],
      "metadata": {
        "colab": {
          "base_uri": "https://localhost:8080/"
        },
        "id": "7RjYWUKMRGvu",
        "outputId": "02b20d67-c390-48b9-8662-23e6cd9e1170"
      },
      "execution_count": 7,
      "outputs": [
        {
          "output_type": "stream",
          "name": "stdout",
          "text": [
            "One of the statment's are False \n"
          ]
        }
      ]
    },
    {
      "cell_type": "code",
      "source": [
        "# OR example\n",
        "stayement_1=True\n",
        "stayement_2=False\n",
        "if stayement_1==True or stayement_2==True:#if any one statment goes correct it give (True)\n",
        "  print(\"One statment's are True \")\n",
        "else:#if both statment goes false then (False)\n",
        "  print(\"One of the statment's are False \")\n"
      ],
      "metadata": {
        "id": "LnuTNMwLVPJb"
      },
      "execution_count": null,
      "outputs": []
    },
    {
      "cell_type": "code",
      "source": [
        "# NOT example\n",
        "stayement_1=True\n",
        "stayement_2=False\n",
        "stayement_1=not stayement_1\n",
        "print(stayement_1)\n",
        "stayement_2=not stayement_2\n",
        "print(stayement_2)\n"
      ],
      "metadata": {
        "colab": {
          "base_uri": "https://localhost:8080/"
        },
        "id": "8XQUOSNsV9Wl",
        "outputId": "fe064e8b-dec7-4bfc-9bf0-02576fc34e9a"
      },
      "execution_count": 9,
      "outputs": [
        {
          "output_type": "stream",
          "name": "stdout",
          "text": [
            "False\n",
            "True\n"
          ]
        }
      ]
    },
    {
      "cell_type": "code",
      "source": [],
      "metadata": {
        "id": "qu3Ne2Z6ba2H"
      },
      "execution_count": null,
      "outputs": []
    },
    {
      "cell_type": "markdown",
      "source": [
        "\n",
        "\n",
        "---\n",
        "\n",
        "\n",
        "\n",
        "---\n",
        "\n"
      ],
      "metadata": {
        "id": "vujaOUtpbFWL"
      }
    },
    {
      "cell_type": "markdown",
      "source": [
        "###**Question 3.**\n",
        "######Make a list of each Boolean operator&#39;s truth tables (i.e. every possible combination of Boolean values for the operator and what it evaluate ).\n",
        "##  Logical opertors \n",
        "\n",
        "Keywords | Meaning\n",
        "- | - \n",
        "and | conditional AND\n",
        "or | conditional OR\n",
        "not | unary negation\n",
        "\n"
      ],
      "metadata": {
        "id": "j5YkTm4ZWpDU"
      }
    },
    {
      "cell_type": "markdown",
      "source": [
        "#AND\n",
        "input(1) | input(2) | Result(1*2)\n",
        "- | - | -\n",
        "False | False | False\n",
        "False | True | False\n",
        "True | False | False\n",
        "True | True | True"
      ],
      "metadata": {
        "id": "kuVYAzUGY8Xr"
      }
    },
    {
      "cell_type": "markdown",
      "source": [
        "#OR\n",
        "input(1) | input(2) | Result\n",
        "- | - | -\n",
        "False | False | False\n",
        "False | True | True\n",
        "True | False | True\n",
        "True | True | True"
      ],
      "metadata": {
        "id": "iY6ison5Zeu8"
      }
    },
    {
      "cell_type": "markdown",
      "source": [
        "#NOT\n",
        "input | Result\n",
        "- | -\n",
        "False | True\n",
        "True | False\n",
        "\n",
        "\n",
        "---\n",
        "\n",
        "\n",
        "\n",
        "---\n",
        "\n"
      ],
      "metadata": {
        "id": "x47m9H-AZw-m"
      }
    },
    {
      "cell_type": "markdown",
      "source": [
        "###**Question 4.** \n",
        "#####What are the values of the following expressions?\n",
        "\n",
        "\n",
        "---\n",
        "\n",
        "\n",
        "#####* (5 > 4) and (3 == 5)  \n",
        "solution :- **True and False = False**\n",
        "\n",
        "\n",
        "---\n",
        "\n",
        "\n",
        "#####* not (5 > 4).          \n",
        "solution :- **not ( True ) = False**\n",
        "\n",
        "\n",
        "---\n",
        "\n",
        "\n",
        "##### * (5 > 4) or (3 == 5) \n",
        "solution :- **True or False = True**\n",
        "\n",
        "\n",
        "---\n",
        "\n",
        "\n",
        "#####* not ((5 > 4) or (3 == 5)) \n",
        "solution :- **not ( True ) or False => False or False =False**\n",
        "\n",
        "\n",
        "---\n",
        "\n",
        "\n",
        "#####* (True and True) and (True == False) \n",
        "solution :- **True and False = False**\n",
        "\n",
        "\n",
        "---\n",
        "\n",
        "\n",
        "#####* (not False) or (not True)\n",
        "solution :- **True or False = False**"
      ],
      "metadata": {
        "id": "LF1pvZfva4PQ"
      }
    },
    {
      "cell_type": "markdown",
      "source": [
        "\n",
        "\n",
        "---\n",
        "\n",
        "\n",
        "\n",
        "---\n",
        "\n"
      ],
      "metadata": {
        "id": "KBmXVfhNfREE"
      }
    },
    {
      "cell_type": "markdown",
      "source": [
        "###Question 5. \n",
        "######What are the six comparison operators?\n",
        "Operator | Name | Example\n",
        "-|-|-\n",
        "== | Equal | A == B\n",
        "!= | Not Equal | A != B\n",
        "> | Grater than | A > B\n",
        "< | Less than | A < B\n",
        ">= | Greater than or equal to | A >= B\n",
        "<= | Less than or equal to | A <= B \n",
        "\n",
        "\n",
        "\n",
        "---\n",
        "\n",
        "\n",
        "\n",
        "---\n",
        "\n"
      ],
      "metadata": {
        "id": "20OqbTqofWMI"
      }
    },
    {
      "cell_type": "markdown",
      "source": [
        "###Question 6. \n",
        "How do you tell the difference between the equal to and assignment operators?Describe a\n",
        "condition and when you would use one.\n",
        "####Equal , (==) :- this operator is basically used for comparision of two statments."
      ],
      "metadata": {
        "id": "aGmSvsX_hi67"
      }
    },
    {
      "cell_type": "code",
      "source": [
        "A=6\n",
        "B=5\n",
        "print(A==B)"
      ],
      "metadata": {
        "colab": {
          "base_uri": "https://localhost:8080/"
        },
        "id": "e6P4C6CMlHBT",
        "outputId": "792bc92d-a2bd-4a8f-c392-e66542e22239"
      },
      "execution_count": 11,
      "outputs": [
        {
          "output_type": "execute_result",
          "data": {
            "text/plain": [
              "False"
            ]
          },
          "metadata": {},
          "execution_count": 11
        }
      ]
    },
    {
      "cell_type": "markdown",
      "source": [
        "####Assignment , (=) :- this operator is basically used for assigning one operend value to another.\n",
        "example :- num_1=num_2 **Here we are assigning the, num_2 value to num_1**"
      ],
      "metadata": {
        "id": "SSigbB2lkTMk"
      }
    },
    {
      "cell_type": "code",
      "source": [
        "num_1=3\n",
        "num_2=4\n",
        "num_1=num_2\n",
        "print(num_1)"
      ],
      "metadata": {
        "colab": {
          "base_uri": "https://localhost:8080/"
        },
        "id": "SrvcCu21WnOP",
        "outputId": "b87a7e40-97b4-4721-da88-69d5f53ac933"
      },
      "execution_count": 10,
      "outputs": [
        {
          "output_type": "stream",
          "name": "stdout",
          "text": [
            "4\n"
          ]
        }
      ]
    },
    {
      "cell_type": "markdown",
      "source": [
        "\n",
        "\n",
        "---\n",
        "\n",
        "\n",
        "\n",
        "---\n",
        "\n"
      ],
      "metadata": {
        "id": "D9Q44_rAmJ01"
      }
    },
    {
      "cell_type": "markdown",
      "source": [
        "###Question 7. \n",
        "######Identify the three blocks in this code:\n",
        "######spam = 0\n",
        "######if spam == 10:\n",
        "######print(&#39;eggs&#39;)\n",
        "######if spam &gt; 5:\n",
        "######print(&#39;bacon&#39;)\n",
        "######else:\n",
        "######print(&#39;ham&#39;)\n",
        "######print(&#39;spam&#39;)\n",
        "######print(&#39;spam&#39;)"
      ],
      "metadata": {
        "id": "rtfFqDnlmLCO"
      }
    },
    {
      "cell_type": "code",
      "source": [
        "spam = 0\n",
        "if spam == 10:#False condition\n",
        "  print('eggs')\n",
        "  if spam > 5:#False condition\n",
        "    print('bacon')\n",
        "  else:#True condition\n",
        "    print('ham')\n",
        "  print('spam')\n",
        "print('spam')"
      ],
      "metadata": {
        "colab": {
          "base_uri": "https://localhost:8080/"
        },
        "id": "7aaG_iBQmcoM",
        "outputId": "3d1e4e03-ae90-4982-ba4c-44f880df7c0b"
      },
      "execution_count": 44,
      "outputs": [
        {
          "output_type": "stream",
          "name": "stdout",
          "text": [
            "spam\n"
          ]
        }
      ]
    },
    {
      "cell_type": "markdown",
      "source": [
        "\n",
        "\n",
        "---\n",
        "\n",
        "\n",
        "\n",
        "---\n",
        "\n"
      ],
      "metadata": {
        "id": "Lt_QQpHrm1aB"
      }
    },
    {
      "cell_type": "markdown",
      "source": [
        "###Question 8. \n",
        "Write code that prints Hello if 1 is stored in spam, prints Howdy if 2 is stored in spam, and prints\n",
        "Greetings! if anything else is stored in spam."
      ],
      "metadata": {
        "id": "PgoJkMWRm1Qw"
      }
    },
    {
      "cell_type": "code",
      "source": [
        "spam=int(input())\n",
        "if spam==1:\n",
        "  print(\"Hello\")\n",
        "elif spam==2:\n",
        "  print(\"Howdy\")\n",
        "else:\n",
        "  print(\"Greetings!\")"
      ],
      "metadata": {
        "colab": {
          "base_uri": "https://localhost:8080/"
        },
        "id": "iLkEECh7nfPz",
        "outputId": "66cdc8be-73bc-49ee-b30e-7ecbb77d8479"
      },
      "execution_count": 13,
      "outputs": [
        {
          "output_type": "stream",
          "name": "stdout",
          "text": [
            "1\n",
            "Hello\n"
          ]
        }
      ]
    },
    {
      "cell_type": "code",
      "source": [
        "spam=int(input())\n",
        "if spam==1:\n",
        "  print(\"Hello\")\n",
        "elif spam==2:\n",
        "  print(\"Howdy\")\n",
        "else:\n",
        "  print(\"Greetings!\")"
      ],
      "metadata": {
        "colab": {
          "base_uri": "https://localhost:8080/"
        },
        "id": "a2SzXMX1oKsS",
        "outputId": "dec462ba-f10e-42a4-c05e-b3e44999c572"
      },
      "execution_count": 14,
      "outputs": [
        {
          "output_type": "stream",
          "name": "stdout",
          "text": [
            "2\n",
            "Howdy\n"
          ]
        }
      ]
    },
    {
      "cell_type": "code",
      "source": [
        "spam=int(input())\n",
        "if spam==1:\n",
        "  print(\"Hello\")\n",
        "elif spam==2:\n",
        "  print(\"Howdy\")\n",
        "else:\n",
        "  print(\"Greetings!\")"
      ],
      "metadata": {
        "colab": {
          "base_uri": "https://localhost:8080/"
        },
        "id": "pGTCsPsuoNd0",
        "outputId": "9a6a210e-21c8-4ec1-8fe0-aeeb7acf6b05"
      },
      "execution_count": 15,
      "outputs": [
        {
          "output_type": "stream",
          "name": "stdout",
          "text": [
            "5\n",
            "Greetings!\n"
          ]
        }
      ]
    },
    {
      "cell_type": "markdown",
      "source": [
        "\n",
        "\n",
        "---\n",
        "\n",
        "---\n",
        "\n",
        "\n",
        "\n"
      ],
      "metadata": {
        "id": "sSsYP3bNoR_O"
      }
    },
    {
      "cell_type": "markdown",
      "source": [
        "###Question 9.\n",
        "If your programme is stuck in an endless loop, what keys you’ll press?\n",
        "#####Sloution:-\n",
        "We Use control+c\n",
        "\n",
        "\n",
        "---\n",
        "\n",
        "\n",
        "\n",
        "---\n",
        "\n"
      ],
      "metadata": {
        "id": "gt0MdMJzoX_d"
      }
    },
    {
      "cell_type": "markdown",
      "source": [
        "###Question 10. \n",
        "How can you tell the difference between break and continue?\n"
      ],
      "metadata": {
        "id": "qby6uIyeq87C"
      }
    },
    {
      "cell_type": "markdown",
      "source": [
        "###Continue :- The continue statement causes the loop to skip its current execution at some point and move on to the next iteration. Instead of terminating the loop like a break statement, it moves on to the subsequent execution.\n",
        "\n",
        "\n"
      ],
      "metadata": {
        "id": "JSobHY1_rbai"
      }
    },
    {
      "cell_type": "code",
      "source": [
        "for i in range(0,10):\n",
        "    if i==7:\n",
        "        continue\n",
        "    print(i)"
      ],
      "metadata": {
        "colab": {
          "base_uri": "https://localhost:8080/"
        },
        "id": "4fimcrDArjnz",
        "outputId": "27de916d-1695-4f5a-c401-680268c0abe3"
      },
      "execution_count": 29,
      "outputs": [
        {
          "output_type": "stream",
          "name": "stdout",
          "text": [
            "0\n",
            "1\n",
            "2\n",
            "3\n",
            "4\n",
            "5\n",
            "6\n",
            "8\n",
            "9\n"
          ]
        }
      ]
    },
    {
      "cell_type": "markdown",
      "source": [
        "###Break :- A break statement is used inside both the while and for loops. It terminates the loop immediately and transfers execution to the new statement after the loop. For example, have a look at the code and its output"
      ],
      "metadata": {
        "id": "lgXHKRM3r1Nn"
      }
    },
    {
      "cell_type": "code",
      "source": [
        "count = 0\n",
        "while count<=100:\n",
        "    print(count)\n",
        "    count+=1\n",
        "    if count==8:\n",
        "        break"
      ],
      "metadata": {
        "colab": {
          "base_uri": "https://localhost:8080/"
        },
        "id": "6i4VurlSr6bo",
        "outputId": "dd8f3889-a952-4290-e793-3091cb0439c3"
      },
      "execution_count": 31,
      "outputs": [
        {
          "output_type": "stream",
          "name": "stdout",
          "text": [
            "0\n",
            "1\n",
            "2\n",
            "3\n",
            "4\n",
            "5\n",
            "6\n",
            "7\n"
          ]
        }
      ]
    },
    {
      "cell_type": "markdown",
      "source": [
        "\n",
        "\n",
        "---\n",
        "\n",
        "\n",
        "\n",
        "---\n",
        "\n"
      ],
      "metadata": {
        "id": "DuzJJW5Ysaft"
      }
    },
    {
      "cell_type": "markdown",
      "source": [
        "###Question 11. \n",
        "In a for loop, what is the difference between range(10), range(0, 10), and range(0, 10, 1)?\n",
        "###They all do the same thing. range(Start,Stop,Step)"
      ],
      "metadata": {
        "id": "I3i5CNdlsVxI"
      }
    },
    {
      "cell_type": "code",
      "source": [
        "for i in range(10):# In this range start from 0 by Default and goes till 9 because upper bound(10) is excluded.\n",
        "  print(i)"
      ],
      "metadata": {
        "colab": {
          "base_uri": "https://localhost:8080/"
        },
        "id": "oaxngsUss-zt",
        "outputId": "f2ddc757-d2bf-4689-a936-4a4afc22a2f8"
      },
      "execution_count": 32,
      "outputs": [
        {
          "output_type": "stream",
          "name": "stdout",
          "text": [
            "0\n",
            "1\n",
            "2\n",
            "3\n",
            "4\n",
            "5\n",
            "6\n",
            "7\n",
            "8\n",
            "9\n"
          ]
        }
      ]
    },
    {
      "cell_type": "code",
      "source": [
        "for i in range(0,10):#In this range start from 0 and goes till 9 because upper bound(10) is excluded.\n",
        "  print(i)"
      ],
      "metadata": {
        "colab": {
          "base_uri": "https://localhost:8080/"
        },
        "id": "ec-gayz9tF6O",
        "outputId": "4df376ac-4707-4a99-dc7f-afca705f0936"
      },
      "execution_count": 36,
      "outputs": [
        {
          "output_type": "stream",
          "name": "stdout",
          "text": [
            "0\n",
            "1\n",
            "2\n",
            "3\n",
            "4\n",
            "5\n",
            "6\n",
            "7\n",
            "8\n",
            "9\n"
          ]
        }
      ]
    },
    {
      "cell_type": "code",
      "source": [
        "for i in range(0,10,1):#In this range start from 0 and goes till 9 and with step 1. And here also Upper bound(10) is excluded.\n",
        "  print(i)"
      ],
      "metadata": {
        "colab": {
          "base_uri": "https://localhost:8080/"
        },
        "id": "MpDu9HCXtNQ7",
        "outputId": "670ea833-463d-4b20-805d-defbf6e56dbe"
      },
      "execution_count": 37,
      "outputs": [
        {
          "output_type": "stream",
          "name": "stdout",
          "text": [
            "0\n",
            "1\n",
            "2\n",
            "3\n",
            "4\n",
            "5\n",
            "6\n",
            "7\n",
            "8\n",
            "9\n"
          ]
        }
      ]
    },
    {
      "cell_type": "markdown",
      "source": [
        "\n",
        "\n",
        "---\n",
        "\n",
        "\n",
        "\n",
        "---\n",
        "\n"
      ],
      "metadata": {
        "id": "0sYx6A4qvPww"
      }
    },
    {
      "cell_type": "markdown",
      "source": [
        "###Question 12. \n",
        "Write a short program that prints the numbers 1 to 10 using a for loop. Then write an equivalent\n",
        "program that prints the numbers 1 to 10 using a while loop."
      ],
      "metadata": {
        "id": "wlIAdmYlvQ9a"
      }
    },
    {
      "cell_type": "code",
      "source": [
        "# Using For loop\n",
        "for i in range(1,11):\n",
        "  print(i)\n"
      ],
      "metadata": {
        "colab": {
          "base_uri": "https://localhost:8080/"
        },
        "id": "q3hSiQ0Rveb1",
        "outputId": "94bf5ffd-2b68-4422-8e13-ea37af50c257"
      },
      "execution_count": 38,
      "outputs": [
        {
          "output_type": "stream",
          "name": "stdout",
          "text": [
            "1\n",
            "2\n",
            "3\n",
            "4\n",
            "5\n",
            "6\n",
            "7\n",
            "8\n",
            "9\n",
            "10\n"
          ]
        }
      ]
    },
    {
      "cell_type": "code",
      "source": [
        "# Using While loop\n",
        "i=1\n",
        "while(i<11):\n",
        "  print(i)\n",
        "  i+=1 # insted if this we can wright i=i+1"
      ],
      "metadata": {
        "colab": {
          "base_uri": "https://localhost:8080/"
        },
        "id": "BzzNu90fvwtd",
        "outputId": "45fc6adb-e16d-448f-988d-10c792af6094"
      },
      "execution_count": 43,
      "outputs": [
        {
          "output_type": "stream",
          "name": "stdout",
          "text": [
            "1\n",
            "2\n",
            "3\n",
            "4\n",
            "5\n",
            "6\n",
            "7\n",
            "8\n",
            "9\n",
            "10\n"
          ]
        }
      ]
    },
    {
      "cell_type": "markdown",
      "source": [
        "\n",
        "\n",
        "---\n",
        "\n",
        "\n",
        "\n",
        "---\n",
        "\n"
      ],
      "metadata": {
        "id": "8WyYxeu4xPLz"
      }
    },
    {
      "cell_type": "markdown",
      "source": [
        "###Question 13.\n",
        "If you had a function named bacon() inside a module named spam, how would you call it after\n",
        "importing spam?\n",
        "###Solution :- This function can be called with spam.bacon()."
      ],
      "metadata": {
        "id": "rzxywz2Ow58N"
      }
    },
    {
      "cell_type": "markdown",
      "source": [
        "\n",
        "\n",
        "---\n",
        "\n",
        "\n",
        "\n",
        "---\n",
        "\n"
      ],
      "metadata": {
        "id": "yJg2out_w6kT"
      }
    }
  ]
}