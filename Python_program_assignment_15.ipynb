{
  "nbformat": 4,
  "nbformat_minor": 0,
  "metadata": {
    "colab": {
      "provenance": []
    },
    "kernelspec": {
      "name": "python3",
      "display_name": "Python 3"
    },
    "language_info": {
      "name": "python"
    }
  },
  "cells": [
    {
      "cell_type": "markdown",
      "metadata": {
        "id": "f8znqYKPjDos"
      },
      "source": [
        "Question 1:\n",
        "Please write a program using generator to print the numbers which can be divisible by 5 and\n",
        "7 between 0 and n in comma separated form while n is input by console.\n",
        "Example:\n",
        "If the following n is given as input to the program:\n",
        "100\n",
        "Then, the output of the program should be:\n",
        "0,35,70"
      ]
    },
    {
      "cell_type": "code",
      "metadata": {
        "colab": {
          "base_uri": "https://localhost:8080/"
        },
        "id": "nPaXwYX2icEx",
        "outputId": "1f91c06c-2a39-453f-c00e-5f5489413243"
      },
      "source": [
        "def getno(n):\n",
        "    i = 0\n",
        "    while i < n:\n",
        "        j = i\n",
        "        i += 1\n",
        "        if j % 5 == 0 and j % 7 == 0:\n",
        "            yield j\n",
        "n = int(input('Enter n :- '))\n",
        "num =[]\n",
        "for i in getno(n):\n",
        "    num.append(str(i))\n",
        "\n",
        "print(','.join(num))"
      ],
      "execution_count": 1,
      "outputs": [
        {
          "output_type": "stream",
          "name": "stdout",
          "text": [
            "Enter n :- 100\n",
            "0,35,70\n"
          ]
        }
      ]
    },
    {
      "cell_type": "markdown",
      "source": [
        "------------\n"
      ],
      "metadata": {
        "id": "p-JNc1J9XWV2"
      }
    },
    {
      "cell_type": "markdown",
      "metadata": {
        "id": "x2MpxNwcjei6"
      },
      "source": [
        "Question 2:\n",
        "Please write a program using generator to print the even numbers between 0 and n in comma\n",
        "separated form while n is input by console.\n",
        "Example:\n",
        "If the following n is given as input to the program:\n",
        "10\n",
        "Then, the output of the program should be:\n",
        "0,2,4,6,8,10"
      ]
    },
    {
      "cell_type": "code",
      "metadata": {
        "colab": {
          "base_uri": "https://localhost:8080/"
        },
        "id": "gYKnYxnzjO8j",
        "outputId": "1f4f1f79-8773-48d9-d621-35be34571467"
      },
      "source": [
        "def getno(n):\n",
        "    i = 0\n",
        "    while i < n:\n",
        "        j = i\n",
        "        i += 1\n",
        "        if j % 2 == 0:\n",
        "            yield j\n",
        "n = int(input('Enter n :- '))\n",
        "num =[]\n",
        "for i in getno(n):\n",
        "    num.append(str(i))\n",
        "print(','.join(num))"
      ],
      "execution_count": 3,
      "outputs": [
        {
          "output_type": "stream",
          "name": "stdout",
          "text": [
            "Enter n :- 30\n",
            "0,2,4,6,8,10,12,14,16,18,20,22,24,26,28\n"
          ]
        }
      ]
    },
    {
      "cell_type": "markdown",
      "metadata": {
        "id": "fSL6Zj2ojnSb"
      },
      "source": [
        "---------\n",
        "\n",
        "Question 3:\n",
        "The Fibonacci Sequence is computed based on the following formula:\n",
        "f(n)=0 if n=0\n",
        "f(n)=1 if n=1\n",
        "f(n)=f(n-1)+f(n-2) if n&gt;1\n",
        "Please write a program using list comprehension to print the Fibonacci Sequence in comma\n",
        "separated form with a given n input by console.\n",
        "Example:\n",
        "If the following n is given as input to the program:\n",
        "7\n",
        "\n",
        "Then, the output of the program should be:\n",
        "0,1,1,2,3,5,8,13"
      ]
    },
    {
      "cell_type": "code",
      "metadata": {
        "colab": {
          "base_uri": "https://localhost:8080/"
        },
        "id": "2ERmY_lzjkUA",
        "outputId": "9706d641-c07d-4d21-82bb-d5f36f260790"
      },
      "source": [
        "def fib(n):\n",
        "  if n == 0:\n",
        "    return 0\n",
        "  elif n == 1:\n",
        "    return 1\n",
        "  else:\n",
        "    return fib(n-1)+fib(n-2)\n",
        "n=int(input('Enter a number :- '))\n",
        "values = [str(fib(x)) for x in range(0, n+1)]\n",
        "print(\",\".join(values))"
      ],
      "execution_count": 7,
      "outputs": [
        {
          "output_type": "stream",
          "name": "stdout",
          "text": [
            "Enter a number :- 5\n",
            "0,1,1,2,3,5\n"
          ]
        }
      ]
    },
    {
      "cell_type": "markdown",
      "metadata": {
        "id": "eGrK3Igijvzy"
      },
      "source": [
        "-----------\n",
        "\n",
        "Question 4:\n",
        "Assuming that we have some email addresses in the &quot;username@companyname.com&quot; format,\n",
        "please write program to print the user name of a given email address. Both user names and\n",
        "company names are composed of letters only.\n",
        "Example:\n",
        "If the following email address is given as input to the program:\n",
        "john@google.com\n",
        "Then, the output of the program should be:\n",
        "john"
      ]
    },
    {
      "cell_type": "code",
      "metadata": {
        "colab": {
          "base_uri": "https://localhost:8080/"
        },
        "id": "_qBdczyFjqa0",
        "outputId": "0eab03e0-bcde-41c6-e2c3-9d2c0458c10e"
      },
      "source": [
        "email = input(\"Enter the email address :- \").split('@') # here we are taking email as as string input and finding for @ and then split it\n",
        "company = str(email[1]).split('.')\n",
        "print(\"User name :- \",email[0])\n",
        "print(\"Company name :- \",company[0])"
      ],
      "execution_count": 6,
      "outputs": [
        {
          "output_type": "stream",
          "name": "stdout",
          "text": [
            "Enter the email address :- shobhitraj4757@gmail.com\n",
            "User name :-  shobhitraj4757\n",
            "Company name :-  gmail\n"
          ]
        }
      ]
    },
    {
      "cell_type": "markdown",
      "metadata": {
        "id": "3KjeaufllP0s"
      },
      "source": [
        "------------\n",
        "Question 5:\n",
        "Define a class named Shape and its subclass Square. The Square class has an init function\n",
        "which takes a length as argument. Both classes have a area function which can print the area\n",
        "of the shape where Shape&#39;s area is 0 by default.\n"
      ]
    },
    {
      "cell_type": "code",
      "metadata": {
        "colab": {
          "base_uri": "https://localhost:8080/"
        },
        "id": "vs0HaOdnk0s8",
        "outputId": "005bddba-e0a0-433a-9dc2-d02ddc13676d"
      },
      "source": [
        "class Shape(object):\n",
        "  def __init__(self):\n",
        "    pass\n",
        "  def area(self):\n",
        "     return 0\n",
        "class Square(Shape):\n",
        "  def __init__(self,l):\n",
        "    self.length = l\n",
        "  def area(self):\n",
        "    return self.length*self.length\n",
        "obsquare = Square(9)\n",
        "obsquare.area()"
      ],
      "execution_count": 8,
      "outputs": [
        {
          "output_type": "execute_result",
          "data": {
            "text/plain": [
              "81"
            ]
          },
          "metadata": {},
          "execution_count": 8
        }
      ]
    },
    {
      "cell_type": "markdown",
      "source": [
        "--------------\n",
        "--------------"
      ],
      "metadata": {
        "id": "2rR77Y2qc_q5"
      }
    }
  ]
}