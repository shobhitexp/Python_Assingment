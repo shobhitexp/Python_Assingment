{
  "nbformat": 4,
  "nbformat_minor": 0,
  "metadata": {
    "colab": {
      "provenance": [],
      "authorship_tag": "ABX9TyPn0ZIoLzZv0TpglMInhShx",
      "include_colab_link": true
    },
    "kernelspec": {
      "name": "python3",
      "display_name": "Python 3"
    },
    "language_info": {
      "name": "python"
    }
  },
  "cells": [
    {
      "cell_type": "markdown",
      "metadata": {
        "id": "view-in-github",
        "colab_type": "text"
      },
      "source": [
        "<a href=\"https://colab.research.google.com/github/shobhitexp/Python_Assingments/blob/Advance_python_assignments/Advance_python_13.ipynb\" target=\"_parent\"><img src=\"https://colab.research.google.com/assets/colab-badge.svg\" alt=\"Open In Colab\"/></a>"
      ]
    },
    {
      "cell_type": "markdown",
      "source": [
        "##Advance_python_13"
      ],
      "metadata": {
        "id": "5QxynwyB8XDX"
      }
    },
    {
      "cell_type": "markdown",
      "source": [
        "Q1. Can you create a programme or function that employs both positive and negative indexing? Is there any repercussion if you do so?\n",
        "\n",
        "Answer :-"
      ],
      "metadata": {
        "id": "6C82VcMh8aEO"
      }
    },
    {
      "cell_type": "code",
      "execution_count": null,
      "metadata": {
        "colab": {
          "base_uri": "https://localhost:8080/"
        },
        "id": "AaAZmaif8T3u",
        "outputId": "c1109a69-3dbb-40d7-9ad8-76bc7189fbe9"
      },
      "outputs": [
        {
          "output_type": "stream",
          "name": "stdout",
          "text": [
            "Enter your list element seperated by comma :- 10,20,30,40,50\n",
            "Original data: [10, 20, 30, 40, 50]\n",
            "Positive indexing:\n",
            "Index 0 : 10\n",
            "Index 1 : 20\n",
            "Index 2 : 30\n",
            "Index 3 : 40\n",
            "Index 4 : 50\n",
            "Negative indexing:\n",
            "Index -1 : 50\n",
            "Index -2 : 40\n",
            "Index -3 : 30\n",
            "Index -4 : 20\n",
            "Index -5 : 10\n",
            "Original data: Hello, World!\n",
            "Positive indexing:\n",
            "Index 0 : H\n",
            "Index 1 : e\n",
            "Index 2 : l\n",
            "Index 3 : l\n",
            "Index 4 : o\n",
            "Index 5 : ,\n",
            "Index 6 :  \n",
            "Index 7 : W\n",
            "Index 8 : o\n",
            "Index 9 : r\n",
            "Index 10 : l\n",
            "Index 11 : d\n",
            "Index 12 : !\n",
            "Negative indexing:\n",
            "Index -1 : !\n",
            "Index -2 : d\n",
            "Index -3 : l\n",
            "Index -4 : r\n",
            "Index -5 : o\n",
            "Index -6 : W\n",
            "Index -7 :  \n",
            "Index -8 : ,\n",
            "Index -9 : o\n",
            "Index -10 : l\n",
            "Index -11 : l\n",
            "Index -12 : e\n",
            "Index -13 : H\n"
          ]
        }
      ],
      "source": [
        "def positive_negative_indexing_demo(data):\n",
        "    print(\"Original data:\", data)\n",
        "\n",
        "    # + indexing\n",
        "    print(\"Positive indexing:\")\n",
        "    for i in range(len(data)):\n",
        "        print(\"Index\", i, \":\", data[i])\n",
        "\n",
        "    # - indexing\n",
        "    print(\"Negative indexing:\")\n",
        "    for i in range(-1, -len(data) - 1, -1):\n",
        "        print(\"Index\", i, \":\", data[i])\n",
        "\n",
        "# Test with a list\n",
        "my_list = list(map(int,input(\"Enter your list element seperated by comma :- \").strip().split(',')))\n",
        "positive_negative_indexing_demo(my_list)\n",
        "\n",
        "# Test with a string\n",
        "my_string = \"Hello, World!\"\n",
        "positive_negative_indexing_demo(my_string)"
      ]
    },
    {
      "cell_type": "markdown",
      "source": [
        "-------------\n",
        "Q2. What is the most effective way of starting with 1,000 elements in a Python list? Assume that all elements should be set to the same value."
      ],
      "metadata": {
        "id": "oBDydORq_h9C"
      }
    },
    {
      "cell_type": "code",
      "source": [
        "def gen():\n",
        "  ls=[]\n",
        "  for i in range(1000):\n",
        "    ls.append(i)\n",
        "  yield ls\n",
        "x=gen()\n",
        "print(x.__next__())"
      ],
      "metadata": {
        "colab": {
          "base_uri": "https://localhost:8080/"
        },
        "id": "eDJqo4FRDPT6",
        "outputId": "e62c6a16-3663-48fc-c225-43799dad06fe"
      },
      "execution_count": 6,
      "outputs": [
        {
          "output_type": "stream",
          "name": "stdout",
          "text": [
            "[0, 1, 2, 3, 4, 5, 6, 7, 8, 9, 10, 11, 12, 13, 14, 15, 16, 17, 18, 19, 20, 21, 22, 23, 24, 25, 26, 27, 28, 29, 30, 31, 32, 33, 34, 35, 36, 37, 38, 39, 40, 41, 42, 43, 44, 45, 46, 47, 48, 49, 50, 51, 52, 53, 54, 55, 56, 57, 58, 59, 60, 61, 62, 63, 64, 65, 66, 67, 68, 69, 70, 71, 72, 73, 74, 75, 76, 77, 78, 79, 80, 81, 82, 83, 84, 85, 86, 87, 88, 89, 90, 91, 92, 93, 94, 95, 96, 97, 98, 99, 100, 101, 102, 103, 104, 105, 106, 107, 108, 109, 110, 111, 112, 113, 114, 115, 116, 117, 118, 119, 120, 121, 122, 123, 124, 125, 126, 127, 128, 129, 130, 131, 132, 133, 134, 135, 136, 137, 138, 139, 140, 141, 142, 143, 144, 145, 146, 147, 148, 149, 150, 151, 152, 153, 154, 155, 156, 157, 158, 159, 160, 161, 162, 163, 164, 165, 166, 167, 168, 169, 170, 171, 172, 173, 174, 175, 176, 177, 178, 179, 180, 181, 182, 183, 184, 185, 186, 187, 188, 189, 190, 191, 192, 193, 194, 195, 196, 197, 198, 199, 200, 201, 202, 203, 204, 205, 206, 207, 208, 209, 210, 211, 212, 213, 214, 215, 216, 217, 218, 219, 220, 221, 222, 223, 224, 225, 226, 227, 228, 229, 230, 231, 232, 233, 234, 235, 236, 237, 238, 239, 240, 241, 242, 243, 244, 245, 246, 247, 248, 249, 250, 251, 252, 253, 254, 255, 256, 257, 258, 259, 260, 261, 262, 263, 264, 265, 266, 267, 268, 269, 270, 271, 272, 273, 274, 275, 276, 277, 278, 279, 280, 281, 282, 283, 284, 285, 286, 287, 288, 289, 290, 291, 292, 293, 294, 295, 296, 297, 298, 299, 300, 301, 302, 303, 304, 305, 306, 307, 308, 309, 310, 311, 312, 313, 314, 315, 316, 317, 318, 319, 320, 321, 322, 323, 324, 325, 326, 327, 328, 329, 330, 331, 332, 333, 334, 335, 336, 337, 338, 339, 340, 341, 342, 343, 344, 345, 346, 347, 348, 349, 350, 351, 352, 353, 354, 355, 356, 357, 358, 359, 360, 361, 362, 363, 364, 365, 366, 367, 368, 369, 370, 371, 372, 373, 374, 375, 376, 377, 378, 379, 380, 381, 382, 383, 384, 385, 386, 387, 388, 389, 390, 391, 392, 393, 394, 395, 396, 397, 398, 399, 400, 401, 402, 403, 404, 405, 406, 407, 408, 409, 410, 411, 412, 413, 414, 415, 416, 417, 418, 419, 420, 421, 422, 423, 424, 425, 426, 427, 428, 429, 430, 431, 432, 433, 434, 435, 436, 437, 438, 439, 440, 441, 442, 443, 444, 445, 446, 447, 448, 449, 450, 451, 452, 453, 454, 455, 456, 457, 458, 459, 460, 461, 462, 463, 464, 465, 466, 467, 468, 469, 470, 471, 472, 473, 474, 475, 476, 477, 478, 479, 480, 481, 482, 483, 484, 485, 486, 487, 488, 489, 490, 491, 492, 493, 494, 495, 496, 497, 498, 499, 500, 501, 502, 503, 504, 505, 506, 507, 508, 509, 510, 511, 512, 513, 514, 515, 516, 517, 518, 519, 520, 521, 522, 523, 524, 525, 526, 527, 528, 529, 530, 531, 532, 533, 534, 535, 536, 537, 538, 539, 540, 541, 542, 543, 544, 545, 546, 547, 548, 549, 550, 551, 552, 553, 554, 555, 556, 557, 558, 559, 560, 561, 562, 563, 564, 565, 566, 567, 568, 569, 570, 571, 572, 573, 574, 575, 576, 577, 578, 579, 580, 581, 582, 583, 584, 585, 586, 587, 588, 589, 590, 591, 592, 593, 594, 595, 596, 597, 598, 599, 600, 601, 602, 603, 604, 605, 606, 607, 608, 609, 610, 611, 612, 613, 614, 615, 616, 617, 618, 619, 620, 621, 622, 623, 624, 625, 626, 627, 628, 629, 630, 631, 632, 633, 634, 635, 636, 637, 638, 639, 640, 641, 642, 643, 644, 645, 646, 647, 648, 649, 650, 651, 652, 653, 654, 655, 656, 657, 658, 659, 660, 661, 662, 663, 664, 665, 666, 667, 668, 669, 670, 671, 672, 673, 674, 675, 676, 677, 678, 679, 680, 681, 682, 683, 684, 685, 686, 687, 688, 689, 690, 691, 692, 693, 694, 695, 696, 697, 698, 699, 700, 701, 702, 703, 704, 705, 706, 707, 708, 709, 710, 711, 712, 713, 714, 715, 716, 717, 718, 719, 720, 721, 722, 723, 724, 725, 726, 727, 728, 729, 730, 731, 732, 733, 734, 735, 736, 737, 738, 739, 740, 741, 742, 743, 744, 745, 746, 747, 748, 749, 750, 751, 752, 753, 754, 755, 756, 757, 758, 759, 760, 761, 762, 763, 764, 765, 766, 767, 768, 769, 770, 771, 772, 773, 774, 775, 776, 777, 778, 779, 780, 781, 782, 783, 784, 785, 786, 787, 788, 789, 790, 791, 792, 793, 794, 795, 796, 797, 798, 799, 800, 801, 802, 803, 804, 805, 806, 807, 808, 809, 810, 811, 812, 813, 814, 815, 816, 817, 818, 819, 820, 821, 822, 823, 824, 825, 826, 827, 828, 829, 830, 831, 832, 833, 834, 835, 836, 837, 838, 839, 840, 841, 842, 843, 844, 845, 846, 847, 848, 849, 850, 851, 852, 853, 854, 855, 856, 857, 858, 859, 860, 861, 862, 863, 864, 865, 866, 867, 868, 869, 870, 871, 872, 873, 874, 875, 876, 877, 878, 879, 880, 881, 882, 883, 884, 885, 886, 887, 888, 889, 890, 891, 892, 893, 894, 895, 896, 897, 898, 899, 900, 901, 902, 903, 904, 905, 906, 907, 908, 909, 910, 911, 912, 913, 914, 915, 916, 917, 918, 919, 920, 921, 922, 923, 924, 925, 926, 927, 928, 929, 930, 931, 932, 933, 934, 935, 936, 937, 938, 939, 940, 941, 942, 943, 944, 945, 946, 947, 948, 949, 950, 951, 952, 953, 954, 955, 956, 957, 958, 959, 960, 961, 962, 963, 964, 965, 966, 967, 968, 969, 970, 971, 972, 973, 974, 975, 976, 977, 978, 979, 980, 981, 982, 983, 984, 985, 986, 987, 988, 989, 990, 991, 992, 993, 994, 995, 996, 997, 998, 999]\n"
          ]
        }
      ]
    },
    {
      "cell_type": "markdown",
      "source": [
        "----------\n",
        "Q3. How do you slice a list to get any other part while missing the rest?\n",
        "######For example, suppose you\n",
        "want to make a new list with the elements first, third, fifth, seventh, and so on."
      ],
      "metadata": {
        "id": "B0gAmVGUOmia"
      }
    },
    {
      "cell_type": "code",
      "source": [
        "lis=['first','second','third','fourth','fifth','seventh','eight','nine','ten']\n",
        "new_lis=lis[::2]\n",
        "print(new_lis)"
      ],
      "metadata": {
        "id": "vEbvjXY9Lfi6",
        "colab": {
          "base_uri": "https://localhost:8080/"
        },
        "outputId": "00254e3a-6891-4ea7-fd20-d0aed87d95f9"
      },
      "execution_count": 12,
      "outputs": [
        {
          "output_type": "stream",
          "name": "stdout",
          "text": [
            "['first', 'third', 'fifth', 'eight', 'ten']\n"
          ]
        }
      ]
    },
    {
      "cell_type": "markdown",
      "source": [
        "-----------\n",
        "Q4. Explain the distinctions between indexing and slicing.\n",
        "\n",
        "######Answer :- “Indexing” means referring to an element of an iterable by its position within the iterable. “Slicing” means getting a subset of elements from an iterable based on their indices."
      ],
      "metadata": {
        "id": "-Rc_RNMaQaLD"
      }
    },
    {
      "cell_type": "markdown",
      "source": [
        "-------------\n",
        "Q5. What happens if one of the slicing expression&#39;s indexes is out of range?"
      ],
      "metadata": {
        "id": "bZBQe_piRJXb"
      }
    },
    {
      "cell_type": "code",
      "source": [
        "lis = [1, 2, 3, 4, 5]\n",
        "sliced_list1 = lis[10:3]\n",
        "print(sliced_list1)\n",
        "sliced_list2 = lis[2:10]\n",
        "print(sliced_list2)\n",
        "sliced_list3 = lis[10:20]\n",
        "print(sliced_list3)"
      ],
      "metadata": {
        "colab": {
          "base_uri": "https://localhost:8080/"
        },
        "id": "kArD-LdLREq5",
        "outputId": "44b6a443-8da3-4c4e-b5ba-a058d838fa74"
      },
      "execution_count": 13,
      "outputs": [
        {
          "output_type": "stream",
          "name": "stdout",
          "text": [
            "[]\n",
            "[3, 4, 5]\n",
            "[]\n"
          ]
        }
      ]
    },
    {
      "cell_type": "markdown",
      "source": [
        "----------\n",
        "Q6. If you pass a list to a function, and if you want the function to be able to change the values of the list—so that the list is different after the function returns—what action should you avoid?\n",
        "\n",
        "######Answer :- If we pass a list to a function and we want the function to be able to change the values of the list so that the list is different after the function returns, we should avoid reassigning the list parameter to a new list within the function. In other words, avoid creating a new list object and assigning it to the parameter name."
      ],
      "metadata": {
        "id": "NGEDPCsRSNVy"
      }
    },
    {
      "cell_type": "code",
      "source": [
        "def modify_list_bad(lst):\n",
        "    lst = [1, 2, 3, 4, 5]  # Any modifications made to 'lst' here will not affect the original list passed to the function\n",
        "\n",
        "lis = [10, 20, 30, 40, 50]\n",
        "modify_list_bad(lis)\n",
        "\n",
        "print(lis)"
      ],
      "metadata": {
        "id": "2DEiPUXyMFov",
        "colab": {
          "base_uri": "https://localhost:8080/"
        },
        "outputId": "2b8e94a3-3aa8-41fe-8bf1-1d6551deee04"
      },
      "execution_count": 17,
      "outputs": [
        {
          "output_type": "stream",
          "name": "stdout",
          "text": [
            "[10, 20, 30, 40, 50]\n"
          ]
        }
      ]
    },
    {
      "cell_type": "markdown",
      "source": [
        "----------\n",
        "Q7. What is the concept of an unbalanced matrix?\n",
        "\n",
        "######Answer :- Whenever the cost matrix of an assignment problem is not a square matrix, that is, whenever the number of sources is not equal to the number of destinations, the assignment problem is called an unbalanced assignment problem."
      ],
      "metadata": {
        "id": "6VB56neKTCsL"
      }
    },
    {
      "cell_type": "code",
      "source": [
        "N = 4\n",
        "M = 4\n",
        "\n",
        "def balancedMatrix(mat):\n",
        "\n",
        "\t# Flag for check matrix is balanced\n",
        "\t# or unbalanced\n",
        "\tis_balanced = True\n",
        "\n",
        "\t# Iterate row until condition is true\n",
        "\ti = 0\n",
        "\twhile i < N and is_balanced:\n",
        "\n",
        "\t\t# Iterate cols until condition is true\n",
        "\t\tj = 0\n",
        "\t\twhile j < N and is_balanced:\n",
        "\n",
        "\t\t\t# Check for corner edge elements\n",
        "\t\t\tif ((i == 0 or i == N - 1) and\n",
        "\t\t\t\t(j == 0 or j == M - 1)):\n",
        "\t\t\t\tif mat[i][j] >= 2:\n",
        "\t\t\t\t\tisbalanced = False\n",
        "\n",
        "\t\t\t# Check for border elements\n",
        "\t\t\telif (i == 0 or i == N - 1 or\n",
        "\t\t\t\tj == 0 or j == M - 1):\n",
        "\t\t\t\tif mat[i][j] >= 3:\n",
        "\t\t\t\t\tis_balanced = False\n",
        "\n",
        "\t\t\t# Check for the middle ones\n",
        "\t\t\telse:\n",
        "\t\t\t\tif mat[i][j] >= 4:\n",
        "\t\t\t\t\tis_balanced = False\n",
        "\n",
        "\t\t\tj += 1\n",
        "\t\ti += 1\n",
        "\n",
        "\t# Return balanced or not\n",
        "\tif is_balanced:\n",
        "\t\treturn \"Balanced\"\n",
        "\telse:\n",
        "\t\treturn \"Unbalanced\"\n",
        "\n",
        "# Given matrix mat[][]\n",
        "mat = [ [ 1, 2, 3, 4 ],\n",
        "\t\t[ 3, 5, 2, 6 ],\n",
        "\t\t[ 5, 3, 6, 1 ],\n",
        "\t\t[ 9, 5, 6, 0 ] ]\n",
        "\n",
        "# Function call\n",
        "print(balancedMatrix(mat))"
      ],
      "metadata": {
        "colab": {
          "base_uri": "https://localhost:8080/"
        },
        "id": "CoQgKnT3SuYr",
        "outputId": "58a35da4-497f-46e3-f862-a825f48ad72b"
      },
      "execution_count": 18,
      "outputs": [
        {
          "output_type": "stream",
          "name": "stdout",
          "text": [
            "Unbalanced\n"
          ]
        }
      ]
    },
    {
      "cell_type": "markdown",
      "source": [
        "----------\n",
        "Q8. Why is it necessary to use either list comprehension or a loop to create arbitrarily large matrices?"
      ],
      "metadata": {
        "id": "o3qUOjvgUgVC"
      }
    },
    {
      "cell_type": "code",
      "source": [
        "rows = 4\n",
        "cols = 5\n",
        "matrix = []\n",
        "for row in range(rows):\n",
        "    row_elements = []\n",
        "    for col in range(cols):\n",
        "        row_elements.append(row * cols + col)\n",
        "    matrix.append(row_elements)\n",
        "\n",
        "print(matrix)"
      ],
      "metadata": {
        "colab": {
          "base_uri": "https://localhost:8080/"
        },
        "id": "5umLCkGmUPna",
        "outputId": "70968ece-a2be-457a-b56a-8ffdee7f3b1c"
      },
      "execution_count": 19,
      "outputs": [
        {
          "output_type": "stream",
          "name": "stdout",
          "text": [
            "[[0, 1, 2, 3, 4], [5, 6, 7, 8, 9], [10, 11, 12, 13, 14], [15, 16, 17, 18, 19]]\n"
          ]
        }
      ]
    },
    {
      "cell_type": "markdown",
      "source": [
        "----------\n",
        "----------"
      ],
      "metadata": {
        "id": "LKCOYhjEU4ur"
      }
    }
  ]
}