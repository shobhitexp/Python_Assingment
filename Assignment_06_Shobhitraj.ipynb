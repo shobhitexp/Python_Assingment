{
  "nbformat": 4,
  "nbformat_minor": 0,
  "metadata": {
    "colab": {
      "provenance": []
    },
    "kernelspec": {
      "name": "python3",
      "display_name": "Python 3"
    },
    "language_info": {
      "name": "python"
    }
  },
  "cells": [
    {
      "cell_type": "markdown",
      "source": [
        "1. What are escape characters, and how do you use them?\n"
      ],
      "metadata": {
        "id": "G0pzDBEL5HLq"
      }
    },
    {
      "cell_type": "code",
      "execution_count": 2,
      "metadata": {
        "colab": {
          "base_uri": "https://localhost:8080/"
        },
        "id": "sw5aRFAxzKfd",
        "outputId": "0710d284-7d05-444b-8716-d898de4f890a"
      },
      "outputs": [
        {
          "output_type": "stream",
          "name": "stdout",
          "text": [
            "My name is SHOBHIT RAJ\n"
          ]
        }
      ],
      "source": [
        "print(\"My \\\n",
        "name \\\n",
        "is \\\n",
        "SHOBHIT RAJ\")"
      ]
    },
    {
      "cell_type": "markdown",
      "source": [
        "2. What do the escape characters n and t stand for?"
      ],
      "metadata": {
        "id": "PeO0taHa5fSn"
      }
    },
    {
      "cell_type": "markdown",
      "source": [
        "Answer :- \"\\t\" is a tab, \"\\n\" is a newline"
      ],
      "metadata": {
        "id": "1hPm7-fK59Z-"
      }
    },
    {
      "cell_type": "markdown",
      "source": [
        "3. What is the way to include backslash characters in a string?"
      ],
      "metadata": {
        "id": "YVm9IJZE6AoA"
      }
    },
    {
      "cell_type": "code",
      "source": [
        "print(\"we are printing value \\ for use of backslash\")"
      ],
      "metadata": {
        "colab": {
          "base_uri": "https://localhost:8080/"
        },
        "id": "mN2X2Nt35Tnv",
        "outputId": "4454d313-d132-43c6-fc33-1f7daf0c1713"
      },
      "execution_count": 8,
      "outputs": [
        {
          "output_type": "stream",
          "name": "stdout",
          "text": [
            "we are printing value \\ for use of backslash\n"
          ]
        }
      ]
    },
    {
      "cell_type": "markdown",
      "source": [
        "4. The string \"Howl's Moving Castle\" is a correct value. Why isn't the single quote character in the\n",
        "word Howl's not escaped a problem?"
      ],
      "metadata": {
        "id": "MpilUSM67IMN"
      }
    },
    {
      "cell_type": "markdown",
      "source": [
        "Answer :- The single quote in Howl's is fine because you've used double quotes to mark the beginning and end of the string. like wise we can use double quotes in with single quotes both are different meaing in python but both use as String."
      ],
      "metadata": {
        "id": "uYmUj3ObBE7F"
      }
    },
    {
      "cell_type": "code",
      "source": [
        "print(\"Kris sir is a good teacher\")\n",
        "# like wise we can use double quote in side single quote\n",
        "print('Its a \"Nice\" Day to get taught by krish sir')"
      ],
      "metadata": {
        "colab": {
          "base_uri": "https://localhost:8080/"
        },
        "id": "ONX5319Z5kOn",
        "outputId": "cebead21-1dcd-49e9-9f95-ef8e6addc364"
      },
      "execution_count": 9,
      "outputs": [
        {
          "output_type": "stream",
          "name": "stdout",
          "text": [
            "Kris sir is a good teacher\n",
            "Its a \"Nice\" Day to get taught by krish sir\n"
          ]
        }
      ]
    },
    {
      "cell_type": "markdown",
      "source": [
        "5. How do you write a string of newlines if you don&#39;t want to use the n character?"
      ],
      "metadata": {
        "id": "j8ECcr0yBgjL"
      }
    },
    {
      "cell_type": "code",
      "source": [
        "print(\"printing something in new line without using 'n' \",end = '\\n')\n",
        "print(\"newline\")"
      ],
      "metadata": {
        "colab": {
          "base_uri": "https://localhost:8080/"
        },
        "id": "8Up4VKWAB8Yv",
        "outputId": "f1cc3f56-6320-44a6-fe9d-152e694dd2a5"
      },
      "execution_count": 11,
      "outputs": [
        {
          "output_type": "stream",
          "name": "stdout",
          "text": [
            "printing something in new line without using 'n' \n",
            "newline\n"
          ]
        }
      ]
    },
    {
      "cell_type": "markdown",
      "source": [
        "6. What are the values of the given expressions?\n",
        "###### 'Hello, world!'[1]\n",
        "######'Hello, world!'[0:5]\n",
        "######'Hello, world!'[:5]\n",
        "######'Hello, world!'[3:]"
      ],
      "metadata": {
        "id": "tEWoIyNCCX5n"
      }
    },
    {
      "cell_type": "code",
      "source": [
        "'Hello, world!'[1]\n",
        "'Hello, world!'[0:5]\n",
        "'Hello, world!'[:5]\n",
        "'Hello, world!'[3:]"
      ],
      "metadata": {
        "colab": {
          "base_uri": "https://localhost:8080/",
          "height": 35
        },
        "id": "5k13SZMDCQQr",
        "outputId": "6fb35d89-6fec-46dc-b285-13eba884a1b6"
      },
      "execution_count": 15,
      "outputs": [
        {
          "output_type": "execute_result",
          "data": {
            "text/plain": [
              "'lo, world!'"
            ],
            "application/vnd.google.colaboratory.intrinsic+json": {
              "type": "string"
            }
          },
          "metadata": {},
          "execution_count": 15
        }
      ]
    },
    {
      "cell_type": "markdown",
      "source": [
        "7. What are the values of the following expressions?\n",
        "#####'Hello'.upper()\n",
        "#####'Hello'.upper().isupper()\n",
        "#####'Hello'.upper().lower()"
      ],
      "metadata": {
        "id": "t7orltxnDVei"
      }
    },
    {
      "cell_type": "code",
      "source": [
        "print('Hello'.upper(),# Print 'Hello' -> 'HELLO'\n",
        "'Hello'.upper().isupper(),# checking 'Hello' is upper or not and give True,False value only\n",
        "'Hello'.upper().lower())# Print 'Hello' -> 'hello' in lower case"
      ],
      "metadata": {
        "colab": {
          "base_uri": "https://localhost:8080/"
        },
        "id": "50EJKDilC9-M",
        "outputId": "e7822ad7-03d9-4c9c-82e7-fc6a4eac79af"
      },
      "execution_count": 17,
      "outputs": [
        {
          "output_type": "stream",
          "name": "stdout",
          "text": [
            "HELLO True hello\n"
          ]
        }
      ]
    },
    {
      "cell_type": "markdown",
      "source": [
        "8. What are the values of the following expressions?\n",
        "'Remember, remember, the fifth of July.'.split()\n",
        "'-'.join('There can only one.'.split())"
      ],
      "metadata": {
        "id": "wYpv3fZJELx6"
      }
    },
    {
      "cell_type": "code",
      "source": [
        "print('Remember, remember, the fifth of July.'.split(),\"\\n\",\n",
        "'-'.join('There can only one.'.split()))"
      ],
      "metadata": {
        "colab": {
          "base_uri": "https://localhost:8080/"
        },
        "id": "P8cyzwFRDnkz",
        "outputId": "c60c2032-8fcf-40a7-b381-426f57bca340"
      },
      "execution_count": 26,
      "outputs": [
        {
          "output_type": "stream",
          "name": "stdout",
          "text": [
            "['Remember,', 'remember,', 'the', 'fifth', 'of', 'July.'] \n",
            " There-can-only-one.\n"
          ]
        }
      ]
    },
    {
      "cell_type": "markdown",
      "source": [
        "9. What are the methods for right-justifying, left-justifying, and centering a string?"
      ],
      "metadata": {
        "id": "LvYuYXtHFrYg"
      }
    },
    {
      "cell_type": "code",
      "source": [
        "# For left justified\n",
        "str =\"Shobhit\"\n",
        "str.ljust(10,\"-\") # ljust use for left shift"
      ],
      "metadata": {
        "colab": {
          "base_uri": "https://localhost:8080/",
          "height": 35
        },
        "id": "NLRVISQNEkNX",
        "outputId": "6dbcd188-2551-4f2a-ec92-45a96de1c06b"
      },
      "execution_count": 27,
      "outputs": [
        {
          "output_type": "execute_result",
          "data": {
            "text/plain": [
              "'Shobhit---'"
            ],
            "application/vnd.google.colaboratory.intrinsic+json": {
              "type": "string"
            }
          },
          "metadata": {},
          "execution_count": 27
        }
      ]
    },
    {
      "cell_type": "code",
      "source": [
        "# For left justified\n",
        "str =\"Shobhit\"\n",
        "str.rjust(10,\"-\") #rjust use for right shift"
      ],
      "metadata": {
        "colab": {
          "base_uri": "https://localhost:8080/",
          "height": 35
        },
        "id": "MBFe71lBF4Mi",
        "outputId": "0ea90ac7-2904-4754-dc20-ce2b0cbf68ad"
      },
      "execution_count": 28,
      "outputs": [
        {
          "output_type": "execute_result",
          "data": {
            "text/plain": [
              "'---Shobhit'"
            ],
            "application/vnd.google.colaboratory.intrinsic+json": {
              "type": "string"
            }
          },
          "metadata": {},
          "execution_count": 28
        }
      ]
    },
    {
      "cell_type": "markdown",
      "source": [
        "10. What is the best way to remove whitespace characters from the start or end?"
      ],
      "metadata": {
        "id": "Ov3ZFDpfGSbK"
      }
    },
    {
      "cell_type": "code",
      "source": [
        "str =\"  College is good place for study but  ineuron is best   \"\n",
        "str.lstrip() #Removed whight space from left side using lstrip"
      ],
      "metadata": {
        "colab": {
          "base_uri": "https://localhost:8080/",
          "height": 35
        },
        "id": "9jdzprS8F-Pt",
        "outputId": "8fe374cb-38d7-4c33-df9b-d4ebd6e11b94"
      },
      "execution_count": 34,
      "outputs": [
        {
          "output_type": "execute_result",
          "data": {
            "text/plain": [
              "'College is good place for study but  ineuron is best   '"
            ],
            "application/vnd.google.colaboratory.intrinsic+json": {
              "type": "string"
            }
          },
          "metadata": {},
          "execution_count": 34
        }
      ]
    },
    {
      "cell_type": "code",
      "source": [
        "str =\"  College is good place for study but  ineuron is best   \"\n",
        "str.rstrip() #Removed whight space from right side using rstrip"
      ],
      "metadata": {
        "colab": {
          "base_uri": "https://localhost:8080/",
          "height": 35
        },
        "id": "eMp7nGX_GqZn",
        "outputId": "b1ca728d-6886-48c6-b92b-81d96f242e4b"
      },
      "execution_count": 35,
      "outputs": [
        {
          "output_type": "execute_result",
          "data": {
            "text/plain": [
              "'  College is good place for study but  ineuron is best'"
            ],
            "application/vnd.google.colaboratory.intrinsic+json": {
              "type": "string"
            }
          },
          "metadata": {},
          "execution_count": 35
        }
      ]
    }
  ]
}