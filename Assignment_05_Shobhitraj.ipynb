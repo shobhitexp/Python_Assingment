{
  "nbformat": 4,
  "nbformat_minor": 0,
  "metadata": {
    "colab": {
      "provenance": []
    },
    "kernelspec": {
      "name": "python3",
      "display_name": "Python 3"
    },
    "language_info": {
      "name": "python"
    }
  },
  "cells": [
    {
      "cell_type": "markdown",
      "source": [
        "1. What does an empty dictionary&#39;s code look like?"
      ],
      "metadata": {
        "id": "9X_ejVlEkkPO"
      }
    },
    {
      "cell_type": "code",
      "execution_count": 33,
      "metadata": {
        "colab": {
          "base_uri": "https://localhost:8080/"
        },
        "id": "MSbt9rvgkfbL",
        "outputId": "368bfb57-72fd-47c7-92ac-6a6e9c815ece"
      },
      "outputs": [
        {
          "output_type": "execute_result",
          "data": {
            "text/plain": [
              "dict"
            ]
          },
          "metadata": {},
          "execution_count": 33
        }
      ],
      "source": [
        "dic={}\n",
        "type(dic)"
      ]
    },
    {
      "cell_type": "markdown",
      "source": [
        "2. What is the value of a dictionary value with the key &#39;foo&#39; and the value 42?"
      ],
      "metadata": {
        "id": "jqrKnWMTmeyn"
      }
    },
    {
      "cell_type": "code",
      "source": [
        "d1={'fool':42}\n",
        "print(d1['fool'])"
      ],
      "metadata": {
        "colab": {
          "base_uri": "https://localhost:8080/"
        },
        "id": "QQgz_ndkmVOB",
        "outputId": "15a7809f-24b6-41ec-9b8d-844d0d4bf196"
      },
      "execution_count": 16,
      "outputs": [
        {
          "output_type": "stream",
          "name": "stdout",
          "text": [
            "42\n"
          ]
        }
      ]
    },
    {
      "cell_type": "markdown",
      "source": [
        "3. What is the most significant distinction between a dictionary and a list?\n",
        "######Answer:- The major difference between list and dictionary is list called by index values where dictionary called by key value pairs and list is using sequencially. A list refers to a collection of various index value pairs like that in the case of an array in C++. A dictionary refers to a hashed structure of various pairs of keys and values.\n"
      ],
      "metadata": {
        "id": "lJdc87BUokNs"
      }
    },
    {
      "cell_type": "markdown",
      "source": [
        "4. What happens if you try to access spam[&#39;foo&#39;] if spam is {&#39;bar&#39;: 100}?"
      ],
      "metadata": {
        "id": "FJ-GoLb0rcS0"
      }
    },
    {
      "cell_type": "markdown",
      "source": [
        "##### Answer:- We recive an a key error because their is no any key name as fool in dict spam"
      ],
      "metadata": {
        "id": "vW-EFviar4Ku"
      }
    },
    {
      "cell_type": "code",
      "source": [
        "spam = {'bar': 100}\n",
        "spam['fool']"
      ],
      "metadata": {
        "colab": {
          "base_uri": "https://localhost:8080/",
          "height": 187
        },
        "id": "9CoVlawgnb-O",
        "outputId": "83d39106-d564-4837-d340-226842e1657f"
      },
      "execution_count": 17,
      "outputs": [
        {
          "output_type": "error",
          "ename": "KeyError",
          "evalue": "ignored",
          "traceback": [
            "\u001b[0;31m---------------------------------------------------------------------------\u001b[0m",
            "\u001b[0;31mKeyError\u001b[0m                                  Traceback (most recent call last)",
            "\u001b[0;32m<ipython-input-17-e781cabb7773>\u001b[0m in \u001b[0;36m<cell line: 2>\u001b[0;34m()\u001b[0m\n\u001b[1;32m      1\u001b[0m \u001b[0mspam\u001b[0m \u001b[0;34m=\u001b[0m \u001b[0;34m{\u001b[0m\u001b[0;34m'bar'\u001b[0m\u001b[0;34m:\u001b[0m \u001b[0;36m100\u001b[0m\u001b[0;34m}\u001b[0m\u001b[0;34m\u001b[0m\u001b[0;34m\u001b[0m\u001b[0m\n\u001b[0;32m----> 2\u001b[0;31m \u001b[0mspam\u001b[0m\u001b[0;34m[\u001b[0m\u001b[0;34m'fool'\u001b[0m\u001b[0;34m]\u001b[0m\u001b[0;34m\u001b[0m\u001b[0;34m\u001b[0m\u001b[0m\n\u001b[0m",
            "\u001b[0;31mKeyError\u001b[0m: 'fool'"
          ]
        }
      ]
    },
    {
      "cell_type": "markdown",
      "source": [
        "5. If a dictionary is stored in spam, what is the difference between the expressions &#39;cat&#39; in spam and\n",
        "&#39;cat&#39; in spam.keys()?"
      ],
      "metadata": {
        "id": "CVKxQmlfsVOn"
      }
    },
    {
      "cell_type": "markdown",
      "source": [
        "##### Answer:- There is no difference. The in operator checks whether a value exists as a key in the dictionary. 'cat' in spam checks whether there is a 'cat' key in the dictionary, while 'cat' in spam. values() checks whether there is a value 'cat' for one of the keys in spam ."
      ],
      "metadata": {
        "id": "phmUBGaPsvUL"
      }
    },
    {
      "cell_type": "code",
      "source": [
        "spam = {'cat': 'Sudhansu', 'key2': 'sir', 'key3': 'is great'}\n",
        "print('cat' in spam)          # Check if 'cat' is a key in the dictionary\n",
        "print('cat' in spam.keys())   # Check if 'cat' is a key in the dictionary using keys()"
      ],
      "metadata": {
        "colab": {
          "base_uri": "https://localhost:8080/"
        },
        "id": "O8yIXjMxrrch",
        "outputId": "724030a0-54df-48d1-fb2b-da4dc86e5636"
      },
      "execution_count": 22,
      "outputs": [
        {
          "output_type": "stream",
          "name": "stdout",
          "text": [
            "True\n",
            "True\n"
          ]
        }
      ]
    },
    {
      "cell_type": "markdown",
      "source": [
        "6. If a dictionary is stored in spam, what is the difference between the expressions &#39;cat&#39; in spam and\n",
        "&#39;cat&#39; in spam.values()?"
      ],
      "metadata": {
        "id": "ZP43Dc8QwFQG"
      }
    },
    {
      "cell_type": "code",
      "source": [
        "spam ={'cat':100}\n",
        "'cat' in spam"
      ],
      "metadata": {
        "colab": {
          "base_uri": "https://localhost:8080/"
        },
        "id": "vicWbuviuDLb",
        "outputId": "6b21d550-39b9-46cf-de68-8eecaccf7e3b"
      },
      "execution_count": 23,
      "outputs": [
        {
          "output_type": "execute_result",
          "data": {
            "text/plain": [
              "True"
            ]
          },
          "metadata": {},
          "execution_count": 23
        }
      ]
    },
    {
      "cell_type": "code",
      "source": [
        "spam ={'cat':100}\n",
        "'cat' in spam.values()\n",
        "\n",
        "#'cat' in spam checks whether there is a 'cat' key in the dictionary\n",
        "#'cat' in spam.values() checks whether there is a value 'cat' for one of the keys in spam."
      ],
      "metadata": {
        "colab": {
          "base_uri": "https://localhost:8080/"
        },
        "id": "6hXHYQSawpg1",
        "outputId": "552a56d0-9d78-45fd-c781-f59381affae4"
      },
      "execution_count": 24,
      "outputs": [
        {
          "output_type": "execute_result",
          "data": {
            "text/plain": [
              "False"
            ]
          },
          "metadata": {},
          "execution_count": 24
        }
      ]
    },
    {
      "cell_type": "markdown",
      "source": [
        "7. What is a shortcut for the following code?\n",
        "######if 'color' not in spam:\n",
        "spam['color'] = 'black'\n",
        "\n"
      ],
      "metadata": {
        "id": "KSZ_zJZ8wuEM"
      }
    },
    {
      "cell_type": "code",
      "source": [
        "spam ={'cat':100,'sayam':'Bujness analyst'}\n",
        "spam.setdefault('color','black')\n",
        "spam"
      ],
      "metadata": {
        "colab": {
          "base_uri": "https://localhost:8080/"
        },
        "id": "F_ZgfS2nwql-",
        "outputId": "86f25801-7551-4bcc-fd25-b892ed7b1a22"
      },
      "execution_count": 26,
      "outputs": [
        {
          "output_type": "execute_result",
          "data": {
            "text/plain": [
              "{'cat': 100, 'sayam': 'Bujness analyst', 'color': 'black'}"
            ]
          },
          "metadata": {},
          "execution_count": 26
        }
      ]
    },
    {
      "cell_type": "markdown",
      "source": [
        "8. How do you &quot;pretty print&quot; dictionary values using which module and function?"
      ],
      "metadata": {
        "id": "nH7k4opxxnzH"
      }
    },
    {
      "cell_type": "code",
      "source": [
        "import pprint\n",
        "dct = [ {'Name': 'Shobhit', 'Age': '22', 'Country': 'India'},\n",
        "  {'Name': 'sushant', 'Age': '23', 'Country': 'india'},\n",
        "  {'Name': 'Joe', 'Age': '22', 'Country': 'USA'},\n",
        "  {'Name': 'Chintu', 'Age': '35', 'Country': 'India'},\n",
        "  {'Name': 'Ravi', 'Age': '40', 'Country': 'India'}\n",
        "]\n",
        "pprint.pprint(dct)"
      ],
      "metadata": {
        "colab": {
          "base_uri": "https://localhost:8080/"
        },
        "id": "Mdk9t5l5xQq7",
        "outputId": "eaa4efb8-4420-4fb9-999e-68d108ac09c3"
      },
      "execution_count": 31,
      "outputs": [
        {
          "output_type": "stream",
          "name": "stdout",
          "text": [
            "[{'Age': '22', 'Country': 'India', 'Name': 'Shobhit'},\n",
            " {'Age': '23', 'Country': 'india', 'Name': 'sushant'},\n",
            " {'Age': '22', 'Country': 'USA', 'Name': 'Joe'},\n",
            " {'Age': '35', 'Country': 'India', 'Name': 'Chintu'},\n",
            " {'Age': '40', 'Country': 'India', 'Name': 'Ravi'}]\n"
          ]
        }
      ]
    }
  ]
}