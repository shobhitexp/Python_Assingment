{
  "nbformat": 4,
  "nbformat_minor": 0,
  "metadata": {
    "colab": {
      "provenance": [],
      "authorship_tag": "ABX9TyPWJbBA+7KdMxfQLzbVCzcd",
      "include_colab_link": true
    },
    "kernelspec": {
      "name": "python3",
      "display_name": "Python 3"
    },
    "language_info": {
      "name": "python"
    }
  },
  "cells": [
    {
      "cell_type": "markdown",
      "metadata": {
        "id": "view-in-github",
        "colab_type": "text"
      },
      "source": [
        "<a href=\"https://colab.research.google.com/github/shobhitexp/Python_Assingments/blob/Advance_python_assignments/Advance_python_11.ipynb\" target=\"_parent\"><img src=\"https://colab.research.google.com/assets/colab-badge.svg\" alt=\"Open In Colab\"/></a>"
      ]
    },
    {
      "cell_type": "markdown",
      "source": [
        "##Assignment 11 Adv_python"
      ],
      "metadata": {
        "id": "mllLYcgRpF93"
      }
    },
    {
      "cell_type": "markdown",
      "source": [
        "Q1. What is the concept of a metaclass?\n",
        "\n",
        "\n",
        "Answer :- A metaclass in Python is a class of a class that defines how a class behaves. A class is itself an instance of a metaclass. A class in Python defines how the instance of the class will behave. In order to understand metaclasses well, one needs to have prior experience working with Python classes. Before we dive deeper into metaclasses, let's get a few concepts out of the way."
      ],
      "metadata": {
        "id": "OzWGgLc9o9M-"
      }
    },
    {
      "cell_type": "code",
      "execution_count": 3,
      "metadata": {
        "colab": {
          "base_uri": "https://localhost:8080/"
        },
        "id": "wBdcgPmbo8Os",
        "outputId": "679a7255-e114-4880-a7f2-a4329aa13df3"
      },
      "outputs": [
        {
          "output_type": "stream",
          "name": "stdout",
          "text": [
            "<class 'type'>\n",
            "<class '__main__.MyMeta'>\n",
            "<class '__main__.MyMeta'>\n"
          ]
        }
      ],
      "source": [
        "class MyMeta(type):\n",
        "    pass\n",
        "\n",
        "class MyClass(metaclass=MyMeta):\n",
        "    pass\n",
        "\n",
        "class MySubclass(MyClass):\n",
        "    pass\n",
        "\n",
        "print(type(MyMeta))\n",
        "print(type(MyClass))\n",
        "print(type(MySubclass))"
      ]
    },
    {
      "cell_type": "markdown",
      "source": [
        "----------\n",
        "Q2. What is the best way to declare a class&#39;s metaclass?\n",
        "\n",
        "\n",
        "Answer :- There are several ways to do this, but one way is to set __ metaclass__ at the module level. This way, all classes of this module will be created using this metaclass, and we just have to tell the metaclass to turn all attributes to uppercase."
      ],
      "metadata": {
        "id": "EN--KZvaqM6v"
      }
    },
    {
      "cell_type": "code",
      "source": [
        "class CustomMetaclass(type):\n",
        "    def __new__(cls, name, bases, attrs):\n",
        "        # Custom metaclass logic here\n",
        "        return super().__new__(cls, name, bases, attrs)\n",
        "\n",
        "class MyClass(metaclass=CustomMetaclass):\n",
        "    pass"
      ],
      "metadata": {
        "id": "H5QPOjJxqCjA"
      },
      "execution_count": null,
      "outputs": []
    },
    {
      "cell_type": "markdown",
      "source": [
        "---------\n",
        "Q3. How do class decorators overlap with metaclasses for handling classes?\n",
        "\n",
        "Answer :- Metaprogramming seems like a very funky and alien thing but if we have ever worked with decorators or metaclasses, you were doing metaprogramming there all along. In a nutshell, we can say metaprogramming is the code that manipulates code.\n",
        "In this article, we are going to discuss Metaclasses, why and when we should use them, and what are the alternatives."
      ],
      "metadata": {
        "id": "p_4RukYisLyS"
      }
    },
    {
      "cell_type": "markdown",
      "source": [
        "----------\n",
        "Q4. How do class decorators overlap with metaclasses for handling instances?\n",
        "\n",
        "Answer :-\n",
        "\n",
        "Metaclasses:\n",
        "\n",
        "Metaclasses are classes themselves that define how classes are created. When you create a new class, the metaclass defines the rules for its creation, attributes, and methods.\n",
        "Metaclasses are used at the time of class creation and are applied globally to all instances of the class. They provide a way to customize class creation and behavior for all instances of a particular class.\n",
        "\n",
        "Class Decorators:\n",
        "\n",
        "Class decorators are functions that are applied to a class after it's defined but before it's fully created. They provide a way to modify or extend a class's behavior on a per-class basis.\n",
        "Class decorators are more focused on extending the behavior of individual classes without affecting the entire hierarchy.\n",
        "\n",
        "Overlap and Differences:\n",
        "\n",
        "Both metaclasses and class decorators can be used to modify class behavior, but metaclasses have a broader scope as they can affect the entire class hierarchy and the way classes are created.\n",
        "Metaclasses operate at a lower level than class decorators; they are involved in the class creation process itself. Class decorators operate after the class is created but before it's used.\n",
        "\n",
        "In summary, while class decorators and metaclasses both have the capability to modify class behavior, they are applied at different points in the class creation process and have different scopes of impact. The choice between using a metaclass or a class decorator depends on your specific use case and the level of customization you need for your classes."
      ],
      "metadata": {
        "id": "eDGGr0XvstdK"
      }
    },
    {
      "cell_type": "markdown",
      "source": [
        "------------\n",
        "------------"
      ],
      "metadata": {
        "id": "Md5JHRJ7vijL"
      }
    }
  ]
}