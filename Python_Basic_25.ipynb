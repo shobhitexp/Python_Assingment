{
  "nbformat": 4,
  "nbformat_minor": 0,
  "metadata": {
    "colab": {
      "provenance": [],
      "include_colab_link": true
    },
    "kernelspec": {
      "name": "python3",
      "display_name": "Python 3"
    },
    "language_info": {
      "name": "python"
    }
  },
  "cells": [
    {
      "cell_type": "markdown",
      "metadata": {
        "id": "view-in-github",
        "colab_type": "text"
      },
      "source": [
        "<a href=\"https://colab.research.google.com/github/shobhitexp/Python_Assingments/blob/python_basic/Python_Basic_25.ipynb\" target=\"_parent\"><img src=\"https://colab.research.google.com/assets/colab-badge.svg\" alt=\"Open In Colab\"/></a>"
      ]
    },
    {
      "cell_type": "markdown",
      "metadata": {
        "id": "hEGXy9EvvIU7"
      },
      "source": [
        "> Q. . What is the difference between enclosing a list comprehension in square brackets and parentheses?\n"
      ]
    },
    {
      "cell_type": "code",
      "metadata": {
        "colab": {
          "base_uri": "https://localhost:8080/"
        },
        "id": "fArdZAMMunO0",
        "outputId": "eeccedc1-38bc-4284-de7c-35a2fc71d1d2"
      },
      "source": [
        "lst = [i for i in range(10)]\n",
        "lst"
      ],
      "execution_count": null,
      "outputs": [
        {
          "output_type": "execute_result",
          "data": {
            "text/plain": [
              "[0, 1, 2, 3, 4, 5, 6, 7, 8, 9]"
            ]
          },
          "metadata": {
            "tags": []
          },
          "execution_count": 1
        }
      ]
    },
    {
      "cell_type": "code",
      "metadata": {
        "colab": {
          "base_uri": "https://localhost:8080/"
        },
        "id": "h5bUQk9Cvclp",
        "outputId": "2c2cacea-7d4c-41f5-c232-5e17723aa2a6"
      },
      "source": [
        "lstParanthesis = (i for i in range(10))\n",
        "lstParanthesis"
      ],
      "execution_count": null,
      "outputs": [
        {
          "output_type": "execute_result",
          "data": {
            "text/plain": [
              "<generator object <genexpr> at 0x7f9009aa8cd0>"
            ]
          },
          "metadata": {
            "tags": []
          },
          "execution_count": 2
        }
      ]
    },
    {
      "cell_type": "code",
      "metadata": {
        "colab": {
          "base_uri": "https://localhost:8080/"
        },
        "id": "EHYb5PIXvm8q",
        "outputId": "e5065666-5d2a-4d8f-fd24-69906c7b525e"
      },
      "source": [
        "list(lstParanthesis)"
      ],
      "execution_count": null,
      "outputs": [
        {
          "output_type": "execute_result",
          "data": {
            "text/plain": [
              "[0, 1, 2, 3, 4, 5, 6, 7, 8, 9]"
            ]
          },
          "metadata": {
            "tags": []
          },
          "execution_count": 3
        }
      ]
    },
    {
      "cell_type": "markdown",
      "metadata": {
        "id": "QFXxI9eivvkZ"
      },
      "source": [
        "-----------\n",
        "> Q. What is the relationship between generators and iterators?"
      ]
    },
    {
      "cell_type": "markdown",
      "metadata": {
        "id": "Hp_1lkf0v0eb"
      },
      "source": [
        "* Ans. An iterator is an object which contains a countable number of values and it is used to iterate over iterable objects like list, tuples etc\n",
        "Using an iterator-\n",
        "iter() keyword is used to create an iterator containing an iterable object.\n",
        "next() keyword is used to call the next element in the iterable object.\n",
        "\n",
        "* Generator\n",
        "It is another way of creating iterators in a simple way where it uses the keyword “yield” instead of returning it in a defined function\n",
        "Generators are implemented using a function\n",
        "Here, the yield function returns the data without affecting or exiting the function.\n",
        "It will return a sequence of data in an iterable format where we need to iterate over the sequence to use the data as they won’t store the entire sequence in the memory\n",
        "By using next() function we can iterate the output of generator function\n"
      ]
    },
    {
      "cell_type": "code",
      "metadata": {
        "colab": {
          "base_uri": "https://localhost:8080/"
        },
        "id": "1uQyvocMvsuL",
        "outputId": "5d97aee7-4977-4d80-9c7f-7e3f00110a55"
      },
      "source": [
        "# iterator\n",
        "iter_list = iter(['Dog', 'CAt', 'Bear'])\n",
        "print(next(iter_list))\n",
        "print(next(iter_list))\n",
        "print(next(iter_list))"
      ],
      "execution_count": null,
      "outputs": [
        {
          "output_type": "stream",
          "text": [
            "Dog\n",
            "CAt\n",
            "Bear\n"
          ],
          "name": "stdout"
        }
      ]
    },
    {
      "cell_type": "code",
      "metadata": {
        "id": "h4n8DA4XwJT9"
      },
      "source": [
        "# GEnerator\n",
        "\n",
        "def sq(n):\n",
        "    for i in range(1, n+1):\n",
        "        yield i*i"
      ],
      "execution_count": null,
      "outputs": []
    },
    {
      "cell_type": "code",
      "metadata": {
        "colab": {
          "base_uri": "https://localhost:8080/"
        },
        "id": "AA7sHX0TwL3X",
        "outputId": "c851201c-3f30-4eae-9f71-b02bce01ce7e"
      },
      "source": [
        "sq(6)\n"
      ],
      "execution_count": null,
      "outputs": [
        {
          "output_type": "execute_result",
          "data": {
            "text/plain": [
              "<generator object sq at 0x7f9005787dd0>"
            ]
          },
          "metadata": {
            "tags": []
          },
          "execution_count": 9
        }
      ]
    },
    {
      "cell_type": "code",
      "metadata": {
        "colab": {
          "base_uri": "https://localhost:8080/"
        },
        "id": "T7S5E61FwP4b",
        "outputId": "b9319746-084f-4794-8051-a05444b14034"
      },
      "source": [
        "lst = sq(6)\n",
        "lst"
      ],
      "execution_count": null,
      "outputs": [
        {
          "output_type": "execute_result",
          "data": {
            "text/plain": [
              "<generator object sq at 0x7f9009aa8ed0>"
            ]
          },
          "metadata": {
            "tags": []
          },
          "execution_count": 11
        }
      ]
    },
    {
      "cell_type": "code",
      "metadata": {
        "colab": {
          "base_uri": "https://localhost:8080/"
        },
        "id": "59P_emKmwcsj",
        "outputId": "9744534b-0de9-4276-dd62-1272e7f11ccd"
      },
      "source": [
        "print(next(lst))\n",
        "print(next(lst))\n",
        "print(next(lst))\n",
        "print(next(lst))"
      ],
      "execution_count": null,
      "outputs": [
        {
          "output_type": "stream",
          "text": [
            "1\n",
            "4\n",
            "9\n",
            "16\n"
          ],
          "name": "stdout"
        }
      ]
    },
    {
      "cell_type": "markdown",
      "metadata": {
        "id": "JC-dkwWbwjBd"
      },
      "source": [
        "------------\n",
        "> Q. What are the signs that a function is a generator function?"
      ]
    },
    {
      "cell_type": "markdown",
      "metadata": {
        "id": "m4Iv88qRwmA3"
      },
      "source": [
        "* Ans. If a function contains at least one yield statement (it may contain other yield or return statements), it becomes a generator function. Both yield and return will return some value from a function."
      ]
    },
    {
      "cell_type": "markdown",
      "metadata": {
        "id": "qHoznQkcwuY0"
      },
      "source": [
        "---------\n",
        "> Q. What is the purpose of a yield statement?"
      ]
    },
    {
      "cell_type": "markdown",
      "metadata": {
        "id": "95A1Gf9Xwy_G"
      },
      "source": [
        "*  Ans. A yield statement looks much like a return statement, except that instead of stopping execution of the function and\n",
        "returning, yield instead provides a value to the code looping over the generator and pauses execution of the generator\n",
        "function"
      ]
    },
    {
      "cell_type": "markdown",
      "metadata": {
        "id": "UF-zPgTJw4gI"
      },
      "source": [
        "------------\n",
        "> Q. What is the relationship between map calls and list comprehensions? Make a comparison and contrast between the two."
      ]
    },
    {
      "cell_type": "markdown",
      "metadata": {
        "id": "VYLhKxxCw58P"
      },
      "source": [
        "Ans.\n",
        "* Map function:\n",
        "Suppose we have a function and we want to compute this function for different values in a single line of code . This is where map() function plays its role. map() function returns a map object(which is an iterator) of the results after applying the given function to each item of a given iterable (list, tuple etc.)\n",
        "\n",
        "* If we already have a function defined, it is often good to use map For example, map(sum, myLists) is more neat than [sum(x) for x in myLists]. You gain the elegance of not having to make up a dummy variable (e.g. sum(x) for x... or sum(_) for _... or sum(readableName) for readableName...) which you have to type twice, just to iterate.\n",
        "\n",
        "* List Comprehension:\n",
        "List Comprehension is a substitute for the lambda function, map(), filter() and reduce()\n",
        "\n",
        "\n",
        "* Comparision :\n",
        "    1. List comprehension is more concise and easier to read as compared to map\n",
        "    2. List comprehension allows filtering. In map, we have no such facility\n",
        "    For example, to print all even numbers in range of 100, we can write [n for n in range(100) if n%2 == 0]. There is\n",
        "    no alternate for it in map\n",
        "    3. List comprehension are used when a list of results is required, where as map only returns a map object and does\n",
        "    not return any list.\n",
        "    4. List comprehension is faster than map when we need to evaluate expressions that are too long or complicated\n",
        "    to express\n",
        "    5. Map is faster in case of calling an already defined function (as no lambda is required)\n",
        "\n"
      ]
    },
    {
      "cell_type": "markdown",
      "source": [
        "-----------\n",
        "-----------"
      ],
      "metadata": {
        "id": "G8S2mX9dt1rv"
      }
    }
  ]
}