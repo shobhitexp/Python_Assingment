{
  "nbformat": 4,
  "nbformat_minor": 0,
  "metadata": {
    "colab": {
      "provenance": []
    },
    "kernelspec": {
      "name": "python3",
      "display_name": "Python 3"
    },
    "language_info": {
      "name": "python"
    }
  },
  "cells": [
    {
      "cell_type": "markdown",
      "source": [
        "Question1\n",
        "Write a function that takes a list and a number as arguments. Add the number to the end of\n",
        "the list, then remove the first element of the list. The function should then return the updated\n",
        "list.\n",
        "######Examples\n",
        "######next_in_line([5, 6, 7, 8, 9], 1) ➞ [6, 7, 8, 9, 1]\n",
        "######next_in_line([7, 6, 3, 23, 17], 10) ➞ [6, 3, 23, 17, 10]\n",
        "######next_in_line([1, 10, 20, 42 ], 6) ➞ [10, 20, 42, 6]\n",
        "######next_in_line([], 6) ➞ &quot;No list has been selected&quot;"
      ],
      "metadata": {
        "id": "EASkOzvw221O"
      }
    },
    {
      "cell_type": "code",
      "execution_count": 4,
      "metadata": {
        "colab": {
          "base_uri": "https://localhost:8080/"
        },
        "id": "kC3vCqBh22OL",
        "outputId": "4db40d7f-45f3-460f-9342-67424463fc1c"
      },
      "outputs": [
        {
          "name": "stdout",
          "output_type": "stream",
          "text": [
            "\n",
            "Enter the numbers :- 5, 6, 7, 8, 9\n",
            "Enter your number for adding in last :- 6\n"
          ]
        },
        {
          "output_type": "execute_result",
          "data": {
            "text/plain": [
              "[6, 7, 8, 9, 6]"
            ]
          },
          "metadata": {},
          "execution_count": 4
        }
      ],
      "source": [
        "def rem(num):\n",
        "  ls.pop(0)\n",
        "  ls.append(num)\n",
        "  return ls\n",
        "ls=list(map(int,input(\"\\nEnter the numbers :- \").strip().split(',')))\n",
        "num=int(input(\"Enter your number for adding in last :- \"))\n",
        "rem(num)"
      ]
    },
    {
      "cell_type": "markdown",
      "source": [
        "---------------\n",
        "Question2\n",
        "Create the function that takes a list of dictionaries and returns the sum of people&#39;s budgets.\n",
        "Examples\n",
        "######get_budgets([\n",
        "######{ &quot;name&quot;: &quot;John&quot;, &quot;age&quot;: 21, &quot;budget&quot;: 23000 },\n",
        "######{ &quot;name&quot;: &quot;Steve&quot;, &quot;age&quot;: 32, &quot;budget&quot;: 40000 },\n",
        "######{ &quot;name&quot;: &quot;Martin&quot;, &quot;age&quot;: 16, &quot;budget&quot;: 2700 }\n",
        "]) ➞ 65700\n",
        "get_budgets([\n",
        "######{ &quot;name&quot;: &quot;John&quot;, &quot;age&quot;: 21, &quot;budget&quot;: 29000 },\n",
        "######{ &quot;name&quot;: &quot;Steve&quot;, &quot;age&quot;: 32, &quot;budget&quot;: 32000 },\n",
        "######{ &quot;name&quot;: &quot;Martin&quot;, &quot;age&quot;: 16, &quot;budget&quot;: 1600 }\n",
        "]) ➞ 62600"
      ],
      "metadata": {
        "id": "3B9ZHJei49hb"
      }
    },
    {
      "cell_type": "code",
      "source": [
        "def get_budgets(people_list):\n",
        "    total_budget = sum(person['budget'] for person in people_list)\n",
        "    return total_budget\n",
        "\n",
        "people_data = [\n",
        "    { \"name\": \"John\", \"age\": 21, \"budget\": 23000 },\n",
        "    { \"name\": \"Steve\", \"age\": 32, \"budget\": 40000 },\n",
        "    { \"name\": \"Martin\", \"age\": 16, \"budget\": 2700 }\n",
        "]\n",
        "total_budget = get_budgets(people_data)\n",
        "print(total_budget)"
      ],
      "metadata": {
        "colab": {
          "base_uri": "https://localhost:8080/"
        },
        "id": "x-CasTa-4QqV",
        "outputId": "103fb859-20e6-4027-cc70-7a261174d0eb"
      },
      "execution_count": 5,
      "outputs": [
        {
          "output_type": "stream",
          "name": "stdout",
          "text": [
            "65700\n"
          ]
        }
      ]
    },
    {
      "cell_type": "markdown",
      "source": [
        "------------\n",
        "Question3\n",
        "Create a function that takes a string and returns a string with its letters in alphabetical order.\n",
        "######Examples\n",
        "######alphabet_soup(&quot;hello&quot;) ➞ &quot;ehllo&quot;\n",
        "######alphabet_soup(&quot;edabit&quot;) ➞ &quot;abdeit&quot;\n",
        "######alphabet_soup(&quot;hacker&quot;) ➞ &quot;acehkr&quot;\n",
        "######alphabet_soup(&quot;geek&quot;) ➞ &quot;eegk&quot;\n",
        "######alphabet_soup(&quot;javascript&quot;) ➞ &quot;aacijprstv&quot;"
      ],
      "metadata": {
        "id": "5Ugtmwwx8qy3"
      }
    },
    {
      "cell_type": "code",
      "source": [
        "def alp_soup(st):\n",
        "  sort = ''.join(sorted(st))\n",
        "  return sort\n",
        "st=input(\"Enter your value :- \")\n",
        "alp_soup(st)"
      ],
      "metadata": {
        "colab": {
          "base_uri": "https://localhost:8080/",
          "height": 52
        },
        "id": "jQqTu0gM8nwU",
        "outputId": "4196fa05-13f1-42bb-d2c8-e6b8857243de"
      },
      "execution_count": 19,
      "outputs": [
        {
          "name": "stdout",
          "output_type": "stream",
          "text": [
            "Enter your value :- hello\n"
          ]
        },
        {
          "output_type": "execute_result",
          "data": {
            "text/plain": [
              "'ehllo'"
            ],
            "application/vnd.google.colaboratory.intrinsic+json": {
              "type": "string"
            }
          },
          "metadata": {},
          "execution_count": 19
        }
      ]
    },
    {
      "cell_type": "markdown",
      "source": [
        "-------\n",
        "Question4\n",
        "Suppose that you invest $10,000 for 10 years at an interest rate of 6% compounded monthly.\n",
        "What will be the value of your investment at the end of the 10 year period?\n",
        "Create a function that accepts the principal p, the term in years t, the interest rate r, and the\n",
        "number of compounding periods per year n. The function returns the value at the end of term\n",
        "rounded to the nearest cent.\n",
        "For the example above:\n",
        "compound_interest(10000, 10, 0.06, 12) ➞ 18193.97\n",
        "Note that the interest rate is given as a decimal and n=12 because with monthly compounding\n",
        "there are 12 periods per year. Compounding can also be done annually, quarterly, weekly, or\n",
        "daily.\n",
        "Examples\n",
        "######compound_interest(100, 1, 0.05, 1) ➞ 105.0\n",
        "######compound_interest(3500, 15, 0.1, 4) ➞ 15399.26\n",
        "######compound_interest(100000, 20, 0.15, 365) ➞ 2007316.26"
      ],
      "metadata": {
        "id": "q72YcrlPDSHf"
      }
    },
    {
      "cell_type": "code",
      "source": [
        "def comp_intrest(p, t, r, n):\n",
        "  total_periods = n * t\n",
        "  A = p * (1 + r/n)**total_periods\n",
        "  rounded_value = round(A, 2)\n",
        "  return rounded_value\n",
        "p=float(input(\"Enter your principal value :- \"))\n",
        "t=float(input(\"Enter your time value :- \"))\n",
        "r=float(input(\"Enter your rate of intrest value :- \"))\n",
        "n=float(input(\"Enter your compound value :- \"))\n",
        "comp_intrest(p,t,r,n)"
      ],
      "metadata": {
        "colab": {
          "base_uri": "https://localhost:8080/"
        },
        "id": "hMveTDCr-hYT",
        "outputId": "f2273c5b-f0d9-4581-bbb0-77762baa072f"
      },
      "execution_count": 21,
      "outputs": [
        {
          "name": "stdout",
          "output_type": "stream",
          "text": [
            "Enter your principal value :- 100\n",
            "Enter your time value :- 1\n",
            "Enter your rate of intrest value :- 0.05\n",
            "Enter your compound value :- 1\n"
          ]
        },
        {
          "output_type": "execute_result",
          "data": {
            "text/plain": [
              "105.0"
            ]
          },
          "metadata": {},
          "execution_count": 21
        }
      ]
    },
    {
      "cell_type": "markdown",
      "source": [
        "----------\n",
        "Question5\n",
        "Write a function that takes a list of elements and returns only the integers.\n",
        "######Examples\n",
        "######return_only_integer([9, 2, &quot;space&quot;, &quot;car&quot;, &quot;lion&quot;, 16]) ➞ [9, 2, 16]\n",
        "######return_only_integer([&quot;hello&quot;, 81, &quot;basketball&quot;, 123, &quot;fox&quot;]) ➞ [81, 123]\n",
        "######return_only_integer([10, &quot;121&quot;, 56, 20, &quot;car&quot;, 3, &quot;lion&quot;]) ➞ [10, 56, 20,3]\n",
        "######return_only_integer([&quot;String&quot;, True, 3.3, 1]) ➞ [1]"
      ],
      "metadata": {
        "id": "e0Y_H3_qeXJo"
      }
    },
    {
      "cell_type": "code",
      "source": [
        "def filter_integers(input_list):\n",
        "    integer_list = [x for x in input_list if isinstance(x, int)]\n",
        "    return integer_list\n",
        "input_list = [9, 2, \"space\", \"car\", \"lion\", 16]\n",
        "integer_elements = filter_integers(input_list)\n",
        "print(\"List of integer elements :- \", integer_elements)"
      ],
      "metadata": {
        "colab": {
          "base_uri": "https://localhost:8080/"
        },
        "id": "Quke_leE-oIO",
        "outputId": "fdc43a59-1964-4c9b-c17a-e81dccdfbb72"
      },
      "execution_count": 29,
      "outputs": [
        {
          "output_type": "stream",
          "name": "stdout",
          "text": [
            "List of integer elements :-  [9, 2, 16]\n"
          ]
        }
      ]
    },
    {
      "cell_type": "markdown",
      "source": [
        "----------\n",
        "----------"
      ],
      "metadata": {
        "id": "hW0rIaOXmMMz"
      }
    }
  ]
}