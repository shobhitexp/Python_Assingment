{
  "nbformat": 4,
  "nbformat_minor": 0,
  "metadata": {
    "colab": {
      "provenance": []
    },
    "kernelspec": {
      "name": "python3",
      "display_name": "Python 3"
    },
    "language_info": {
      "name": "python"
    }
  },
  "cells": [
    {
      "cell_type": "markdown",
      "source": [
        "Question1\n",
        "Create a function that takes a string and returns a string in which each character is repeated\n",
        "once.\n",
        "######Examples\n",
        "######double_char(&quot;String&quot;) ➞ &quot;SSttrriinngg&quot;\n",
        "######double_char(&quot;Hello World!&quot;) ➞ &quot;HHeelllloo WWoorrlldd!!&quot;\n",
        "######double_char(&quot;1234!_ &quot;) ➞ &quot;11223344!!__ &quot;"
      ],
      "metadata": {
        "id": "SbcLp9B5Nw1T"
      }
    },
    {
      "cell_type": "code",
      "execution_count": null,
      "metadata": {
        "id": "u34WSSpJNqr4",
        "colab": {
          "base_uri": "https://localhost:8080/",
          "height": 53
        },
        "outputId": "7ae8a095-e478-43b5-d1d7-9c52f0cba3f0"
      },
      "outputs": [
        {
          "name": "stdout",
          "output_type": "stream",
          "text": [
            "Enter your string :- string\n"
          ]
        },
        {
          "output_type": "execute_result",
          "data": {
            "text/plain": [
              "'ssttrriinngg'"
            ],
            "application/vnd.google.colaboratory.intrinsic+json": {
              "type": "string"
            }
          },
          "metadata": {},
          "execution_count": 30
        }
      ],
      "source": [
        "def re(val):\n",
        "  result=''\n",
        "  for i in val:\n",
        "    result+=i*2\n",
        "  return result\n",
        "val=input(\"Enter your string :- \")\n",
        "re(val)\n"
      ]
    },
    {
      "cell_type": "markdown",
      "source": [
        "--------------\n",
        "Question2\n",
        "Create a function that reverses a boolean value and returns the string &quot;boolean expected&quot;\n",
        "if another variable type is given.\n",
        "######Examples\n",
        "######reverse(True) ➞ False\n",
        "######reverse(False) ➞ True\n",
        "######reverse(0) ➞ &quot;boolean expected&quot;\n",
        "######reverse(None) ➞ &quot;boolean expected&quot;"
      ],
      "metadata": {
        "id": "Ic2yeDVrQw_x"
      }
    },
    {
      "cell_type": "code",
      "source": [
        "def check(val):\n",
        "  if val=='True' or val=='False':\n",
        "    print(val)\n",
        "  else:\n",
        "    return \"boolean expected\"\n",
        "val=input(\"enter your string :- \")\n",
        "check(val)"
      ],
      "metadata": {
        "id": "tMvBx2Y48-uU",
        "colab": {
          "base_uri": "https://localhost:8080/",
          "height": 53
        },
        "outputId": "433eb30e-a626-4514-851f-1c6fdde99059"
      },
      "execution_count": 11,
      "outputs": [
        {
          "name": "stdout",
          "output_type": "stream",
          "text": [
            "enter your string :- 36782\n"
          ]
        },
        {
          "output_type": "execute_result",
          "data": {
            "text/plain": [
              "'boolean expected'"
            ],
            "application/vnd.google.colaboratory.intrinsic+json": {
              "type": "string"
            }
          },
          "metadata": {},
          "execution_count": 11
        }
      ]
    },
    {
      "cell_type": "markdown",
      "source": [
        "---------------\n",
        "Question3\n",
        "Create a function that returns the thickness (in meters) of a piece of paper after folding it n\n",
        "number of times. The paper starts off with a thickness of 0.5mm.\n",
        "#####Examples\n",
        "######num_layers(1) ➞ &quot;0.001m&quot;\n",
        "###### Paper folded once is 1mm (equal to 0.001m)\n",
        "num_layers(4) ➞ &quot;0.008m&quot;\n",
        "###### Paper folded 4 times is 8mm (equal to 0.008m)\n",
        "num_layers(21) ➞ &quot;1048.576m&quot;\n",
        "###### Paper folded 21 times is 1048576mm (equal to 1048.576m)"
      ],
      "metadata": {
        "id": "D5l-p6uHPmP2"
      }
    },
    {
      "cell_type": "code",
      "source": [
        "def thikness(t):\n",
        "  size=0\n",
        "  paper=0.5\n",
        "  for i in range(0,t):\n",
        "    size=size+paper\n",
        "    paper*=2\n",
        "  size=round(size)\n",
        "  return ((size/1000))\n",
        "t=int(input(\"Enter hoe much time paper you want to fold :- \"))\n",
        "thikness(t)"
      ],
      "metadata": {
        "id": "fhk6Q0w59PYs",
        "colab": {
          "base_uri": "https://localhost:8080/"
        },
        "outputId": "d5512743-d7e5-4883-a23b-684f14e7b229"
      },
      "execution_count": 19,
      "outputs": [
        {
          "name": "stdout",
          "output_type": "stream",
          "text": [
            "Enter hoe much time paper you want to fold :- 21\n"
          ]
        },
        {
          "output_type": "execute_result",
          "data": {
            "text/plain": [
              "1048.576"
            ]
          },
          "metadata": {},
          "execution_count": 19
        }
      ]
    },
    {
      "cell_type": "markdown",
      "source": [
        "-------------\n",
        "Question4\n",
        "\n",
        "Create a function that takes a single string as argument and returns an ordered list containing\n",
        "the indices of all capital letters in the string.\n",
        "######Examples\n",
        "######index_of_caps(&quot;eDaBiT&quot;) ➞ [1, 3, 5]\n",
        "######index_of_caps(&quot;eQuINoX&quot;) ➞ [1, 3, 4, 6]\n",
        "######index_of_caps(&quot;determine&quot;) ➞ []\n",
        "######index_of_caps(&quot;STRIKE&quot;) ➞ [0, 1, 2, 3, 4, 5]\n",
        "######index_of_caps(&quot;sUn&quot;) ➞ [1]"
      ],
      "metadata": {
        "id": "8lPUENmJZdFc"
      }
    },
    {
      "cell_type": "code",
      "source": [
        "def uppercase(string, idx=0, result=None):\n",
        "    if result is None:\n",
        "        result = []\n",
        "    if idx == len(string):\n",
        "        return result\n",
        "    if string[idx].isupper():\n",
        "        result.append(idx)\n",
        "    return uppercase(string, idx + 1, result)\n",
        "test = input(\"Enter your string :- \")\n",
        "print(\"The original string is :- \" +str(test))\n",
        "res=uppercase(test)\n",
        "print(\"Uppercase elements indices :- \"+str(res))"
      ],
      "metadata": {
        "colab": {
          "base_uri": "https://localhost:8080/"
        },
        "id": "0qGCY2FvYsYO",
        "outputId": "8feadc26-7405-4581-8971-a45a7585fd9c"
      },
      "execution_count": 20,
      "outputs": [
        {
          "output_type": "stream",
          "name": "stdout",
          "text": [
            "Enter your string :- ShoBhiT RaJ\n",
            "The original string is :- ShoBhiT RaJ\n",
            "Uppercase elements indices :- [0, 3, 6, 8, 10]\n"
          ]
        }
      ]
    },
    {
      "cell_type": "markdown",
      "source": [
        "-----------\n",
        "Question5\n",
        "Using list comprehensions, create a function that finds all even numbers from 1 to the given\n",
        "number.\n",
        "######Examples\n",
        "######find_even_nums(8) ➞ [2, 4, 6, 8]\n",
        "######find_even_nums(4) ➞ [2, 4]\n",
        "######find_even_nums(2) ➞ [2]"
      ],
      "metadata": {
        "id": "sNu4DPIYa3GA"
      }
    },
    {
      "cell_type": "code",
      "source": [
        "def even(n):\n",
        "  ls=[]\n",
        "  for i in range(0,n+1):\n",
        "    if i%2==0:\n",
        "      ls.append(i)\n",
        "  return ls\n",
        "n=int(input(\"Enetr your number :- \"))\n",
        "even(n)"
      ],
      "metadata": {
        "colab": {
          "base_uri": "https://localhost:8080/"
        },
        "id": "HPb434PWarEJ",
        "outputId": "c167644b-d1d3-4de1-a80b-652180a7df78"
      },
      "execution_count": 22,
      "outputs": [
        {
          "name": "stdout",
          "output_type": "stream",
          "text": [
            "Enetr your number :- 8\n"
          ]
        },
        {
          "output_type": "execute_result",
          "data": {
            "text/plain": [
              "[0, 2, 4, 6, 8]"
            ]
          },
          "metadata": {},
          "execution_count": 22
        }
      ]
    },
    {
      "cell_type": "markdown",
      "source": [
        "---------\n",
        "---------"
      ],
      "metadata": {
        "id": "Qs2NMfSIbqIo"
      }
    }
  ]
}