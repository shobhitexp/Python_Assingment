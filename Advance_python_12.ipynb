{
  "nbformat": 4,
  "nbformat_minor": 0,
  "metadata": {
    "colab": {
      "provenance": [],
      "authorship_tag": "ABX9TyMExo+zThn54X4j/rvWQc0s",
      "include_colab_link": true
    },
    "kernelspec": {
      "name": "python3",
      "display_name": "Python 3"
    },
    "language_info": {
      "name": "python"
    }
  },
  "cells": [
    {
      "cell_type": "markdown",
      "metadata": {
        "id": "view-in-github",
        "colab_type": "text"
      },
      "source": [
        "<a href=\"https://colab.research.google.com/github/shobhitexp/Python_Assingments/blob/Advance_python_assignments/Advance_python_12.ipynb\" target=\"_parent\"><img src=\"https://colab.research.google.com/assets/colab-badge.svg\" alt=\"Open In Colab\"/></a>"
      ]
    },
    {
      "cell_type": "markdown",
      "source": [
        "\n",
        "##Assignment 12 Adv_python"
      ],
      "metadata": {
        "id": "wfXaB68EwQDa"
      }
    },
    {
      "cell_type": "markdown",
      "source": [
        "Q1. Does assigning a value to a string&#39;s indexed character violate Python&#39;s string immutability?\n",
        "\n",
        "Answer :- Yes, assigning a value to a string's indexed character in Python violates the string's immutability. Strings in Python are immutable, which means their contents cannot be changed once they are created. If you attempt to modify a string by assigning a value to a specific indexed character, you will encounter an error.\n",
        "\n"
      ],
      "metadata": {
        "id": "MCOvAfZCwXL-"
      }
    },
    {
      "cell_type": "code",
      "execution_count": 1,
      "metadata": {
        "colab": {
          "base_uri": "https://localhost:8080/",
          "height": 197
        },
        "id": "UafKCMJ7wNK1",
        "outputId": "77226e79-1a2a-428d-cad7-c4d6e8c6b6c0"
      },
      "outputs": [
        {
          "output_type": "error",
          "ename": "TypeError",
          "evalue": "ignored",
          "traceback": [
            "\u001b[0;31m---------------------------------------------------------------------------\u001b[0m",
            "\u001b[0;31mTypeError\u001b[0m                                 Traceback (most recent call last)",
            "\u001b[0;32m<ipython-input-1-8e7ca1889e97>\u001b[0m in \u001b[0;36m<cell line: 2>\u001b[0;34m()\u001b[0m\n\u001b[1;32m      1\u001b[0m \u001b[0mmy_string\u001b[0m \u001b[0;34m=\u001b[0m \u001b[0;34m\"hello\"\u001b[0m\u001b[0;34m\u001b[0m\u001b[0;34m\u001b[0m\u001b[0m\n\u001b[0;32m----> 2\u001b[0;31m \u001b[0mmy_string\u001b[0m\u001b[0;34m[\u001b[0m\u001b[0;36m0\u001b[0m\u001b[0;34m]\u001b[0m \u001b[0;34m=\u001b[0m \u001b[0;34m\"H\"\u001b[0m\u001b[0;34m\u001b[0m\u001b[0;34m\u001b[0m\u001b[0m\n\u001b[0m",
            "\u001b[0;31mTypeError\u001b[0m: 'str' object does not support item assignment"
          ]
        }
      ],
      "source": [
        "my_string = \"hello\"\n",
        "my_string[0] = \"H\""
      ]
    },
    {
      "cell_type": "code",
      "source": [
        "my_string = \"hello\"\n",
        "new_string = \"H\" + my_string[1:]\n",
        "print(new_string)"
      ],
      "metadata": {
        "colab": {
          "base_uri": "https://localhost:8080/"
        },
        "id": "NwmCnzY5w_1B",
        "outputId": "41f10188-2c56-4b6d-f5c9-f9b0a163a465"
      },
      "execution_count": 3,
      "outputs": [
        {
          "output_type": "stream",
          "name": "stdout",
          "text": [
            "Hello\n"
          ]
        }
      ]
    },
    {
      "cell_type": "markdown",
      "source": [
        "---------\n",
        "Q2. Does using the += operator to concatenate strings violate Python&#39;s string immutability? Why or\n",
        "why not?\n",
        "\n",
        "Answer :- No, using the += operator to concatenate strings does not violate Python's string immutability. This might seem counterintuitive, but it's due to the way the += operator is implemented for strings.\n",
        "\n",
        "When you use the += operator to concatenate strings, Python internally creates a new string that includes the contents of both the original string and the string you're concatenating. However, the original string remains unchanged, and the variable that held the original string is updated to reference the new concatenated string.\n",
        "\n",
        "This operation effectively creates a new string and updates the variable reference, but it does not modify the original string in place. This behavior aligns with the concept of string immutability, where the original string's contents cannot be changed after creation."
      ],
      "metadata": {
        "id": "XNOcj6bJxCKN"
      }
    },
    {
      "cell_type": "code",
      "source": [
        "original_string = \"hello\"\n",
        "original_id = id(original_string)\n",
        "original_string += \" world\"\n",
        "new_id = id(original_string)\n",
        "print(original_string)\n",
        "print(original_id == new_id)"
      ],
      "metadata": {
        "colab": {
          "base_uri": "https://localhost:8080/"
        },
        "id": "y-KHQE9yxBHD",
        "outputId": "81c247c7-af6e-4de8-eb18-a0db34ff7367"
      },
      "execution_count": 6,
      "outputs": [
        {
          "output_type": "stream",
          "name": "stdout",
          "text": [
            "hello world\n",
            "False\n"
          ]
        }
      ]
    },
    {
      "cell_type": "markdown",
      "source": [
        "-----------\n",
        "Q3. In Python, how many different ways are there to index a character?\n",
        "\n",
        "Answer :- In Python, you can index a character (or a substring) in a string using various methods. Here are the main ways to index a character within a string:\n",
        "\n",
        "1. **Positive Indexing**: You can use positive indices to access characters from the beginning of the string, starting from index 0.\n",
        "\n",
        "```python\n",
        "my_string = \"hello\"\n",
        "first_char = my_string[0]  # Retrieves the first character \"h\"\n",
        "second_char = my_string[1]  # Retrieves the second character \"e\"\n",
        "```\n",
        "\n",
        "2. **Negative Indexing**: You can use negative indices to access characters from the end of the string, starting from index -1.\n",
        "\n",
        "```python\n",
        "last_char = my_string[-1]  # Retrieves the last character \"o\"\n",
        "second_last_char = my_string[-2]  # Retrieves the second-to-last character \"l\"\n",
        "```\n",
        "\n",
        "3. **Slicing**: You can use slicing to extract a substring of characters from a string.\n",
        "\n",
        "```python\n",
        "substring = my_string[1:4]  # Retrieves characters from index 1 to 3: \"ell\"\n",
        "```\n",
        "\n",
        "4. **Striding with Slicing**: You can use striding to retrieve characters with a certain step size.\n",
        "\n",
        "```python\n",
        "every_second_char = my_string[::2]  # Retrieves characters at indices 0, 2, 4: \"hlo\"\n",
        "```\n",
        "\n",
        "5. **Using a Loop**: You can iterate through each character in a string using a loop.\n",
        "\n",
        "```python\n",
        "for char in my_string:\n",
        "    print(char)\n",
        "```\n",
        "\n",
        "6. **Using `ord()` and `chr()` Functions**: You can use the `ord()` function to get the Unicode code point of a character and the `chr()` function to convert a Unicode code point back to a character.\n",
        "\n",
        "```python\n",
        "character = \"h\"\n",
        "unicode_code = ord(character)  # Gets the Unicode code point of \"h\"\n",
        "character_again = chr(unicode_code)  # Converts the Unicode code point back to \"h\"\n",
        "```\n",
        "\n",
        "Remember that strings in Python are immutable, so you cannot modify individual characters in place. Instead, you'll need to create new strings with the desired modifications, as mentioned in earlier responses."
      ],
      "metadata": {
        "id": "Ny59PPRzxt2J"
      }
    },
    {
      "cell_type": "markdown",
      "source": [
        "------------\n",
        "Q4. What is the relationship between indexing and slicing?\n",
        "\n",
        "\n",
        "Answer :- In Python, indexing and slicing are both ways to access elements within sequences, such as strings, lists, tuples, and other iterable data types. They are closely related concepts and provide different ways to extract elements from a sequence.\n",
        "\n",
        "**Indexing**:\n",
        "Indexing refers to accessing a single element within a sequence using its position or index. Indices are zero-based, meaning the first element is at index 0, the second element is at index 1, and so on. You can use both positive and negative indices to access elements from the beginning or the end of the sequence.\n",
        "\n",
        "Examples:\n",
        "```python\n",
        "my_string = \"hello\"\n",
        "first_char = my_string[0]  # Retrieves the first character \"h\"\n",
        "second_char = my_string[1]  # Retrieves the second character \"e\"\n",
        "last_char = my_string[-1]   # Retrieves the last character \"o\"\n",
        "```\n",
        "\n",
        "**Slicing**:\n",
        "Slicing involves extracting a range of elements from a sequence. It's done by specifying a start index, an end index (exclusive), and an optional step size. Slicing returns a new sequence containing the specified range of elements.\n",
        "\n",
        "Examples:\n",
        "```python\n",
        "my_string = \"hello\"\n",
        "substring = my_string[1:4]      # Retrieves characters from index 1 to 3: \"ell\"\n",
        "every_second_char = my_string[::2]  # Retrieves characters at indices 0, 2, 4: \"hlo\"\n",
        "```\n",
        "\n",
        "**Relationship**:\n",
        "Slicing can be thought of as a generalized form of indexing. Indexing retrieves a single element at a specific position, while slicing retrieves a sequence of elements based on a specified range. Indexing is a special case of slicing where the range consists of a single index.\n",
        "\n",
        "In the examples above, when you index a string, you're essentially slicing it with a range that includes a single index. Slicing provides more flexibility by allowing you to extract multiple elements in one go. The slicing syntax is `start:end:step`, where `start` is the index of the first element to include, `end` is the index just after the last element to include, and `step` determines the stride or step size.\n",
        "\n",
        "To summarize, indexing and slicing are both ways to access elements in a sequence, with slicing being a more versatile concept that includes indexing as a special case."
      ],
      "metadata": {
        "id": "RQxaSkM4yWQG"
      }
    },
    {
      "cell_type": "markdown",
      "source": [
        "----------\n",
        "Q5. What is an indexed character&#39;s exact data type? What is the data form of a slicing-generated\n",
        "substring?\n",
        "\n",
        "Answer :- In Python, the exact data type of an indexed character from a string is a string. When you index a string, you are extracting a single character, which is represented as a string containing that character."
      ],
      "metadata": {
        "id": "1ZhdhtdGzxMS"
      }
    },
    {
      "cell_type": "code",
      "source": [
        "my_string = \"hello\"\n",
        "first_char = my_string[0]\n",
        "first_char"
      ],
      "metadata": {
        "colab": {
          "base_uri": "https://localhost:8080/",
          "height": 35
        },
        "id": "6fGQ3PpYxjuI",
        "outputId": "86fa2355-de65-4895-d965-c17445c03639"
      },
      "execution_count": 7,
      "outputs": [
        {
          "output_type": "execute_result",
          "data": {
            "text/plain": [
              "'h'"
            ],
            "application/vnd.google.colaboratory.intrinsic+json": {
              "type": "string"
            }
          },
          "metadata": {},
          "execution_count": 7
        }
      ]
    },
    {
      "cell_type": "markdown",
      "source": [
        "The data type of first_char in the example above is str.\n",
        "\n",
        "When you use slicing to generate a substring from a string, the resulting data type is also a string. Slicing extracts a range of characters from the original string and returns them as a new string."
      ],
      "metadata": {
        "id": "08sE8m5i0-fI"
      }
    },
    {
      "cell_type": "code",
      "source": [
        "my_string = \"hello\"\n",
        "substring = my_string[1:4]\n",
        "substring"
      ],
      "metadata": {
        "colab": {
          "base_uri": "https://localhost:8080/",
          "height": 35
        },
        "id": "dLSeg9ys1DS9",
        "outputId": "5513d1d0-0cdd-4591-9b50-84bf7a8c9066"
      },
      "execution_count": 8,
      "outputs": [
        {
          "output_type": "execute_result",
          "data": {
            "text/plain": [
              "'ell'"
            ],
            "application/vnd.google.colaboratory.intrinsic+json": {
              "type": "string"
            }
          },
          "metadata": {},
          "execution_count": 8
        }
      ]
    },
    {
      "cell_type": "markdown",
      "source": [
        "The data type of substring in the example above is also str.\n",
        "\n",
        "In Python, strings are sequences of characters, and both indexed characters and substrings generated through slicing are treated as strings. This consistency simplifies working with strings and allows you to use string methods and operations on both individual characters and substrings."
      ],
      "metadata": {
        "id": "qadPjuFn1D6Y"
      }
    },
    {
      "cell_type": "markdown",
      "source": [
        "-------------\n",
        "Q6. What is the relationship between string and character &quot;types&quot; in Python?\n",
        "\n",
        "Answer :-\n",
        "In Python, there is no character data type. A single character is simply a string with a length of 1. This means that a string can be thought of as a sequence of characters, where each character is an element of the sequence.\n",
        "\n",
        "The string type in Python is called str. It is an immutable data type, which means that once a string is created, it cannot be changed. Strings can be created using single or double quotes, or triple quotes.\n",
        "\n"
      ],
      "metadata": {
        "id": "NLkRfoAx1ML6"
      }
    },
    {
      "cell_type": "code",
      "source": [
        "str1 = \"This is a string\"\n",
        "str2 = 'This is also a string'\n",
        "str3 = \"\"\"This is a multiline string\"\"\""
      ],
      "metadata": {
        "id": "wreyMnAL2BgR"
      },
      "execution_count": 9,
      "outputs": []
    },
    {
      "cell_type": "markdown",
      "source": [
        "To access a character in a string, you can use the square brackets []. The index of the character starts at 0."
      ],
      "metadata": {
        "id": "i0j3NqfX2GqG"
      }
    },
    {
      "cell_type": "code",
      "source": [
        "print(str1[0])"
      ],
      "metadata": {
        "colab": {
          "base_uri": "https://localhost:8080/"
        },
        "id": "BSTmSfJ62Dm0",
        "outputId": "34455dce-95ea-4029-c1fa-037597ed7119"
      },
      "execution_count": 10,
      "outputs": [
        {
          "output_type": "stream",
          "name": "stdout",
          "text": [
            "T\n"
          ]
        }
      ]
    },
    {
      "cell_type": "markdown",
      "source": [
        "You can also use the len() function to get the length of a string. The length of a string is the number of characters in the string."
      ],
      "metadata": {
        "id": "r_GDSQlK2feO"
      }
    },
    {
      "cell_type": "code",
      "source": [
        "print(len(str1))"
      ],
      "metadata": {
        "colab": {
          "base_uri": "https://localhost:8080/"
        },
        "id": "xo2A6Uwi2bj9",
        "outputId": "de50b668-5bec-4e2c-94af-3a952a0ef72b"
      },
      "execution_count": 11,
      "outputs": [
        {
          "output_type": "stream",
          "name": "stdout",
          "text": [
            "16\n"
          ]
        }
      ]
    },
    {
      "cell_type": "code",
      "source": [
        "str1 = \"This is a string\"\n",
        "char1 = \"a\"\n",
        "\n",
        "print(type(str1))\n",
        "print(type(char1))\n",
        "\n",
        "print(str1[0])\n",
        "print(type(str1[0]))"
      ],
      "metadata": {
        "colab": {
          "base_uri": "https://localhost:8080/"
        },
        "id": "yvD69xvy2jiC",
        "outputId": "bc976e2b-02b1-423d-8e16-a11740bb0875"
      },
      "execution_count": 12,
      "outputs": [
        {
          "output_type": "stream",
          "name": "stdout",
          "text": [
            "<class 'str'>\n",
            "<class 'str'>\n",
            "T\n",
            "<class 'str'>\n"
          ]
        }
      ]
    },
    {
      "cell_type": "markdown",
      "source": [
        "------------\n",
        "Q7. Identify at least two operators and one method that allow you to combine one or more smallerstrings to create a larger string.\n",
        "\n",
        "Answer :- The + operator: The + operator can be used to concatenate two strings. For example:"
      ],
      "metadata": {
        "id": "PN7_vhBu2qzY"
      }
    },
    {
      "cell_type": "code",
      "source": [
        "str1 = \"This is a string\"\n",
        "str2 = \"and this is another string\"\n",
        "str3 = str1 + str2\n",
        "print(str3)"
      ],
      "metadata": {
        "colab": {
          "base_uri": "https://localhost:8080/"
        },
        "id": "UTb4AuIg2pmU",
        "outputId": "4f9185f2-47fa-4137-b72e-1986b34688ee"
      },
      "execution_count": 13,
      "outputs": [
        {
          "output_type": "stream",
          "name": "stdout",
          "text": [
            "This is a stringand this is another string\n"
          ]
        }
      ]
    },
    {
      "cell_type": "markdown",
      "source": [
        "The join() method: The join() method can be used to concatenate a sequence of strings. The sequence can be a list, a tuple, or any other iterable object. The join() method takes a string as its argument, which is used as a separator between the strings in the sequence. For example:"
      ],
      "metadata": {
        "id": "_3-UISir3XX2"
      }
    },
    {
      "cell_type": "code",
      "source": [
        "str1 = \"This is a string\"\n",
        "str2 = \"and this is another string\"\n",
        "strings = [str1, str2]\n",
        "str3 = \" \".join(strings)\n",
        "print(str3)"
      ],
      "metadata": {
        "colab": {
          "base_uri": "https://localhost:8080/"
        },
        "id": "A6hrKNnc3T6O",
        "outputId": "9d0413c1-acf8-47b6-f4d8-34df607c0fee"
      },
      "execution_count": 14,
      "outputs": [
        {
          "output_type": "stream",
          "name": "stdout",
          "text": [
            "This is a string and this is another string\n"
          ]
        }
      ]
    },
    {
      "cell_type": "markdown",
      "source": [
        "The format() function: The format() function can also be used to concatenate strings. The format() function takes a string as its first argument, which is the format string. The format string contains placeholder characters that are replaced with the values of the arguments passed to the format() function. For example:"
      ],
      "metadata": {
        "id": "oAj872GC3fuy"
      }
    },
    {
      "cell_type": "code",
      "source": [
        "str1 = \"This is a string\"\n",
        "str2 = \"and this is another string\"\n",
        "str3 = \"{} {}\".format(str1, str2)\n",
        "print(str3)"
      ],
      "metadata": {
        "colab": {
          "base_uri": "https://localhost:8080/"
        },
        "id": "tq3p4t1-3cGz",
        "outputId": "46f23c30-5f91-4f85-f14d-8dd937c909a2"
      },
      "execution_count": 15,
      "outputs": [
        {
          "output_type": "stream",
          "name": "stdout",
          "text": [
            "This is a string and this is another string\n"
          ]
        }
      ]
    },
    {
      "cell_type": "markdown",
      "source": [
        "-----------\n",
        "Q8. What is the benefit of first checking the target string with in or not in before using the index method to find a substring?\n",
        "\n",
        "Answer :- The in and not in operators can be used to check if a substring is present in a string. The index() method can be used to find the index of a substring in a string.\n",
        "\n",
        "Checking the target string with in or not in before using the index() method can be beneficial in the following ways:\n",
        "\n",
        "It can prevent the index() method from raising an error if the substring is not found in the string.\n",
        "It can improve the performance of the code, as the index() method does not need to search the entire string if the substring is not found."
      ],
      "metadata": {
        "id": "U7VETNMH3oZn"
      }
    },
    {
      "cell_type": "code",
      "source": [
        "str1 = \"This is a string\"\n",
        "\n",
        "# Check if the substring \"is\" is present in the string\n",
        "if \"is\" in str1:\n",
        "  # Find the index of the substring \"is\"\n",
        "  index = str1.index(\"is\")\n",
        "  print(\"The index of the substring 'is' is:\", index)\n",
        "else:\n",
        "  print(\"The substring 'is' is not in the string\")"
      ],
      "metadata": {
        "colab": {
          "base_uri": "https://localhost:8080/"
        },
        "id": "3DyoAUNI3kAA",
        "outputId": "2a83a056-da61-4cdd-e8f8-9d6c131263cf"
      },
      "execution_count": 16,
      "outputs": [
        {
          "output_type": "stream",
          "name": "stdout",
          "text": [
            "The index of the substring 'is' is: 2\n"
          ]
        }
      ]
    },
    {
      "cell_type": "markdown",
      "source": [
        "This code will first check if the substring \"is\" is present in the string. If it is present, the code will then find the index of the substring. If the substring is not present, the code will print a message to that effect.\n",
        "\n",
        "Without the in operator, the code would be as follows:"
      ],
      "metadata": {
        "id": "5ksRhCyy4LMo"
      }
    },
    {
      "cell_type": "code",
      "source": [
        "str1 = \"This is a string\"\n",
        "\n",
        "# Find the index of the substring \"is\"\n",
        "index = str1.index(\"is\")\n",
        "print(\"The index of the substring 'is' is:\", index)"
      ],
      "metadata": {
        "colab": {
          "base_uri": "https://localhost:8080/"
        },
        "id": "H27jzg_Q4OSm",
        "outputId": "cb130d34-17a7-48dd-ffbe-45c8a0297b22"
      },
      "execution_count": 17,
      "outputs": [
        {
          "output_type": "stream",
          "name": "stdout",
          "text": [
            "The index of the substring 'is' is: 2\n"
          ]
        }
      ]
    },
    {
      "cell_type": "markdown",
      "source": [
        "This will cause the index() method to raise an error.\n",
        "\n",
        "Therefore, it is always a good idea to check if the target string contains the substring before using the index() method. This can help to prevent errors and improve the performance of the code."
      ],
      "metadata": {
        "id": "3H2QLfhT4XHk"
      }
    },
    {
      "cell_type": "markdown",
      "source": [
        "-------------\n",
        "Q9. Which operators and built-in string methods produce simple Boolean (true/false) results?\n",
        "\n",
        "Answer :- Comparison operators: The comparison operators <, <=, >, >=, ==, and != can be used to compare two strings. They return a Boolean value of True if the comparison is true, and False if the comparison is false.\n",
        "Membership operators: The membership operators in and not in can be used to check if a substring is present in a string. They return a Boolean value of True if the substring is present, and False if the substring is not present.\n",
        "Boolean methods: The following Boolean methods can be used to check the properties of a string:\n",
        "* isalpha(): Returns True if the string contains only alphabetic characters, and False otherwise.\n",
        "* isdigit(): Returns True if the string contains only digits, and False otherwise.\n",
        "* isalnum(): Returns True if the string contains only alphanumeric characters (letters and digits), and False otherwise.\n",
        "* isspace(): Returns True if the string contains only whitespace characters, and False otherwise.\n",
        "* islower(): Returns True if the string is all lowercase letters, and False otherwise.\n",
        "* isupper(): Returns True if the string is all uppercase letters, and False otherwise.\n",
        "* startswith(): Returns True if the string starts with the specified substring, and False otherwise.\n",
        "* endswith(): Returns True if the string ends with the specified substring, and False otherwise."
      ],
      "metadata": {
        "id": "AFlcUrAj4Yd0"
      }
    },
    {
      "cell_type": "markdown",
      "source": [
        "---------------\n",
        "---------------"
      ],
      "metadata": {
        "id": "xFuSnb9s4vb9"
      }
    }
  ]
}