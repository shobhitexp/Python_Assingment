{
  "nbformat": 4,
  "nbformat_minor": 0,
  "metadata": {
    "colab": {
      "provenance": [],
      "authorship_tag": "ABX9TyMH8iBgw0PCdkcTuToSNlXS",
      "include_colab_link": true
    },
    "kernelspec": {
      "name": "python3",
      "display_name": "Python 3"
    },
    "language_info": {
      "name": "python"
    }
  },
  "cells": [
    {
      "cell_type": "markdown",
      "metadata": {
        "id": "view-in-github",
        "colab_type": "text"
      },
      "source": [
        "<a href=\"https://colab.research.google.com/github/shobhitexp/Python_Assingments/blob/Advance_python_assignments/Advance_python_01.ipynb\" target=\"_parent\"><img src=\"https://colab.research.google.com/assets/colab-badge.svg\" alt=\"Open In Colab\"/></a>"
      ]
    },
    {
      "cell_type": "markdown",
      "source": [
        "##Assignment 01 Adv_python"
      ],
      "metadata": {
        "id": "eGHlwGCNC_sp"
      }
    },
    {
      "cell_type": "markdown",
      "source": [
        "####Q1. What is the purpose of Python&#39;s OOP?\n",
        "Answer :- In Python, object-oriented Programming (OOPs) is a programming paradigm that uses objects and classes in programming. It aims to implement real-world entities like inheritance, polymorphisms, encapsulation, etc. in the programming. The main concept of OOPs is to bind the data and the functions that work on that together as a single unit so that no other part of the code can access this data."
      ],
      "metadata": {
        "id": "D4J9YSq9Eo7e"
      }
    },
    {
      "cell_type": "markdown",
      "source": [
        "----------------\n",
        "####Q2. Where does an inheritance search look for an attribute?"
      ],
      "metadata": {
        "id": "jC4P3DMLEzaz"
      }
    },
    {
      "cell_type": "markdown",
      "source": [
        "#### Answer :- Inheritance is a class in which we are inherit the first class from second class. An inheritance search looks for an attribute first in the instance object, then in the class the instance was created from, then in all higher superclasses, progressing from left to right (by default). The search stops at the first place the attribute is found."
      ],
      "metadata": {
        "id": "02lacACRE2oP"
      }
    },
    {
      "cell_type": "markdown",
      "source": [
        "-------------\n",
        "####Q3. How do you distinguish between a class object and an instance object?\n",
        "Answer :- A class is a type of blueprint that you can use to make objects. A concrete 'thing' that you constructed using a certain class is an object, which is an instance of a class. So, while the terms 'object' and 'instance' are interchangeable, the term 'instance' refers to an object's relationship to its class."
      ],
      "metadata": {
        "id": "mQ55CG2BG_VT"
      }
    },
    {
      "cell_type": "markdown",
      "source": [
        "-----------\n",
        "####Q4. What makes the first argument in a class’s method function special?\n",
        "Answer :- The calling process is automatic while the receiving process is not (its explicit). This is the reason the first parameter of a function in class must be the object itself. Writing this parameter as self is merely a convention. It is not a keyword and has no special meaning in Python."
      ],
      "metadata": {
        "id": "EHDd_myYHVxq"
      }
    },
    {
      "cell_type": "markdown",
      "source": [
        "------------\n",
        "####Q5. What is the purpose of the __init__ method?\n",
        "Answer :- The __init__ method lets the class initialize the object's attributes and serves no other purpose. It is only used within classes."
      ],
      "metadata": {
        "id": "gVnFOB2hHsB5"
      }
    },
    {
      "cell_type": "markdown",
      "source": [
        "####Q6. What is the process for creating a class instance?\n",
        "Answer :- To create instances of a class, you call the class using class name and pass in whatever arguments its __init__ method accepts."
      ],
      "metadata": {
        "id": "XNBeYYxSIhWK"
      }
    },
    {
      "cell_type": "markdown",
      "source": [
        "------------\n",
        "####Q7. What is the process for creating a class?\n",
        "Answer :-\n",
        "* Classes are created using class keyword.\n",
        "* A colon (:) is used after the class name.\n",
        "* The class is made up of attributes (data) and methods (functions).\n",
        "* Attributes that apply to the whole class are defined first and are called class attributes.\n",
        "* Attributes can be accessed using the dot (.) operator via objects.\n"
      ],
      "metadata": {
        "id": "YNz4ptW1I62t"
      }
    },
    {
      "cell_type": "code",
      "execution_count": 63,
      "metadata": {
        "id": "jd-MSrRICELG"
      },
      "outputs": [],
      "source": [
        "class Shobhit:\n",
        "\n",
        "  company = \"iNeuron\"\n",
        "  designation = \"Data Scientist\"\n",
        "\n",
        "  def __init__(self):\n",
        "         pass\n",
        "\n",
        "  def func():\n",
        "      pass"
      ]
    },
    {
      "cell_type": "markdown",
      "source": [
        "----------\n",
        "####Q8. How would you define the superclasses of a class?\n",
        "Answer :- The class from which a class inherits is called the parent or superclass. A class which inherits from a superclass is called a subclass, also called heir class or child class. Superclasses are sometimes called ancestors as well. There exists a hierarchical relationship between classes."
      ],
      "metadata": {
        "id": "8Igec980lEcc"
      }
    },
    {
      "cell_type": "code",
      "source": [
        "class A:\n",
        "    pass\n",
        "class B(A):\n",
        "    pass\n",
        "class C(B):\n",
        "    pass\n",
        "x = C()\n",
        "print(isinstance(x, A))"
      ],
      "metadata": {
        "colab": {
          "base_uri": "https://localhost:8080/"
        },
        "id": "3BH4kDmQk_UG",
        "outputId": "9261423a-cfba-4d15-a297-c7ecacb877f3"
      },
      "execution_count": 69,
      "outputs": [
        {
          "output_type": "stream",
          "name": "stdout",
          "text": [
            "True\n"
          ]
        }
      ]
    },
    {
      "cell_type": "markdown",
      "source": [
        "-----------\n",
        "-----------"
      ],
      "metadata": {
        "id": "QhGYYpRCmOyv"
      }
    }
  ]
}