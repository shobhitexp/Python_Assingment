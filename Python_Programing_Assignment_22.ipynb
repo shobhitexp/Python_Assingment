{
  "nbformat": 4,
  "nbformat_minor": 0,
  "metadata": {
    "colab": {
      "provenance": [],
      "authorship_tag": "ABX9TyPYVwyfk9vhY+8n1RrVUf8X",
      "include_colab_link": true
    },
    "kernelspec": {
      "name": "python3",
      "display_name": "Python 3"
    },
    "language_info": {
      "name": "python"
    }
  },
  "cells": [
    {
      "cell_type": "markdown",
      "metadata": {
        "id": "view-in-github",
        "colab_type": "text"
      },
      "source": [
        "<a href=\"https://colab.research.google.com/github/shobhitexp/Python_Assingments/blob/python_basic/Python_Programing_Assignment_22.ipynb\" target=\"_parent\"><img src=\"https://colab.research.google.com/assets/colab-badge.svg\" alt=\"Open In Colab\"/></a>"
      ]
    },
    {
      "cell_type": "markdown",
      "source": [
        "#Assignment 22\n",
        "\n",
        "\n"
      ],
      "metadata": {
        "id": "yWvy6Lb652hR"
      }
    },
    {
      "cell_type": "markdown",
      "source": [
        "Question1\n",
        "Create a function that takes three parameters where:\n",
        "*  x is the start of the range (inclusive).\n",
        "*  y is the end of the range (inclusive).\n",
        "*  n is the divisor to be checked against.\n",
        "Return an ordered list with numbers in the range that are divisible by the third parameter n.\n",
        "Return an empty list if there are no numbers that are divisible by n.\n",
        "* Examples\n",
        "* list_operation(1, 10, 3) ➞ [3, 6, 9]\n",
        "* list_operation(7, 9, 2) ➞ [8]\n",
        "* list_operation(15, 20, 7) ➞ []"
      ],
      "metadata": {
        "id": "HxiPYzEq7e11"
      }
    },
    {
      "cell_type": "code",
      "execution_count": 9,
      "metadata": {
        "colab": {
          "base_uri": "https://localhost:8080/"
        },
        "id": "9vtGOSyO7M2j",
        "outputId": "2a1056cb-fc8e-423a-8aa0-474e09c1f2b0"
      },
      "outputs": [
        {
          "name": "stdout",
          "output_type": "stream",
          "text": [
            "Enter your value of x :- 1\n",
            "Enter your value of y :- 10\n",
            "Enter your value of n :- 3\n"
          ]
        },
        {
          "output_type": "execute_result",
          "data": {
            "text/plain": [
              "[3, 6, 9]"
            ]
          },
          "metadata": {},
          "execution_count": 9
        }
      ],
      "source": [
        "def fn1(x,y,n):\n",
        "  len=[]\n",
        "  for i in range(x,y+1):\n",
        "    if i%n==0:\n",
        "      len.append(i)\n",
        "  return len\n",
        "x=int(input(\"Enter your value of x :- \"))\n",
        "y=int(input(\"Enter your value of y :- \"))\n",
        "n=int(input(\"Enter your value of n :- \"))\n",
        "fn1(x,y,n)"
      ]
    },
    {
      "cell_type": "markdown",
      "source": [
        "-------------\n",
        "Question2\n",
        "Create a function that takes in two lists and returns True if the second list follows the first list\n",
        "by one element, and False otherwise. In other words, determine if the second list is the first\n",
        "list shifted to the right by 1.\n",
        "######Examples\n",
        "######simon_says([1, 2], [5, 1]) ➞ True\n",
        "######simon_says([1, 2], [5, 5]) ➞ False\n",
        "######simon_says([1, 2, 3, 4, 5], [0, 1, 2, 3, 4]) ➞ True\n",
        "######simon_says([1, 2, 3, 4, 5], [5, 5, 1, 2, 3]) ➞ False\n",
        "Notes\n",
        "###### Both input lists will be of the same length, and will have a minimum length of 2.\n",
        "###### The values of the 0-indexed element in the second list and the n-1th indexed element\n",
        "in the first list do not matter."
      ],
      "metadata": {
        "id": "SUSQKz-Dkg1A"
      }
    },
    {
      "cell_type": "code",
      "source": [
        "def check(ls1,ls2):\n",
        "  for i in range(0,len(ls1)):\n",
        "    a=ls1[i]\n",
        "    for j in range(0,len(ls2)):\n",
        "      if ls1[i]==ls2[j]:\n",
        "        return True\n",
        "  return False\n",
        "ls1=list(map(int,input(\"\\nEnter the first list :- : \").strip().split(',')))\n",
        "ls2=list(map(int,input(\"\\nEnter the second list :-  : \").strip().split(',')))\n",
        "result=check(ls1,ls2)\n",
        "print(result)\n",
        ""
      ],
      "metadata": {
        "colab": {
          "base_uri": "https://localhost:8080/"
        },
        "id": "DGqLF24ZkMrv",
        "outputId": "40a4abbb-f454-4b8b-fd20-ef14ee0b3cc8"
      },
      "execution_count": 13,
      "outputs": [
        {
          "output_type": "stream",
          "name": "stdout",
          "text": [
            "\n",
            "Enter the first list :- : 1,2\n",
            "\n",
            "Enter the second list :-  : 5,5\n",
            "False\n"
          ]
        }
      ]
    },
    {
      "cell_type": "markdown",
      "source": [
        "-------------\n",
        "Question3\n",
        "A group of friends have decided to start a secret society. The name will be the first letter of\n",
        "each of their names, sorted in alphabetical order.\n",
        "Create a function that takes in a list of names and returns the name of the secret society.\n",
        "\n",
        "######Examples\n",
        "######society_name([&quot;Adam&quot;, &quot;Sarah&quot;, &quot;Malcolm&quot;]) ➞ &quot;AMS&quot;\n",
        "######society_name([&quot;Harry&quot;, &quot;Newt&quot;, &quot;Luna&quot;, &quot;Cho&quot;]) ➞ &quot;CHLN&quot;\n",
        "######society_name([&quot;Phoebe&quot;, &quot;Chandler&quot;, &quot;Rachel&quot;, &quot;Ross&quot;, &quot;Monica&quot;, &quot;Joey&quot;])"
      ],
      "metadata": {
        "id": "Tc-J78A5u7zV"
      }
    },
    {
      "cell_type": "code",
      "source": [
        "def secret_society(names):\n",
        "    secret_name = ''.join(sorted([name[0] for name in names]))\n",
        "    return secret_name\n",
        "society_member=list(map(str,input(\"\\nEnter the Your list of members :- \").strip().split(',')))\n",
        "secret_society(society_member)\n"
      ],
      "metadata": {
        "colab": {
          "base_uri": "https://localhost:8080/",
          "height": 70
        },
        "id": "9hJhrjNjudHX",
        "outputId": "b6d51d42-79a5-4a41-8251-33a67a29aa7d"
      },
      "execution_count": 1,
      "outputs": [
        {
          "name": "stdout",
          "output_type": "stream",
          "text": [
            "\n",
            "Enter the Your list of members :- Adam,Sarah,Malcolm\n"
          ]
        },
        {
          "output_type": "execute_result",
          "data": {
            "text/plain": [
              "'AMS'"
            ],
            "application/vnd.google.colaboratory.intrinsic+json": {
              "type": "string"
            }
          },
          "metadata": {},
          "execution_count": 1
        }
      ]
    },
    {
      "cell_type": "markdown",
      "source": [
        "-----------\n",
        "Question4\n",
        "An isogram is a word that has no duplicate letters. Create a function that takes a string and\n",
        "returns either True or False depending on whether or not it&#39;s an &quot;isogram&quot;.\n",
        "######Examples\n",
        "######is_isogram(&quot;Algorism&quot;) ➞ True\n",
        "######is_isogram(&quot;PasSword&quot;) ➞ False\n",
        "### Not case sensitive.\n",
        "is_isogram(&quot;Consecutive&quot;) ➞ False\n",
        "######Notes\n",
        "###### Ignore letter case (should not be case sensitive).\n",
        " All test cases contain valid one word strings."
      ],
      "metadata": {
        "id": "u4ZxO4t_zpW6"
      }
    },
    {
      "cell_type": "code",
      "source": [
        "def is_isogram(word):\n",
        "    word = word.lower()\n",
        "    seen_letters = set()\n",
        "    for letter in word:\n",
        "        if letter.isalpha():\n",
        "            if letter in seen_letters:\n",
        "                return False\n",
        "            seen_letters.add(letter)\n",
        "    return True\n",
        "word = input(\"Enter your word for checking isogram :- \")\n",
        "result = is_isogram(word)\n",
        "print(result)"
      ],
      "metadata": {
        "colab": {
          "base_uri": "https://localhost:8080/"
        },
        "id": "CQEQ1BmvyuoS",
        "outputId": "d35e5f83-be4c-4c8d-88b2-ffb9495fc8e7"
      },
      "execution_count": 3,
      "outputs": [
        {
          "output_type": "stream",
          "name": "stdout",
          "text": [
            "Enter your word for checking isogram :- Consecutive\n",
            "False\n"
          ]
        }
      ]
    },
    {
      "cell_type": "markdown",
      "source": [
        "------------\n",
        "Question5\n",
        "Create a function that takes a string and returns True or False, depending on whether the\n",
        "characters are in order or not.\n",
        "######Examples\n",
        "######is_in_order(&quot;abc&quot;) ➞ True\n",
        "######is_in_order(&quot;edabit&quot;) ➞ False\n",
        "######is_in_order(&quot;123&quot;) ➞ True\n",
        "######is_in_order(&quot;xyzz&quot;) ➞ True\n",
        "Notes\n",
        "######You don&#39;t have to handle empty strings."
      ],
      "metadata": {
        "id": "SNNid99P4sin"
      }
    },
    {
      "cell_type": "code",
      "source": [
        "def order(string):\n",
        "  characters = list(string)\n",
        "  for i in range(len(characters) - 1):\n",
        "    if characters[i] > characters[i + 1]:\n",
        "      return False\n",
        "  return True\n",
        "val=input(\"Enter your value to check ordered or not :- \")\n",
        "res=order(val)\n",
        "print(res)"
      ],
      "metadata": {
        "colab": {
          "base_uri": "https://localhost:8080/"
        },
        "id": "BKDcLhAq4lSQ",
        "outputId": "6c3f928e-0c8b-4894-9a27-680a28491067"
      },
      "execution_count": 4,
      "outputs": [
        {
          "output_type": "stream",
          "name": "stdout",
          "text": [
            "Enter your value to check ordered or not :- edabit\n",
            "False\n"
          ]
        }
      ]
    },
    {
      "cell_type": "markdown",
      "source": [
        "----------\n",
        "----------"
      ],
      "metadata": {
        "id": "NlM7y0lm5y_a"
      }
    }
  ]
}