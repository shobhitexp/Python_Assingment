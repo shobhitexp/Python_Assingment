{
  "nbformat": 4,
  "nbformat_minor": 0,
  "metadata": {
    "colab": {
      "provenance": [],
      "authorship_tag": "ABX9TyPGogveNRdOug+h/rJBrqaB",
      "include_colab_link": true
    },
    "kernelspec": {
      "name": "python3",
      "display_name": "Python 3"
    },
    "language_info": {
      "name": "python"
    }
  },
  "cells": [
    {
      "cell_type": "markdown",
      "metadata": {
        "id": "view-in-github",
        "colab_type": "text"
      },
      "source": [
        "<a href=\"https://colab.research.google.com/github/shobhitexp/Python_Assingments/blob/Python_Programing/Python_Programing_Assignment_24.ipynb\" target=\"_parent\"><img src=\"https://colab.research.google.com/assets/colab-badge.svg\" alt=\"Open In Colab\"/></a>"
      ]
    },
    {
      "cell_type": "markdown",
      "source": [
        "#Assignment_24"
      ],
      "metadata": {
        "id": "jrpBscsdSwzJ"
      }
    },
    {
      "cell_type": "markdown",
      "source": [
        "Question1\n",
        "Create a function that takes an integer and returns a list from 1 to the given number, where:\n",
        "######1. If the number can be divided evenly by 4, amplify it by 10 (i.e. return 10 times the\n",
        "number).\n",
        "######2. If the number cannot be divided evenly by 4, simply return the number.\n",
        "######Examples\n",
        "######amplify(4) ➞ [1, 2, 3, 40]\n",
        "######amplify(3) ➞ [1, 2, 3]\n",
        "######amplify(25) ➞ [1, 2, 3, 40, 5, 6, 7, 80, 9, 10, 11, 120, 13, 14, 15, 160,\n",
        "17, 18, 19, 200, 21, 22, 23, 240, 25]\n",
        "######Notes\n",
        "###### The given integer will always be equal to or greater than 1.\n",
        "###### Include the number (see example above).\n",
        "###### To perform this problem with its intended purpose, try doing it with list\n",
        "comprehensions. If that&#39;s too difficult, just solve the challenge any way you can."
      ],
      "metadata": {
        "id": "2bB2GvMMS0UK"
      }
    },
    {
      "cell_type": "code",
      "source": [
        "def div(num):\n",
        "  for i in range(1, num + 1):\n",
        "    if i % 4 == 0:\n",
        "      yield i * 10\n",
        "    else:\n",
        "      yield i\n",
        "\n",
        "num = int(input(\"Enter your number :- \"))\n",
        "res = div(num)\n",
        "print(list(res))"
      ],
      "metadata": {
        "colab": {
          "base_uri": "https://localhost:8080/"
        },
        "id": "WK97JpGLZvPA",
        "outputId": "cf2ab95c-7814-4d15-d18d-ee5289192e88"
      },
      "execution_count": 9,
      "outputs": [
        {
          "output_type": "stream",
          "name": "stdout",
          "text": [
            "Enter your number :- 25\n",
            "[1, 2, 3, 40, 5, 6, 7, 80, 9, 10, 11, 120, 13, 14, 15, 160, 17, 18, 19, 200, 21, 22, 23, 240, 25]\n"
          ]
        }
      ]
    },
    {
      "cell_type": "markdown",
      "source": [
        "----------\n",
        "Question2\n",
        "Create a function that takes a list of numbers and return the number that&#39;s unique.\n",
        "######Examples\n",
        "######unique([3, 3, 3, 7, 3, 3]) ➞ 7\n",
        "######unique([0, 0, 0.77, 0, 0]) ➞ 0.77\n",
        "######unique([0, 1, 1, 1, 1, 1, 1, 1]) ➞ 0\n",
        "######Notes\n",
        "Test cases will always have exactly one unique number while all others are the same."
      ],
      "metadata": {
        "id": "raG2HcvAbs3d"
      }
    },
    {
      "cell_type": "code",
      "source": [
        "def uni(li):\n",
        "  for i in range(0,len(li)):\n",
        "    if li.count(li[i]) == 1:\n",
        "      return li[i]\n",
        "\n",
        "li=list(map(float,input(\"Enter your list :- \").strip().split(',')))\n",
        "uni(li)"
      ],
      "metadata": {
        "colab": {
          "base_uri": "https://localhost:8080/"
        },
        "id": "FsWbi1T9b8w6",
        "outputId": "79ecf5a9-fda3-4089-a19d-4177caf97dc0"
      },
      "execution_count": 14,
      "outputs": [
        {
          "name": "stdout",
          "output_type": "stream",
          "text": [
            "Enter your list :- 0,0,0.77,0,0\n"
          ]
        },
        {
          "output_type": "execute_result",
          "data": {
            "text/plain": [
              "0.77"
            ]
          },
          "metadata": {},
          "execution_count": 14
        }
      ]
    },
    {
      "cell_type": "markdown",
      "source": [
        "------------\n",
        "Question3\n",
        "Your task is to create a Circle constructor that creates a circle with a radius provided by an\n",
        "argument. The circles constructed must have two getters getArea() (PIr^2) and\n",
        "getPerimeter() (2PI*r) which give both respective areas and perimeter (circumference).\n",
        "\n",
        "For help with this class, I have provided you with a Rectangle constructor which you can use\n",
        "as a base example.\n",
        "######Examples\n",
        "circy = Circle(11)\n",
        "######circy.getArea()\n",
        "###### Should return 380.132711084365\n",
        "circy = Circle(4.44)\n",
        "######circy.getPerimeter()\n",
        " Should return 27.897342763877365\n",
        "######Notes\n",
        "Round results up to the nearest integer."
      ],
      "metadata": {
        "id": "mIpQebl-AB0C"
      }
    },
    {
      "cell_type": "code",
      "source": [
        "import math\n",
        "\n",
        "class Circle:\n",
        "    def __init__(self, radius):\n",
        "        self.radius = radius\n",
        "\n",
        "    def getArea(self):\n",
        "        return math.pi * self.radius ** 2\n",
        "\n",
        "    def getPerimeter(self):\n",
        "        return 2 * math.pi * self.radius\n",
        "\n",
        "radius = float(input(\"Enter the radius of the circle: \"))\n",
        "circle = Circle(radius)\n",
        "\n",
        "area = circle.getArea()\n",
        "perimeter = circle.getPerimeter()\n",
        "\n",
        "print(f\"Area of the circle: {area:.2f}\")\n",
        "print(f\"Perimeter of the circle: {perimeter:.2f}\")\n"
      ],
      "metadata": {
        "colab": {
          "base_uri": "https://localhost:8080/"
        },
        "id": "68AXUpzpdyhO",
        "outputId": "87295354-d32e-4119-9793-452ad9b0aaa2"
      },
      "execution_count": 15,
      "outputs": [
        {
          "output_type": "stream",
          "name": "stdout",
          "text": [
            "Enter the radius of the circle: 11\n",
            "Area of the circle: 380.13\n",
            "Perimeter of the circle: 69.12\n"
          ]
        }
      ]
    },
    {
      "cell_type": "markdown",
      "source": [
        "----------\n",
        "Question4\n",
        "Create a function that takes a list of strings and return a list, sorted from shortest to longest.\n",
        "######Examples\n",
        "######sort_by_length([&quot;Google&quot;, &quot;Apple&quot;, &quot;Microsoft&quot;])\n",
        "######➞ [&quot;Apple&quot;, &quot;Google&quot;, &quot;Microsoft&quot;]\n",
        "sort_by_length([&quot;Leonardo&quot;, &quot;Michelangelo&quot;, &quot;Raphael&quot;, &quot;Donatello&quot;])\n",
        "######➞ [&quot;Raphael&quot;, &quot;Leonardo&quot;, &quot;Donatello&quot;, &quot;Michelangelo&quot;]\n",
        "######sort_by_length([&quot;Turing&quot;, &quot;Einstein&quot;, &quot;Jung&quot;])\n",
        "➞ [&quot;Jung&quot;, &quot;Turing&quot;, &quot;Einstein&quot;]\n",
        "######Notes\n",
        "All test cases contain lists with strings of different lengths, so you won&#39;t have to deal with\n",
        "multiple strings of the same length."
      ],
      "metadata": {
        "id": "1CEYRPjzAztN"
      }
    },
    {
      "cell_type": "code",
      "source": [
        "def arr(lis):\n",
        "  l=sorted(lis, key=len)\n",
        "  return l[::-1]\n",
        "\n",
        "lis=list(map(str,input(\"Enter your list :- \").strip().split(',')))\n",
        "arr(lis)"
      ],
      "metadata": {
        "colab": {
          "base_uri": "https://localhost:8080/"
        },
        "id": "WBPIHy7CAqcz",
        "outputId": "3d6c68db-d51b-42cf-8a02-66252a1329d1"
      },
      "execution_count": 30,
      "outputs": [
        {
          "name": "stdout",
          "output_type": "stream",
          "text": [
            "Enter your list :- \"Jung\",\"Turing\",\"Einstein\"\n"
          ]
        },
        {
          "output_type": "execute_result",
          "data": {
            "text/plain": [
              "['\"Einstein\"', '\"Turing\"', '\"Jung\"']"
            ]
          },
          "metadata": {},
          "execution_count": 30
        }
      ]
    },
    {
      "cell_type": "markdown",
      "source": [
        "---------\n",
        "Question5\n",
        "Create a function that validates whether three given integers form a Pythagorean triplet. The\n",
        "sum of the squares of the two smallest integers must equal the square of the largest number to\n",
        "be validated.\n",
        "\n",
        "######Examples\n",
        "is_triplet(3, 4, 5) ➞ True\n",
        "###### 3² + 4² = 25\n",
        "###### 5² = 25\n",
        "is_triplet(13, 5, 12) ➞ True\n",
        "###### 5² + 12² = 169\n",
        "###### 13² = 169\n",
        "is_triplet(1, 2, 3) ➞ False\n",
        "###### 1² + 2² = 5\n",
        "###### 3² = 9\n",
        "Notes\n",
        "######Numbers may not be given in a sorted order."
      ],
      "metadata": {
        "id": "tkJhB05vExM_"
      }
    },
    {
      "cell_type": "code",
      "source": [
        "def tri(a,b,c):\n",
        "  if (a**2) + (b**2) == (c**2):\n",
        "    return True\n",
        "  return False\n",
        "a,b,c=map(int,input(\"Enter your Number :- \").strip().split(','))\n",
        "tri(a,b,c)"
      ],
      "metadata": {
        "colab": {
          "base_uri": "https://localhost:8080/"
        },
        "id": "Kp_u8N8ZBV17",
        "outputId": "73c27b43-e07f-4af4-c6ca-4ce5d56a0801"
      },
      "execution_count": 33,
      "outputs": [
        {
          "name": "stdout",
          "output_type": "stream",
          "text": [
            "Enter your Number :- 3,4,5\n"
          ]
        },
        {
          "output_type": "execute_result",
          "data": {
            "text/plain": [
              "True"
            ]
          },
          "metadata": {},
          "execution_count": 33
        }
      ]
    },
    {
      "cell_type": "markdown",
      "source": [
        "-------------\n",
        "-------------"
      ],
      "metadata": {
        "id": "tVcJaQiCF_gn"
      }
    }
  ]
}