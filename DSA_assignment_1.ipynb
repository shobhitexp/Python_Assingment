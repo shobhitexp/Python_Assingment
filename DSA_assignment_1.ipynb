{
  "nbformat": 4,
  "nbformat_minor": 0,
  "metadata": {
    "colab": {
      "provenance": []
    },
    "kernelspec": {
      "name": "python3",
      "display_name": "Python 3"
    },
    "language_info": {
      "name": "python"
    }
  },
  "cells": [
    {
      "cell_type": "markdown",
      "source": [
        "**Q1.** Given an array of integers nums and an integer target, return indices of the two numbers such that they add up to target.\n",
        "\n",
        "You may assume that each input would have exactly one solution, and you may not use the same element twice.\n",
        "\n",
        "You can return the answer in any order.\n",
        "\n",
        "**Example:**\n",
        "Input: nums = [2,7,11,15], target = 9\n",
        "Output0 [0,1]\n",
        "\n",
        "**Explanation:** Because nums[0] + nums[1] == 9, we return [0, 1]["
      ],
      "metadata": {
        "id": "opGqRNGA9hg1"
      }
    },
    {
      "cell_type": "code",
      "source": [
        "#1\n",
        "nums = [2,7,11,15]\n",
        "target = 9\n",
        "for i in range(0,len(nums)):\n",
        "  for j in range(1,len(nums)):\n",
        "    if nums[i]+nums[j]==target:\n",
        "      print(\"[\",i,j,\"]\")\n",
        "    else:\n",
        "      j+=1\n",
        "  i=i+1"
      ],
      "metadata": {
        "colab": {
          "base_uri": "https://localhost:8080/"
        },
        "id": "FTjiCm8T4xzR",
        "outputId": "9aee4536-c2e2-4b8f-fb4c-69394dbf482d"
      },
      "execution_count": 2,
      "outputs": [
        {
          "output_type": "stream",
          "name": "stdout",
          "text": [
            "[ 0 1 ]\n"
          ]
        }
      ]
    },
    {
      "cell_type": "markdown",
      "source": [
        "**Q2.** Given an integer array nums and an integer val, remove all occurrences of val in nums in-place. The order of the elements may be changed. Then return the number of elements in nums which are not equal to val.\n",
        "\n",
        "Consider the number of elements in nums which are not equal to val be k, to get accepted, you need to do the following things:\n",
        "\n",
        "- Change the array nums such that the first k elements of nums contain the elements which are not equal to val. The remaining elements of nums are not important as well as the size of nums.\n",
        "- Return k.\n",
        "\n",
        "**Example :**\n",
        "Input: nums = [3,2,2,3], val = 3\n",
        "Output: 2, nums = [2,2,_*,_*]\n",
        "\n",
        "**Explanation:** Your function should return k = 2, with the first two elements of nums being 2. It does not matter what you leave beyond the returned k (hence they are underscores)["
      ],
      "metadata": {
        "id": "wUJbSVvV9oVI"
      }
    },
    {
      "cell_type": "code",
      "source": [
        "#2\n",
        "def remove_element(nums, val):\n",
        "    k = 0 \n",
        "    for i in range(len(nums)):\n",
        "        if nums[i] != val:\n",
        "            nums[k] = nums[i]\n",
        "            k += 1\n",
        "    for i in range(k, len(nums)):\n",
        "        nums[i] = '_'\n",
        "    return k, nums\n",
        "nums = [3, 2, 2, 3]\n",
        "val = 3\n",
        "count, updated_nums = remove_element(nums, val)\n",
        "print(\"Output:\",count,\"nums = \",updated_nums)"
      ],
      "metadata": {
        "colab": {
          "base_uri": "https://localhost:8080/"
        },
        "id": "FCUvIps05NNB",
        "outputId": "358fe823-088a-4166-81d2-7c7b4fcaa972"
      },
      "execution_count": 3,
      "outputs": [
        {
          "output_type": "stream",
          "name": "stdout",
          "text": [
            "Output: 2 nums =  [2, 2, '_', '_']\n"
          ]
        }
      ]
    },
    {
      "cell_type": "markdown",
      "source": [
        "**Q3.** Given a sorted array of distinct integers and a target value, return the index if the target is found. If not, return the index where it would be if it were inserted in order.\n",
        "\n",
        "You must write an algorithm with O(log n) runtime complexity.\n",
        "\n",
        "**Example 1:**\n",
        "Input: nums = [1,3,5,6], target = 5\n",
        "\n",
        "Output: 2"
      ],
      "metadata": {
        "id": "kSbKPskM9zu1"
      }
    },
    {
      "cell_type": "code",
      "source": [
        "#3\n",
        "arr=[11,12,13,15,17,18,22,24,25,26]\n",
        "target=22\n",
        "def binary_search(arr, target):  \n",
        "    low = 0  \n",
        "    high = len(list1) - 1  \n",
        "    mid = 0  \n",
        "  \n",
        "    while low <= high:   \n",
        "        mid = (high + low)//2  #// this is used for getting int value\n",
        "        if list1[mid] < n:  \n",
        "            low = mid + 1  \n",
        " \n",
        "        elif list1[mid] > n:  \n",
        "            high = mid - 1  \n",
        "  \n",
        "        else:  \n",
        "            return mid  \n",
        "\n",
        "    return -1  \n",
        "list1 = [12, 24, 32, 39, 45, 50, 54]  \n",
        "n = 45  \n",
        "  \n",
        "# Function call   \n",
        "result = binary_search(list1, n)  \n",
        "# Printing the result\n",
        "if result != -1:  \n",
        "    print(\"Target found at index = \",str(result))  \n",
        "else:  \n",
        "    print(\"Element is not present in list1\") "
      ],
      "metadata": {
        "id": "299d5An85NJb"
      },
      "execution_count": null,
      "outputs": []
    },
    {
      "cell_type": "markdown",
      "source": [
        "**Q4.** You are given a large integer represented as an integer array digits, where each digits[i] is the ith digit of the integer. The digits are ordered from most significant to least significant in left-to-right order. The large integer does not contain any leading 0's.\n",
        "\n",
        "Increment the large integer by one and return the resulting array of digits.\n",
        "\n",
        "**Example 1:**\n",
        "Input: digits = [1,2,3]\n",
        "Output: [1,2,4]\n",
        "\n",
        "**Explanation:** The array represents the integer 123.\n",
        "\n",
        "Incrementing by one gives 123 + 1 = 124.\n",
        "Thus, the result should be [1,2,4]."
      ],
      "metadata": {
        "id": "mZfKkUt993mn"
      }
    },
    {
      "cell_type": "code",
      "source": [
        "#4\n",
        "def plusone(digits):\n",
        "    n=len(digits)\n",
        "    for i in range(n-1,-1,-1):\n",
        "        if digits[i]<9:\n",
        "            digits[i]+=1\n",
        "            return digits\n",
        "        digits[i] = 0\n",
        "    return[1]+digits\n",
        "digits = [1, 2, 3]\n",
        "result = plusone(digits)\n",
        "print(result)"
      ],
      "metadata": {
        "id": "CyGYzA8p5NFj"
      },
      "execution_count": null,
      "outputs": []
    },
    {
      "cell_type": "markdown",
      "source": [
        "**Q5.** You are given two integer arrays nums1 and nums2, sorted in non-decreasing order, and two integers m and n, representing the number of elements in nums1 and nums2 respectively.\n",
        "\n",
        "Merge nums1 and nums2 into a single array sorted in non-decreasing order.\n",
        "\n",
        "The final sorted array should not be returned by the function, but instead be stored inside the array nums1. To accommodate this, nums1 has a length of m + n, where the first m elements denote the elements that should be merged, and the last n elements are set to 0 and should be ignored. nums2 has a length of n.\n",
        "\n",
        "**Example 1:**\n",
        "Input: nums1 = [1,2,3,0,0,0], m = 3, nums2 = [2,5,6], n = 3\n",
        "Output: [1,2,2,3,5,6]\n",
        "\n",
        "**Explanation:** The arrays we are merging are [1,2,3] and [2,5,6].\n",
        "The result of the merge is [1,2,2,3,5,6] with the underlined elements coming from nums1."
      ],
      "metadata": {
        "id": "Wyx-mxpw99_m"
      }
    },
    {
      "cell_type": "code",
      "source": [
        "#5\n",
        "num1=[1,2,3,0,0,0]\n",
        "m=3\n",
        "num2=[2,5,6]\n",
        "n=3\n",
        "for i in range(0,len(num2)):\n",
        "  num1[m]=num2[i]\n",
        "  m+=1\n",
        "for i in range(len(num1)):\n",
        "  for j in range(i + 1, len(num1)):\n",
        "    if num1[i] > num1[j]:\n",
        "      num1[i], num1[j] = num1[j], num1[i]\n",
        "print(num1)"
      ],
      "metadata": {
        "id": "JEx3cO5U5NAl"
      },
      "execution_count": null,
      "outputs": []
    },
    {
      "cell_type": "markdown",
      "source": [
        "**Q6.** Given an integer array nums, return true if any value appears at least twice in the array, and return false if every element is distinct.\n",
        "\n",
        "**Example 1:**\n",
        "Input: nums = [1,2,3,1]\n",
        "\n",
        "Output: true"
      ],
      "metadata": {
        "id": "Z6xmktt3-FDz"
      }
    },
    {
      "cell_type": "code",
      "source": [
        "#6\n",
        "num = [1,2,3,1]\n",
        "for i in range(len(num)):\n",
        "  for j in range(i+1,len(num)):\n",
        "    if num[i]==num[j]:\n",
        "      print(\"True\")\n"
      ],
      "metadata": {
        "id": "fiIn7rGz5M6t"
      },
      "execution_count": null,
      "outputs": []
    },
    {
      "cell_type": "markdown",
      "source": [
        "**Q7.** Given an integer array nums, move all 0's to the end of it while maintaining the relative order of the nonzero elements.\n",
        "\n",
        "Note that you must do this in-place without making a copy of the array.\n",
        "\n",
        "**Example 1:**\n",
        "Input: nums = [0,1,0,3,12]\n",
        "Output: [1,3,12,0,0]"
      ],
      "metadata": {
        "id": "RSs3xDBQ-LBU"
      }
    },
    {
      "cell_type": "code",
      "execution_count": 1,
      "metadata": {
        "colab": {
          "base_uri": "https://localhost:8080/"
        },
        "id": "KmE6x8T14wq1",
        "outputId": "b71bfcb1-a067-4abd-f8f0-bfd2e3d8e8d0"
      },
      "outputs": [
        {
          "output_type": "stream",
          "name": "stdout",
          "text": [
            "[1, 3, 12, 0, 0]\n"
          ]
        }
      ],
      "source": [
        "#7\n",
        "def moveZeroes(nums):\n",
        "    left = right = 0\n",
        "\n",
        "    while right < len(nums):\n",
        "        if nums[right] != 0:\n",
        "            nums[left], nums[right] = nums[right], nums[left]\n",
        "            left += 1\n",
        "        right += 1\n",
        "\n",
        "    for i in range(left, len(nums)):\n",
        "        nums[i] = 0\n",
        "\n",
        "    return nums\n",
        "nums = [0, 1, 0, 3, 12]\n",
        "result = moveZeroes(nums)\n",
        "print(result)"
      ]
    },
    {
      "cell_type": "markdown",
      "source": [
        "**Q8.** You have a set of integers s, which originally contains all the numbers from 1 to n. Unfortunately, due to some error, one of the numbers in s got duplicated to another number in the set, which results in repetition of one number and loss of another number.\n",
        "\n",
        "You are given an integer array nums representing the data status of this set after the error.\n",
        "\n",
        "Find the number that occurs twice and the number that is missing and return them in the form of an array.\n",
        "\n",
        "**Example 1:**\n",
        "Input: nums = [1,2,2,4]\n",
        "Output: [2,3]"
      ],
      "metadata": {
        "id": "Uj0SMhmC-Op9"
      }
    },
    {
      "cell_type": "code",
      "source": [
        "#8\n",
        "nums = [1,2,2,4]\n",
        "si=len(nums)\n",
        "j=[list]\n",
        "for i in range(len(nums)):\n",
        "  for j in range(i+1,len(nums)):\n",
        "    if nums[i]==nums[j]:\n",
        "      print(\"[\",nums[i],\",\",j+1,\"]\")\n",
        "      "
      ],
      "metadata": {
        "colab": {
          "base_uri": "https://localhost:8080/"
        },
        "id": "G9h2mJMI5gA-",
        "outputId": "989390c6-1f42-4734-8ba9-d32287f2d997"
      },
      "execution_count": 28,
      "outputs": [
        {
          "output_type": "stream",
          "name": "stdout",
          "text": [
            "[ 2 , 3 ]\n"
          ]
        }
      ]
    },
    {
      "cell_type": "code",
      "source": [],
      "metadata": {
        "id": "_kJ19RIU6gHN"
      },
      "execution_count": null,
      "outputs": []
    }
  ]
}