{
  "nbformat": 4,
  "nbformat_minor": 0,
  "metadata": {
    "colab": {
      "provenance": [],
      "authorship_tag": "ABX9TyMasPGy0CqWgbVG3uYVmq8u",
      "include_colab_link": true
    },
    "kernelspec": {
      "name": "python3",
      "display_name": "Python 3"
    },
    "language_info": {
      "name": "python"
    }
  },
  "cells": [
    {
      "cell_type": "markdown",
      "metadata": {
        "id": "view-in-github",
        "colab_type": "text"
      },
      "source": [
        "<a href=\"https://colab.research.google.com/github/shobhitexp/Python_Assingments/blob/Advance_python_assignments/Advance_python_02.ipynb\" target=\"_parent\"><img src=\"https://colab.research.google.com/assets/colab-badge.svg\" alt=\"Open In Colab\"/></a>"
      ]
    },
    {
      "cell_type": "markdown",
      "source": [
        "## Assignment 02 Adv_python"
      ],
      "metadata": {
        "id": "C2ne-P5kCigL"
      }
    },
    {
      "cell_type": "markdown",
      "source": [
        "Q1. What is the relationship between classes and modules?\n",
        "#####Answer :- Modules are collections of methods and constants. They cannot generate instances. Classes may generate instances (objects), and have per-instance state (instance variables).\n",
        "\n",
        "Modules may be mixed in to classes and other modules. The mixed in module’s constants and methods blend into that class’s own, augmenting the class’s functionality. Classes, however, cannot be mixed in to anything.\n",
        "\n",
        "A class may inherit from another class, but not from a module.\n",
        "\n",
        "A module may not inherit from anything."
      ],
      "metadata": {
        "id": "uKhnbhVi89GP"
      }
    },
    {
      "cell_type": "markdown",
      "source": [
        "-----------\n",
        "#####Q2. How do you make instances and classes?\n",
        "Answer :- To create instances of a class, you call the class using class name and pass in whatever arguments its __init__ method accepts."
      ],
      "metadata": {
        "id": "bnoo0Nij9_1Y"
      }
    },
    {
      "cell_type": "markdown",
      "source": [
        "---------\n",
        "Q3. Where and how should be class attributes created?\n",
        "#####Answer :- Class attributes belong to the class itself they will be shared by all the instances. Such attributes are defined in the class body parts usually at the top, for legibility.\n",
        "#####Unlike class attributes, instance attributes are not shared by objects. Every object has its own copy of the instance attribute (In case of class attributes all object refer to single copy)."
      ],
      "metadata": {
        "id": "ekUQ0PA4AULd"
      }
    },
    {
      "cell_type": "markdown",
      "source": [
        "---------\n",
        "Q4. Where and how are instance attributes created?\n",
        "Answer :- An instance attribute is a Python variable belonging to only one object. It is only accessible in the scope of the object and it is defined inside the constructor function of a class."
      ],
      "metadata": {
        "id": "iFOVEKo1Ausr"
      }
    },
    {
      "cell_type": "markdown",
      "source": [
        "----------\n",
        "Q5. What does the term &quot;self&quot; in a Python class mean?\n",
        "######Answer :- self represents the instance of the class. By using the “self”  we can access the attributes and methods of the class in python. It binds the attributes with the given arguments.\n",
        "\n",
        "The reason you need to use self. is because Python does not use the @ syntax to refer to instance attributes. Python decided to do methods in a way that makes the instance to which the method belongs be passed automatically, but not received automatically: the first parameter of methods is the instance the method is called on."
      ],
      "metadata": {
        "id": "SglIudn3A3aG"
      }
    },
    {
      "cell_type": "markdown",
      "source": [
        "---------\n",
        "Q6. How does a Python class handle operator overloading?\n",
        "#####Answer :- To perform operator overloading, Python provides some special function or magic function that is automatically invoked when it is associated with that particular operator. For example, when we use + operator, the magic method __add__ is automatically invoked in which the operation for + operator is defined."
      ],
      "metadata": {
        "id": "baqTWalXBGku"
      }
    },
    {
      "cell_type": "markdown",
      "source": [
        "-----------\n",
        "Q7. When do you consider allowing operator overloading of your classes?\n",
        "###### Answer :- Ensures that objects of a class behave consistently with built-in types and other user-defined types. Makes it simpler to write code, especially for complex data types. Allows for code reuse by implementing one operator method and using it for other operators."
      ],
      "metadata": {
        "id": "AOfP9X_lBio3"
      }
    },
    {
      "cell_type": "markdown",
      "source": [
        "----------\n",
        "Q8. What is the most popular form of operator overloading?\n",
        "#####Answer :- The most common use of the addition operator '+' is for concatenating and combining two different strings. As mentioned on top, the plus symbol's practice in dissimilar forms is the largest classic example of the operator-level overloading process."
      ],
      "metadata": {
        "id": "GNfx7zRNBvG-"
      }
    },
    {
      "cell_type": "markdown",
      "source": [
        "-------------\n",
        "Q9. What are the two most important concepts to grasp in order to comprehend Python OOP code?\n",
        "Answer :- Both inheritance and polymorphism are fundamental concepts of object oriented programming."
      ],
      "metadata": {
        "id": "66qzaCKQCHxh"
      }
    },
    {
      "cell_type": "markdown",
      "source": [
        "----------\n",
        "----------"
      ],
      "metadata": {
        "id": "jF8j6zdtCgVb"
      }
    }
  ]
}